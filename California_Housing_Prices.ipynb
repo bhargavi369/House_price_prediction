{
  "nbformat": 4,
  "nbformat_minor": 0,
  "metadata": {
    "kernelspec": {
      "display_name": "Python 3",
      "language": "python",
      "name": "python3"
    },
    "language_info": {
      "codemirror_mode": {
        "name": "ipython",
        "version": 3
      },
      "file_extension": ".py",
      "mimetype": "text/x-python",
      "name": "python",
      "nbconvert_exporter": "python",
      "pygments_lexer": "ipython3",
      "version": "3.7.8"
    },
    "colab": {
      "name": "California Housing Prices.ipynb",
      "provenance": [],
      "collapsed_sections": [
        "3zT5YKE6ExOg",
        "5t_si0jdExOn",
        "3VFTmi27ExOt",
        "fcqcpuBnExOv",
        "xsKntNzWExOw",
        "WWXA1UPaExOx",
        "crwxCa3eExOy",
        "VM2qHHYBExOz",
        "0BLssVV1ExO0",
        "Oc89QA2kExO1",
        "MohqDtvSExO2",
        "-55vOHQ0ExO2",
        "mMKJqBBEExO3",
        "e5bLdMPdExO5",
        "BlhhyCA6EJYw",
        "iwS1FfCANahe",
        "64BPpQR-27-b"
      ],
      "include_colab_link": true
    },
    "accelerator": "TPU"
  },
  "cells": [
    {
      "cell_type": "markdown",
      "metadata": {
        "id": "view-in-github",
        "colab_type": "text"
      },
      "source": [
        "<a href=\"https://colab.research.google.com/github/Tejas-TA/Machine-Learning-Prediction-of-California-House-Prices/blob/main/California_Housing_Prices.ipynb\" target=\"_parent\"><img src=\"https://colab.research.google.com/assets/colab-badge.svg\" alt=\"Open In Colab\"/></a>"
      ]
    },
    {
      "cell_type": "markdown",
      "metadata": {
        "id": "-1tbevuZExOf"
      },
      "source": [
        "# **California Housing Prices Prediction - Machine Learning**\n",
        "\n"
      ]
    },
    {
      "cell_type": "markdown",
      "metadata": {
        "id": "3zT5YKE6ExOg"
      },
      "source": [
        "### Exploratory Data Analysis (EDA)"
      ]
    },
    {
      "cell_type": "code",
      "metadata": {
        "colab": {
          "base_uri": "https://localhost:8080/"
        },
        "id": "llJRbIncGN9f",
        "outputId": "8f906bc0-c35c-49b0-e590-aeb43763bb03"
      },
      "source": [
        "from google.colab import drive\n",
        "drive.mount('/content/drive')"
      ],
      "execution_count": 1,
      "outputs": [
        {
          "output_type": "stream",
          "text": [
            "Drive already mounted at /content/drive; to attempt to forcibly remount, call drive.mount(\"/content/drive\", force_remount=True).\n"
          ],
          "name": "stdout"
        }
      ]
    },
    {
      "cell_type": "code",
      "metadata": {
        "id": "amLePjDeExOh"
      },
      "source": [
        "# Using pandas for Data Analysis and Data Manipulation\n",
        "import pandas as pd\n",
        "df = pd.read_csv(\"/content/drive/MyDrive/housing.csv\")"
      ],
      "execution_count": 2,
      "outputs": []
    },
    {
      "cell_type": "code",
      "metadata": {
        "colab": {
          "base_uri": "https://localhost:8080/",
          "height": 354
        },
        "id": "pJK1-fLnExOi",
        "outputId": "6278f391-6374-4d9c-9550-8982aff8ed74"
      },
      "source": [
        "#Examining first 10 values of all features\n",
        "df.head(10)"
      ],
      "execution_count": 3,
      "outputs": [
        {
          "output_type": "execute_result",
          "data": {
            "text/html": [
              "<div>\n",
              "<style scoped>\n",
              "    .dataframe tbody tr th:only-of-type {\n",
              "        vertical-align: middle;\n",
              "    }\n",
              "\n",
              "    .dataframe tbody tr th {\n",
              "        vertical-align: top;\n",
              "    }\n",
              "\n",
              "    .dataframe thead th {\n",
              "        text-align: right;\n",
              "    }\n",
              "</style>\n",
              "<table border=\"1\" class=\"dataframe\">\n",
              "  <thead>\n",
              "    <tr style=\"text-align: right;\">\n",
              "      <th></th>\n",
              "      <th>longitude</th>\n",
              "      <th>latitude</th>\n",
              "      <th>housing_median_age</th>\n",
              "      <th>total_rooms</th>\n",
              "      <th>total_bedrooms</th>\n",
              "      <th>population</th>\n",
              "      <th>households</th>\n",
              "      <th>median_income</th>\n",
              "      <th>ocean_proximity</th>\n",
              "      <th>median_house_value</th>\n",
              "    </tr>\n",
              "  </thead>\n",
              "  <tbody>\n",
              "    <tr>\n",
              "      <th>0</th>\n",
              "      <td>-122.23</td>\n",
              "      <td>37.88</td>\n",
              "      <td>41</td>\n",
              "      <td>880</td>\n",
              "      <td>129.0</td>\n",
              "      <td>322</td>\n",
              "      <td>126</td>\n",
              "      <td>8.3252</td>\n",
              "      <td>NEAR BAY</td>\n",
              "      <td>452600</td>\n",
              "    </tr>\n",
              "    <tr>\n",
              "      <th>1</th>\n",
              "      <td>-122.22</td>\n",
              "      <td>37.86</td>\n",
              "      <td>21</td>\n",
              "      <td>7099</td>\n",
              "      <td>1106.0</td>\n",
              "      <td>2401</td>\n",
              "      <td>1138</td>\n",
              "      <td>8.3014</td>\n",
              "      <td>NEAR BAY</td>\n",
              "      <td>358500</td>\n",
              "    </tr>\n",
              "    <tr>\n",
              "      <th>2</th>\n",
              "      <td>-122.24</td>\n",
              "      <td>37.85</td>\n",
              "      <td>52</td>\n",
              "      <td>1467</td>\n",
              "      <td>190.0</td>\n",
              "      <td>496</td>\n",
              "      <td>177</td>\n",
              "      <td>7.2574</td>\n",
              "      <td>NEAR BAY</td>\n",
              "      <td>352100</td>\n",
              "    </tr>\n",
              "    <tr>\n",
              "      <th>3</th>\n",
              "      <td>-122.25</td>\n",
              "      <td>37.85</td>\n",
              "      <td>52</td>\n",
              "      <td>1274</td>\n",
              "      <td>235.0</td>\n",
              "      <td>558</td>\n",
              "      <td>219</td>\n",
              "      <td>5.6431</td>\n",
              "      <td>NEAR BAY</td>\n",
              "      <td>341300</td>\n",
              "    </tr>\n",
              "    <tr>\n",
              "      <th>4</th>\n",
              "      <td>-122.25</td>\n",
              "      <td>37.85</td>\n",
              "      <td>52</td>\n",
              "      <td>1627</td>\n",
              "      <td>280.0</td>\n",
              "      <td>565</td>\n",
              "      <td>259</td>\n",
              "      <td>3.8462</td>\n",
              "      <td>NEAR BAY</td>\n",
              "      <td>342200</td>\n",
              "    </tr>\n",
              "    <tr>\n",
              "      <th>5</th>\n",
              "      <td>-122.25</td>\n",
              "      <td>37.85</td>\n",
              "      <td>52</td>\n",
              "      <td>919</td>\n",
              "      <td>213.0</td>\n",
              "      <td>413</td>\n",
              "      <td>193</td>\n",
              "      <td>4.0368</td>\n",
              "      <td>NEAR BAY</td>\n",
              "      <td>269700</td>\n",
              "    </tr>\n",
              "    <tr>\n",
              "      <th>6</th>\n",
              "      <td>-122.25</td>\n",
              "      <td>37.84</td>\n",
              "      <td>52</td>\n",
              "      <td>2535</td>\n",
              "      <td>489.0</td>\n",
              "      <td>1094</td>\n",
              "      <td>514</td>\n",
              "      <td>3.6591</td>\n",
              "      <td>NEAR BAY</td>\n",
              "      <td>299200</td>\n",
              "    </tr>\n",
              "    <tr>\n",
              "      <th>7</th>\n",
              "      <td>-122.25</td>\n",
              "      <td>37.84</td>\n",
              "      <td>52</td>\n",
              "      <td>3104</td>\n",
              "      <td>687.0</td>\n",
              "      <td>1157</td>\n",
              "      <td>647</td>\n",
              "      <td>3.1200</td>\n",
              "      <td>NEAR BAY</td>\n",
              "      <td>241400</td>\n",
              "    </tr>\n",
              "    <tr>\n",
              "      <th>8</th>\n",
              "      <td>-122.26</td>\n",
              "      <td>37.84</td>\n",
              "      <td>42</td>\n",
              "      <td>2555</td>\n",
              "      <td>665.0</td>\n",
              "      <td>1206</td>\n",
              "      <td>595</td>\n",
              "      <td>2.0804</td>\n",
              "      <td>NEAR BAY</td>\n",
              "      <td>226700</td>\n",
              "    </tr>\n",
              "    <tr>\n",
              "      <th>9</th>\n",
              "      <td>-122.25</td>\n",
              "      <td>37.84</td>\n",
              "      <td>52</td>\n",
              "      <td>3549</td>\n",
              "      <td>707.0</td>\n",
              "      <td>1551</td>\n",
              "      <td>714</td>\n",
              "      <td>3.6912</td>\n",
              "      <td>NEAR BAY</td>\n",
              "      <td>261100</td>\n",
              "    </tr>\n",
              "  </tbody>\n",
              "</table>\n",
              "</div>"
            ],
            "text/plain": [
              "   longitude  latitude  ...  ocean_proximity  median_house_value\n",
              "0    -122.23     37.88  ...         NEAR BAY              452600\n",
              "1    -122.22     37.86  ...         NEAR BAY              358500\n",
              "2    -122.24     37.85  ...         NEAR BAY              352100\n",
              "3    -122.25     37.85  ...         NEAR BAY              341300\n",
              "4    -122.25     37.85  ...         NEAR BAY              342200\n",
              "5    -122.25     37.85  ...         NEAR BAY              269700\n",
              "6    -122.25     37.84  ...         NEAR BAY              299200\n",
              "7    -122.25     37.84  ...         NEAR BAY              241400\n",
              "8    -122.26     37.84  ...         NEAR BAY              226700\n",
              "9    -122.25     37.84  ...         NEAR BAY              261100\n",
              "\n",
              "[10 rows x 10 columns]"
            ]
          },
          "metadata": {
            "tags": []
          },
          "execution_count": 3
        }
      ]
    },
    {
      "cell_type": "code",
      "metadata": {
        "colab": {
          "base_uri": "https://localhost:8080/",
          "height": 354
        },
        "id": "qFl_kCqeExOj",
        "outputId": "18ee07b8-f9c9-4351-cf21-d117f99568f7"
      },
      "source": [
        "#Examining last 10 values of all features\n",
        "df.tail(10)"
      ],
      "execution_count": 4,
      "outputs": [
        {
          "output_type": "execute_result",
          "data": {
            "text/html": [
              "<div>\n",
              "<style scoped>\n",
              "    .dataframe tbody tr th:only-of-type {\n",
              "        vertical-align: middle;\n",
              "    }\n",
              "\n",
              "    .dataframe tbody tr th {\n",
              "        vertical-align: top;\n",
              "    }\n",
              "\n",
              "    .dataframe thead th {\n",
              "        text-align: right;\n",
              "    }\n",
              "</style>\n",
              "<table border=\"1\" class=\"dataframe\">\n",
              "  <thead>\n",
              "    <tr style=\"text-align: right;\">\n",
              "      <th></th>\n",
              "      <th>longitude</th>\n",
              "      <th>latitude</th>\n",
              "      <th>housing_median_age</th>\n",
              "      <th>total_rooms</th>\n",
              "      <th>total_bedrooms</th>\n",
              "      <th>population</th>\n",
              "      <th>households</th>\n",
              "      <th>median_income</th>\n",
              "      <th>ocean_proximity</th>\n",
              "      <th>median_house_value</th>\n",
              "    </tr>\n",
              "  </thead>\n",
              "  <tbody>\n",
              "    <tr>\n",
              "      <th>20630</th>\n",
              "      <td>-121.32</td>\n",
              "      <td>39.29</td>\n",
              "      <td>11</td>\n",
              "      <td>2640</td>\n",
              "      <td>505.0</td>\n",
              "      <td>1257</td>\n",
              "      <td>445</td>\n",
              "      <td>3.5673</td>\n",
              "      <td>INLAND</td>\n",
              "      <td>112000</td>\n",
              "    </tr>\n",
              "    <tr>\n",
              "      <th>20631</th>\n",
              "      <td>-121.40</td>\n",
              "      <td>39.33</td>\n",
              "      <td>15</td>\n",
              "      <td>2655</td>\n",
              "      <td>493.0</td>\n",
              "      <td>1200</td>\n",
              "      <td>432</td>\n",
              "      <td>3.5179</td>\n",
              "      <td>INLAND</td>\n",
              "      <td>107200</td>\n",
              "    </tr>\n",
              "    <tr>\n",
              "      <th>20632</th>\n",
              "      <td>-121.45</td>\n",
              "      <td>39.26</td>\n",
              "      <td>15</td>\n",
              "      <td>2319</td>\n",
              "      <td>416.0</td>\n",
              "      <td>1047</td>\n",
              "      <td>385</td>\n",
              "      <td>3.1250</td>\n",
              "      <td>INLAND</td>\n",
              "      <td>115600</td>\n",
              "    </tr>\n",
              "    <tr>\n",
              "      <th>20633</th>\n",
              "      <td>-121.53</td>\n",
              "      <td>39.19</td>\n",
              "      <td>27</td>\n",
              "      <td>2080</td>\n",
              "      <td>412.0</td>\n",
              "      <td>1082</td>\n",
              "      <td>382</td>\n",
              "      <td>2.5495</td>\n",
              "      <td>INLAND</td>\n",
              "      <td>98300</td>\n",
              "    </tr>\n",
              "    <tr>\n",
              "      <th>20634</th>\n",
              "      <td>-121.56</td>\n",
              "      <td>39.27</td>\n",
              "      <td>28</td>\n",
              "      <td>2332</td>\n",
              "      <td>395.0</td>\n",
              "      <td>1041</td>\n",
              "      <td>344</td>\n",
              "      <td>3.7125</td>\n",
              "      <td>INLAND</td>\n",
              "      <td>116800</td>\n",
              "    </tr>\n",
              "    <tr>\n",
              "      <th>20635</th>\n",
              "      <td>-121.09</td>\n",
              "      <td>39.48</td>\n",
              "      <td>25</td>\n",
              "      <td>1665</td>\n",
              "      <td>374.0</td>\n",
              "      <td>845</td>\n",
              "      <td>330</td>\n",
              "      <td>1.5603</td>\n",
              "      <td>INLAND</td>\n",
              "      <td>78100</td>\n",
              "    </tr>\n",
              "    <tr>\n",
              "      <th>20636</th>\n",
              "      <td>-121.21</td>\n",
              "      <td>39.49</td>\n",
              "      <td>18</td>\n",
              "      <td>697</td>\n",
              "      <td>150.0</td>\n",
              "      <td>356</td>\n",
              "      <td>114</td>\n",
              "      <td>2.5568</td>\n",
              "      <td>INLAND</td>\n",
              "      <td>77100</td>\n",
              "    </tr>\n",
              "    <tr>\n",
              "      <th>20637</th>\n",
              "      <td>-121.22</td>\n",
              "      <td>39.43</td>\n",
              "      <td>17</td>\n",
              "      <td>2254</td>\n",
              "      <td>485.0</td>\n",
              "      <td>1007</td>\n",
              "      <td>433</td>\n",
              "      <td>1.7000</td>\n",
              "      <td>INLAND</td>\n",
              "      <td>92300</td>\n",
              "    </tr>\n",
              "    <tr>\n",
              "      <th>20638</th>\n",
              "      <td>-121.32</td>\n",
              "      <td>39.43</td>\n",
              "      <td>18</td>\n",
              "      <td>1860</td>\n",
              "      <td>409.0</td>\n",
              "      <td>741</td>\n",
              "      <td>349</td>\n",
              "      <td>1.8672</td>\n",
              "      <td>INLAND</td>\n",
              "      <td>84700</td>\n",
              "    </tr>\n",
              "    <tr>\n",
              "      <th>20639</th>\n",
              "      <td>-121.24</td>\n",
              "      <td>39.37</td>\n",
              "      <td>16</td>\n",
              "      <td>2785</td>\n",
              "      <td>616.0</td>\n",
              "      <td>1387</td>\n",
              "      <td>530</td>\n",
              "      <td>2.3886</td>\n",
              "      <td>INLAND</td>\n",
              "      <td>89400</td>\n",
              "    </tr>\n",
              "  </tbody>\n",
              "</table>\n",
              "</div>"
            ],
            "text/plain": [
              "       longitude  latitude  ...  ocean_proximity  median_house_value\n",
              "20630    -121.32     39.29  ...           INLAND              112000\n",
              "20631    -121.40     39.33  ...           INLAND              107200\n",
              "20632    -121.45     39.26  ...           INLAND              115600\n",
              "20633    -121.53     39.19  ...           INLAND               98300\n",
              "20634    -121.56     39.27  ...           INLAND              116800\n",
              "20635    -121.09     39.48  ...           INLAND               78100\n",
              "20636    -121.21     39.49  ...           INLAND               77100\n",
              "20637    -121.22     39.43  ...           INLAND               92300\n",
              "20638    -121.32     39.43  ...           INLAND               84700\n",
              "20639    -121.24     39.37  ...           INLAND               89400\n",
              "\n",
              "[10 rows x 10 columns]"
            ]
          },
          "metadata": {
            "tags": []
          },
          "execution_count": 4
        }
      ]
    },
    {
      "cell_type": "code",
      "metadata": {
        "colab": {
          "base_uri": "https://localhost:8080/"
        },
        "id": "E-Ordf51ExOj",
        "outputId": "f51e894f-4e15-401c-f300-e1b3a4a6c84f"
      },
      "source": [
        "#Checking number of rows and columns (m*n)\n",
        "df.shape"
      ],
      "execution_count": 5,
      "outputs": [
        {
          "output_type": "execute_result",
          "data": {
            "text/plain": [
              "(20640, 10)"
            ]
          },
          "metadata": {
            "tags": []
          },
          "execution_count": 5
        }
      ]
    },
    {
      "cell_type": "code",
      "metadata": {
        "colab": {
          "base_uri": "https://localhost:8080/"
        },
        "id": "MBeNQArKExOk",
        "outputId": "459974b3-3fa9-4ee3-fcfe-45321a828363"
      },
      "source": [
        "#Feature names listed\n",
        "df.columns"
      ],
      "execution_count": 6,
      "outputs": [
        {
          "output_type": "execute_result",
          "data": {
            "text/plain": [
              "Index(['longitude', 'latitude', 'housing_median_age', 'total_rooms',\n",
              "       'total_bedrooms', 'population', 'households', 'median_income',\n",
              "       'ocean_proximity', 'median_house_value'],\n",
              "      dtype='object')"
            ]
          },
          "metadata": {
            "tags": []
          },
          "execution_count": 6
        }
      ]
    },
    {
      "cell_type": "code",
      "metadata": {
        "colab": {
          "base_uri": "https://localhost:8080/",
          "height": 293
        },
        "id": "7K-uFo1TExOk",
        "outputId": "830247d0-59e8-43e5-8863-8909ed74762d"
      },
      "source": [
        "#25%, 75%, standard deviaiton etc are displayed for all features\n",
        "df.describe()"
      ],
      "execution_count": 7,
      "outputs": [
        {
          "output_type": "execute_result",
          "data": {
            "text/html": [
              "<div>\n",
              "<style scoped>\n",
              "    .dataframe tbody tr th:only-of-type {\n",
              "        vertical-align: middle;\n",
              "    }\n",
              "\n",
              "    .dataframe tbody tr th {\n",
              "        vertical-align: top;\n",
              "    }\n",
              "\n",
              "    .dataframe thead th {\n",
              "        text-align: right;\n",
              "    }\n",
              "</style>\n",
              "<table border=\"1\" class=\"dataframe\">\n",
              "  <thead>\n",
              "    <tr style=\"text-align: right;\">\n",
              "      <th></th>\n",
              "      <th>longitude</th>\n",
              "      <th>latitude</th>\n",
              "      <th>housing_median_age</th>\n",
              "      <th>total_rooms</th>\n",
              "      <th>total_bedrooms</th>\n",
              "      <th>population</th>\n",
              "      <th>households</th>\n",
              "      <th>median_income</th>\n",
              "      <th>median_house_value</th>\n",
              "    </tr>\n",
              "  </thead>\n",
              "  <tbody>\n",
              "    <tr>\n",
              "      <th>count</th>\n",
              "      <td>20640.000000</td>\n",
              "      <td>20640.000000</td>\n",
              "      <td>20640.000000</td>\n",
              "      <td>20640.000000</td>\n",
              "      <td>20433.000000</td>\n",
              "      <td>20640.000000</td>\n",
              "      <td>20640.000000</td>\n",
              "      <td>20640.000000</td>\n",
              "      <td>20640.000000</td>\n",
              "    </tr>\n",
              "    <tr>\n",
              "      <th>mean</th>\n",
              "      <td>-119.569704</td>\n",
              "      <td>35.631861</td>\n",
              "      <td>28.639486</td>\n",
              "      <td>2635.763081</td>\n",
              "      <td>537.870553</td>\n",
              "      <td>1425.476744</td>\n",
              "      <td>499.539680</td>\n",
              "      <td>3.870671</td>\n",
              "      <td>206855.816909</td>\n",
              "    </tr>\n",
              "    <tr>\n",
              "      <th>std</th>\n",
              "      <td>2.003532</td>\n",
              "      <td>2.135952</td>\n",
              "      <td>12.585558</td>\n",
              "      <td>2181.615252</td>\n",
              "      <td>421.385070</td>\n",
              "      <td>1132.462122</td>\n",
              "      <td>382.329753</td>\n",
              "      <td>1.899822</td>\n",
              "      <td>115395.615874</td>\n",
              "    </tr>\n",
              "    <tr>\n",
              "      <th>min</th>\n",
              "      <td>-124.350000</td>\n",
              "      <td>32.540000</td>\n",
              "      <td>1.000000</td>\n",
              "      <td>2.000000</td>\n",
              "      <td>1.000000</td>\n",
              "      <td>3.000000</td>\n",
              "      <td>1.000000</td>\n",
              "      <td>0.499900</td>\n",
              "      <td>14999.000000</td>\n",
              "    </tr>\n",
              "    <tr>\n",
              "      <th>25%</th>\n",
              "      <td>-121.800000</td>\n",
              "      <td>33.930000</td>\n",
              "      <td>18.000000</td>\n",
              "      <td>1447.750000</td>\n",
              "      <td>296.000000</td>\n",
              "      <td>787.000000</td>\n",
              "      <td>280.000000</td>\n",
              "      <td>2.563400</td>\n",
              "      <td>119600.000000</td>\n",
              "    </tr>\n",
              "    <tr>\n",
              "      <th>50%</th>\n",
              "      <td>-118.490000</td>\n",
              "      <td>34.260000</td>\n",
              "      <td>29.000000</td>\n",
              "      <td>2127.000000</td>\n",
              "      <td>435.000000</td>\n",
              "      <td>1166.000000</td>\n",
              "      <td>409.000000</td>\n",
              "      <td>3.534800</td>\n",
              "      <td>179700.000000</td>\n",
              "    </tr>\n",
              "    <tr>\n",
              "      <th>75%</th>\n",
              "      <td>-118.010000</td>\n",
              "      <td>37.710000</td>\n",
              "      <td>37.000000</td>\n",
              "      <td>3148.000000</td>\n",
              "      <td>647.000000</td>\n",
              "      <td>1725.000000</td>\n",
              "      <td>605.000000</td>\n",
              "      <td>4.743250</td>\n",
              "      <td>264725.000000</td>\n",
              "    </tr>\n",
              "    <tr>\n",
              "      <th>max</th>\n",
              "      <td>-114.310000</td>\n",
              "      <td>41.950000</td>\n",
              "      <td>52.000000</td>\n",
              "      <td>39320.000000</td>\n",
              "      <td>6445.000000</td>\n",
              "      <td>35682.000000</td>\n",
              "      <td>6082.000000</td>\n",
              "      <td>15.000100</td>\n",
              "      <td>500001.000000</td>\n",
              "    </tr>\n",
              "  </tbody>\n",
              "</table>\n",
              "</div>"
            ],
            "text/plain": [
              "          longitude      latitude  ...  median_income  median_house_value\n",
              "count  20640.000000  20640.000000  ...   20640.000000        20640.000000\n",
              "mean    -119.569704     35.631861  ...       3.870671       206855.816909\n",
              "std        2.003532      2.135952  ...       1.899822       115395.615874\n",
              "min     -124.350000     32.540000  ...       0.499900        14999.000000\n",
              "25%     -121.800000     33.930000  ...       2.563400       119600.000000\n",
              "50%     -118.490000     34.260000  ...       3.534800       179700.000000\n",
              "75%     -118.010000     37.710000  ...       4.743250       264725.000000\n",
              "max     -114.310000     41.950000  ...      15.000100       500001.000000\n",
              "\n",
              "[8 rows x 9 columns]"
            ]
          },
          "metadata": {
            "tags": []
          },
          "execution_count": 7
        }
      ]
    },
    {
      "cell_type": "code",
      "metadata": {
        "colab": {
          "base_uri": "https://localhost:8080/"
        },
        "id": "3eXJpD7aExOl",
        "outputId": "0544d20f-e606-48df-bde7-799bb01ddc22"
      },
      "source": [
        "#To check non-null count\n",
        "df.info()"
      ],
      "execution_count": 8,
      "outputs": [
        {
          "output_type": "stream",
          "text": [
            "<class 'pandas.core.frame.DataFrame'>\n",
            "RangeIndex: 20640 entries, 0 to 20639\n",
            "Data columns (total 10 columns):\n",
            " #   Column              Non-Null Count  Dtype  \n",
            "---  ------              --------------  -----  \n",
            " 0   longitude           20640 non-null  float64\n",
            " 1   latitude            20640 non-null  float64\n",
            " 2   housing_median_age  20640 non-null  int64  \n",
            " 3   total_rooms         20640 non-null  int64  \n",
            " 4   total_bedrooms      20433 non-null  float64\n",
            " 5   population          20640 non-null  int64  \n",
            " 6   households          20640 non-null  int64  \n",
            " 7   median_income       20640 non-null  float64\n",
            " 8   ocean_proximity     20640 non-null  object \n",
            " 9   median_house_value  20640 non-null  int64  \n",
            "dtypes: float64(4), int64(5), object(1)\n",
            "memory usage: 1.6+ MB\n"
          ],
          "name": "stdout"
        }
      ]
    },
    {
      "cell_type": "code",
      "metadata": {
        "id": "FP1tMu_JExOl"
      },
      "source": [
        "#Using matplotlib and seaborn for visualization\n",
        "import matplotlib.pyplot as plt\n",
        "import seaborn as sns"
      ],
      "execution_count": 9,
      "outputs": []
    },
    {
      "cell_type": "code",
      "metadata": {
        "colab": {
          "base_uri": "https://localhost:8080/",
          "height": 377
        },
        "id": "8B3v2f9yExOl",
        "outputId": "f4e76285-2a9c-4342-ca90-29340eb6c8a9"
      },
      "source": [
        "#Visualizing missing data\n",
        "sns.heatmap(df.isnull(),cmap='Greens',cbar=True,yticklabels=False)\n",
        "plt.title('Missing Data in Total Bedrooms')\n",
        "plt.show()"
      ],
      "execution_count": 10,
      "outputs": [
        {
          "output_type": "display_data",
          "data": {
            "image/png": "[encoded data removed]",
            "text/plain": [
              "<Figure size 432x288 with 2 Axes>"
            ]
          },
          "metadata": {
            "tags": [],
            "needs_background": "light"
          }
        }
      ]
    },
    {
      "cell_type": "code",
      "metadata": {
        "colab": {
          "base_uri": "https://localhost:8080/"
        },
        "id": "fCwVc7fTExOm",
        "outputId": "c93e7ec6-d172-4ad1-868c-edec07aa65b3"
      },
      "source": [
        "#Checking as to which feature has missing values using boolean commands\n",
        "df.isnull().any()"
      ],
      "execution_count": 11,
      "outputs": [
        {
          "output_type": "execute_result",
          "data": {
            "text/plain": [
              "longitude             False\n",
              "latitude              False\n",
              "housing_median_age    False\n",
              "total_rooms           False\n",
              "total_bedrooms         True\n",
              "population            False\n",
              "households            False\n",
              "median_income         False\n",
              "ocean_proximity       False\n",
              "median_house_value    False\n",
              "dtype: bool"
            ]
          },
          "metadata": {
            "tags": []
          },
          "execution_count": 11
        }
      ]
    },
    {
      "cell_type": "code",
      "metadata": {
        "colab": {
          "base_uri": "https://localhost:8080/"
        },
        "id": "JtwS2r9KExOm",
        "outputId": "e8b12dcd-c4d2-4bee-f33e-5d487277d877"
      },
      "source": [
        "#So, total_bedrooms has missing values\n",
        "#Counting how many rows do not have bedrooms \n",
        "df.isnull().sum()"
      ],
      "execution_count": 12,
      "outputs": [
        {
          "output_type": "execute_result",
          "data": {
            "text/plain": [
              "longitude               0\n",
              "latitude                0\n",
              "housing_median_age      0\n",
              "total_rooms             0\n",
              "total_bedrooms        207\n",
              "population              0\n",
              "households              0\n",
              "median_income           0\n",
              "ocean_proximity         0\n",
              "median_house_value      0\n",
              "dtype: int64"
            ]
          },
          "metadata": {
            "tags": []
          },
          "execution_count": 12
        }
      ]
    },
    {
      "cell_type": "markdown",
      "metadata": {
        "id": "NF7P1GplExOm"
      },
      "source": [
        "<b>We have 207 missing values for 'total_bedrooms' which will be handled during the next phase"
      ]
    },
    {
      "cell_type": "markdown",
      "metadata": {
        "id": "5t_si0jdExOn"
      },
      "source": [
        "### Data Cleaning, Visualization, Feature Engineering and Selection"
      ]
    },
    {
      "cell_type": "code",
      "metadata": {
        "colab": {
          "base_uri": "https://localhost:8080/"
        },
        "id": "gfOOYK3yExOn",
        "outputId": "51ed77f2-1dbf-4224-a11c-2617159ffb38"
      },
      "source": [
        "#Another version of df.head() but without feature names\n",
        "df.values"
      ],
      "execution_count": 13,
      "outputs": [
        {
          "output_type": "execute_result",
          "data": {
            "text/plain": [
              "array([[-122.23, 37.88, 41, ..., 8.3252, 'NEAR BAY', 452600],\n",
              "       [-122.22, 37.86, 21, ..., 8.3014, 'NEAR BAY', 358500],\n",
              "       [-122.24, 37.85, 52, ..., 7.2574, 'NEAR BAY', 352100],\n",
              "       ...,\n",
              "       [-121.22, 39.43, 17, ..., 1.7, 'INLAND', 92300],\n",
              "       [-121.32, 39.43, 18, ..., 1.8672, 'INLAND', 84700],\n",
              "       [-121.24, 39.37, 16, ..., 2.3886, 'INLAND', 89400]], dtype=object)"
            ]
          },
          "metadata": {
            "tags": []
          },
          "execution_count": 13
        }
      ]
    },
    {
      "cell_type": "code",
      "metadata": {
        "colab": {
          "base_uri": "https://localhost:8080/",
          "height": 0
        },
        "id": "jNs7txYYExOn",
        "outputId": "894aef93-ad62-4b1d-c014-114b3b05e30e"
      },
      "source": [
        "# Shuffling all rows(frac=1)\n",
        "df = df.sample(frac=1)\n",
        "df.head(10)"
      ],
      "execution_count": 14,
      "outputs": [
        {
          "output_type": "execute_result",
          "data": {
            "text/html": [
              "<div>\n",
              "<style scoped>\n",
              "    .dataframe tbody tr th:only-of-type {\n",
              "        vertical-align: middle;\n",
              "    }\n",
              "\n",
              "    .dataframe tbody tr th {\n",
              "        vertical-align: top;\n",
              "    }\n",
              "\n",
              "    .dataframe thead th {\n",
              "        text-align: right;\n",
              "    }\n",
              "</style>\n",
              "<table border=\"1\" class=\"dataframe\">\n",
              "  <thead>\n",
              "    <tr style=\"text-align: right;\">\n",
              "      <th></th>\n",
              "      <th>longitude</th>\n",
              "      <th>latitude</th>\n",
              "      <th>housing_median_age</th>\n",
              "      <th>total_rooms</th>\n",
              "      <th>total_bedrooms</th>\n",
              "      <th>population</th>\n",
              "      <th>households</th>\n",
              "      <th>median_income</th>\n",
              "      <th>ocean_proximity</th>\n",
              "      <th>median_house_value</th>\n",
              "    </tr>\n",
              "  </thead>\n",
              "  <tbody>\n",
              "    <tr>\n",
              "      <th>1726</th>\n",
              "      <td>-122.37</td>\n",
              "      <td>37.95</td>\n",
              "      <td>32</td>\n",
              "      <td>1298</td>\n",
              "      <td>363.0</td>\n",
              "      <td>716</td>\n",
              "      <td>268</td>\n",
              "      <td>0.9797</td>\n",
              "      <td>NEAR BAY</td>\n",
              "      <td>76400</td>\n",
              "    </tr>\n",
              "    <tr>\n",
              "      <th>12942</th>\n",
              "      <td>-121.27</td>\n",
              "      <td>38.65</td>\n",
              "      <td>25</td>\n",
              "      <td>2787</td>\n",
              "      <td>601.0</td>\n",
              "      <td>1247</td>\n",
              "      <td>522</td>\n",
              "      <td>2.9016</td>\n",
              "      <td>INLAND</td>\n",
              "      <td>159800</td>\n",
              "    </tr>\n",
              "    <tr>\n",
              "      <th>15016</th>\n",
              "      <td>-117.03</td>\n",
              "      <td>32.77</td>\n",
              "      <td>19</td>\n",
              "      <td>4819</td>\n",
              "      <td>1492.0</td>\n",
              "      <td>2572</td>\n",
              "      <td>1336</td>\n",
              "      <td>2.3393</td>\n",
              "      <td>&lt;1H OCEAN</td>\n",
              "      <td>118200</td>\n",
              "    </tr>\n",
              "    <tr>\n",
              "      <th>14577</th>\n",
              "      <td>-117.20</td>\n",
              "      <td>32.82</td>\n",
              "      <td>35</td>\n",
              "      <td>1217</td>\n",
              "      <td>220.0</td>\n",
              "      <td>643</td>\n",
              "      <td>237</td>\n",
              "      <td>3.9464</td>\n",
              "      <td>NEAR OCEAN</td>\n",
              "      <td>171600</td>\n",
              "    </tr>\n",
              "    <tr>\n",
              "      <th>6477</th>\n",
              "      <td>-118.08</td>\n",
              "      <td>34.09</td>\n",
              "      <td>32</td>\n",
              "      <td>3214</td>\n",
              "      <td>718.0</td>\n",
              "      <td>2316</td>\n",
              "      <td>751</td>\n",
              "      <td>3.7066</td>\n",
              "      <td>&lt;1H OCEAN</td>\n",
              "      <td>206800</td>\n",
              "    </tr>\n",
              "    <tr>\n",
              "      <th>18096</th>\n",
              "      <td>-122.04</td>\n",
              "      <td>37.33</td>\n",
              "      <td>26</td>\n",
              "      <td>2690</td>\n",
              "      <td>401.0</td>\n",
              "      <td>1264</td>\n",
              "      <td>429</td>\n",
              "      <td>7.7643</td>\n",
              "      <td>&lt;1H OCEAN</td>\n",
              "      <td>474700</td>\n",
              "    </tr>\n",
              "    <tr>\n",
              "      <th>8043</th>\n",
              "      <td>-118.16</td>\n",
              "      <td>33.84</td>\n",
              "      <td>36</td>\n",
              "      <td>2831</td>\n",
              "      <td>573.0</td>\n",
              "      <td>1462</td>\n",
              "      <td>569</td>\n",
              "      <td>3.8646</td>\n",
              "      <td>&lt;1H OCEAN</td>\n",
              "      <td>214600</td>\n",
              "    </tr>\n",
              "    <tr>\n",
              "      <th>15068</th>\n",
              "      <td>-116.97</td>\n",
              "      <td>32.78</td>\n",
              "      <td>37</td>\n",
              "      <td>1255</td>\n",
              "      <td>238.0</td>\n",
              "      <td>671</td>\n",
              "      <td>278</td>\n",
              "      <td>3.7019</td>\n",
              "      <td>&lt;1H OCEAN</td>\n",
              "      <td>138600</td>\n",
              "    </tr>\n",
              "    <tr>\n",
              "      <th>19603</th>\n",
              "      <td>-121.04</td>\n",
              "      <td>37.60</td>\n",
              "      <td>27</td>\n",
              "      <td>958</td>\n",
              "      <td>184.0</td>\n",
              "      <td>580</td>\n",
              "      <td>177</td>\n",
              "      <td>2.1875</td>\n",
              "      <td>INLAND</td>\n",
              "      <td>82800</td>\n",
              "    </tr>\n",
              "    <tr>\n",
              "      <th>13468</th>\n",
              "      <td>-117.38</td>\n",
              "      <td>34.09</td>\n",
              "      <td>8</td>\n",
              "      <td>3955</td>\n",
              "      <td>815.0</td>\n",
              "      <td>2184</td>\n",
              "      <td>725</td>\n",
              "      <td>3.3438</td>\n",
              "      <td>INLAND</td>\n",
              "      <td>127600</td>\n",
              "    </tr>\n",
              "  </tbody>\n",
              "</table>\n",
              "</div>"
            ],
            "text/plain": [
              "       longitude  latitude  ...  ocean_proximity  median_house_value\n",
              "1726     -122.37     37.95  ...         NEAR BAY               76400\n",
              "12942    -121.27     38.65  ...           INLAND              159800\n",
              "15016    -117.03     32.77  ...        <1H OCEAN              118200\n",
              "14577    -117.20     32.82  ...       NEAR OCEAN              171600\n",
              "6477     -118.08     34.09  ...        <1H OCEAN              206800\n",
              "18096    -122.04     37.33  ...        <1H OCEAN              474700\n",
              "8043     -118.16     33.84  ...        <1H OCEAN              214600\n",
              "15068    -116.97     32.78  ...        <1H OCEAN              138600\n",
              "19603    -121.04     37.60  ...           INLAND               82800\n",
              "13468    -117.38     34.09  ...           INLAND              127600\n",
              "\n",
              "[10 rows x 10 columns]"
            ]
          },
          "metadata": {
            "tags": []
          },
          "execution_count": 14
        }
      ]
    },
    {
      "cell_type": "code",
      "metadata": {
        "colab": {
          "base_uri": "https://localhost:8080/"
        },
        "id": "GfpX9TZuExOo",
        "outputId": "22e24a68-8994-448a-fc86-86db4542cc4d"
      },
      "source": [
        "#Categorical Data, so, will enumerate and replace all data with unique values for each type of data\n",
        "df['ocean_proximity'].unique()"
      ],
      "execution_count": 15,
      "outputs": [
        {
          "output_type": "execute_result",
          "data": {
            "text/plain": [
              "array(['NEAR BAY', 'INLAND', '<1H OCEAN', 'NEAR OCEAN', 'ISLAND'],\n",
              "      dtype=object)"
            ]
          },
          "metadata": {
            "tags": []
          },
          "execution_count": 15
        }
      ]
    },
    {
      "cell_type": "code",
      "metadata": {
        "colab": {
          "base_uri": "https://localhost:8080/",
          "height": 0
        },
        "id": "DsKVDPyPExOo",
        "outputId": "13e0bddd-5910-44b9-b3c0-8a74bcbcb03b"
      },
      "source": [
        "plt.figure(figsize=(10,6))\n",
        "sns.countplot(data=df,x='ocean_proximity')\n",
        "plt.plot()"
      ],
      "execution_count": 16,
      "outputs": [
        {
          "output_type": "execute_result",
          "data": {
            "text/plain": [
              "[]"
            ]
          },
          "metadata": {
            "tags": []
          },
          "execution_count": 16
        },
        {
          "output_type": "display_data",
          "data": {
            "image/png": "[encoded data removed]",
            "text/plain": [
              "<Figure size 720x432 with 1 Axes>"
            ]
          },
          "metadata": {
            "tags": [],
            "needs_background": "light"
          }
        }
      ]
    },
    {
      "cell_type": "code",
      "metadata": {
        "id": "aD8LMyc8ExOo"
      },
      "source": [
        "# Replace ocean proximity with values to help our model\n",
        "ocean_proximity = {a:b for b,a in enumerate(df['ocean_proximity'].unique())}\n",
        "df.replace(ocean_proximity, inplace=True)"
      ],
      "execution_count": 17,
      "outputs": []
    },
    {
      "cell_type": "code",
      "metadata": {
        "colab": {
          "base_uri": "https://localhost:8080/"
        },
        "id": "vg0MMirMExOp",
        "outputId": "23c23fcf-324f-4e2d-cf31-232847156f3e"
      },
      "source": [
        "df.ocean_proximity.unique()"
      ],
      "execution_count": 18,
      "outputs": [
        {
          "output_type": "execute_result",
          "data": {
            "text/plain": [
              "array([0, 1, 2, 3, 4])"
            ]
          },
          "metadata": {
            "tags": []
          },
          "execution_count": 18
        }
      ]
    },
    {
      "cell_type": "code",
      "metadata": {
        "id": "Gb4CRLX-ExOp"
      },
      "source": [
        "# The feature 'total_bedrooms' has NaN values so I will replace them with the mean of the feature\n",
        "df = df.apply(lambda x: x.fillna(x.mean()))"
      ],
      "execution_count": 19,
      "outputs": []
    },
    {
      "cell_type": "code",
      "metadata": {
        "id": "z0wq1oESExOp"
      },
      "source": [
        "#Run this cell to check if mean values are populated into the csv. \n",
        "#Note that data frame has been shuffled\n",
        "#new=df.to_csv(\"total_bedrooms\".csv\")"
      ],
      "execution_count": 20,
      "outputs": []
    },
    {
      "cell_type": "code",
      "metadata": {
        "colab": {
          "base_uri": "https://localhost:8080/"
        },
        "id": "nnTarZs3ExOp",
        "outputId": "7c933c72-ccc4-4416-a3dd-ebd10318caf3"
      },
      "source": [
        "#Verifying Data is balanced\n",
        "df.isnull().any()"
      ],
      "execution_count": 21,
      "outputs": [
        {
          "output_type": "execute_result",
          "data": {
            "text/plain": [
              "longitude             False\n",
              "latitude              False\n",
              "housing_median_age    False\n",
              "total_rooms           False\n",
              "total_bedrooms        False\n",
              "population            False\n",
              "households            False\n",
              "median_income         False\n",
              "ocean_proximity       False\n",
              "median_house_value    False\n",
              "dtype: bool"
            ]
          },
          "metadata": {
            "tags": []
          },
          "execution_count": 21
        }
      ]
    },
    {
      "cell_type": "code",
      "metadata": {
        "colab": {
          "base_uri": "https://localhost:8080/",
          "height": 0
        },
        "id": "kuH-26VdExOq",
        "outputId": "743ae19f-2ae4-4ae6-c0ef-605a8bbe284a"
      },
      "source": [
        "import matplotlib.pyplot as plt\n",
        "df.hist(bins=50,figsize=(20,15))\n",
        "plt.show()"
      ],
      "execution_count": 22,
      "outputs": [
        {
          "output_type": "display_data",
          "data": {
            "image/png": "[encoded data removed]",
            "text/plain": [
              "<Figure size 1440x1080 with 12 Axes>"
            ]
          },
          "metadata": {
            "tags": [],
            "needs_background": "light"
          }
        }
      ]
    },
    {
      "cell_type": "code",
      "metadata": {
        "colab": {
          "base_uri": "https://localhost:8080/",
          "height": 0
        },
        "id": "xp03ZUq0ExOq",
        "outputId": "847cb1a1-5117-4cf1-ae99-2e3da5f9b321"
      },
      "source": [
        "#Analyzing the median income range\n",
        "df[\"median_income\"].hist(bins=40)"
      ],
      "execution_count": 23,
      "outputs": [
        {
          "output_type": "execute_result",
          "data": {
            "text/plain": [
              "<matplotlib.axes._subplots.AxesSubplot at 0x7fcc9e4ad490>"
            ]
          },
          "metadata": {
            "tags": []
          },
          "execution_count": 23
        },
        {
          "output_type": "display_data",
          "data": {
            "image/png": "[encoded data removed]",
            "text/plain": [
              "<Figure size 432x288 with 1 Axes>"
            ]
          },
          "metadata": {
            "tags": [],
            "needs_background": "light"
          }
        }
      ]
    },
    {
      "cell_type": "code",
      "metadata": {
        "colab": {
          "base_uri": "https://localhost:8080/",
          "height": 0
        },
        "id": "Mpw0SYQnExOq",
        "outputId": "227dced0-2e9b-4de0-e6a7-0907fa47cf27"
      },
      "source": [
        "# Calculating correlation\n",
        "corr_matrix=df.corr()\n",
        "corr_matrix"
      ],
      "execution_count": 24,
      "outputs": [
        {
          "output_type": "execute_result",
          "data": {
            "text/html": [
              "<div>\n",
              "<style scoped>\n",
              "    .dataframe tbody tr th:only-of-type {\n",
              "        vertical-align: middle;\n",
              "    }\n",
              "\n",
              "    .dataframe tbody tr th {\n",
              "        vertical-align: top;\n",
              "    }\n",
              "\n",
              "    .dataframe thead th {\n",
              "        text-align: right;\n",
              "    }\n",
              "</style>\n",
              "<table border=\"1\" class=\"dataframe\">\n",
              "  <thead>\n",
              "    <tr style=\"text-align: right;\">\n",
              "      <th></th>\n",
              "      <th>longitude</th>\n",
              "      <th>latitude</th>\n",
              "      <th>housing_median_age</th>\n",
              "      <th>total_rooms</th>\n",
              "      <th>total_bedrooms</th>\n",
              "      <th>population</th>\n",
              "      <th>households</th>\n",
              "      <th>median_income</th>\n",
              "      <th>ocean_proximity</th>\n",
              "      <th>median_house_value</th>\n",
              "    </tr>\n",
              "  </thead>\n",
              "  <tbody>\n",
              "    <tr>\n",
              "      <th>longitude</th>\n",
              "      <td>1.000000</td>\n",
              "      <td>-0.924664</td>\n",
              "      <td>-0.108197</td>\n",
              "      <td>0.044568</td>\n",
              "      <td>0.069260</td>\n",
              "      <td>0.099773</td>\n",
              "      <td>0.055310</td>\n",
              "      <td>-0.015176</td>\n",
              "      <td>0.399266</td>\n",
              "      <td>-0.045967</td>\n",
              "    </tr>\n",
              "    <tr>\n",
              "      <th>latitude</th>\n",
              "      <td>-0.924664</td>\n",
              "      <td>1.000000</td>\n",
              "      <td>0.011173</td>\n",
              "      <td>-0.036100</td>\n",
              "      <td>-0.066658</td>\n",
              "      <td>-0.108785</td>\n",
              "      <td>-0.071035</td>\n",
              "      <td>-0.079809</td>\n",
              "      <td>-0.521292</td>\n",
              "      <td>-0.144160</td>\n",
              "    </tr>\n",
              "    <tr>\n",
              "      <th>housing_median_age</th>\n",
              "      <td>-0.108197</td>\n",
              "      <td>0.011173</td>\n",
              "      <td>1.000000</td>\n",
              "      <td>-0.361262</td>\n",
              "      <td>-0.318998</td>\n",
              "      <td>-0.296244</td>\n",
              "      <td>-0.302916</td>\n",
              "      <td>-0.119034</td>\n",
              "      <td>-0.049827</td>\n",
              "      <td>0.105623</td>\n",
              "    </tr>\n",
              "    <tr>\n",
              "      <th>total_rooms</th>\n",
              "      <td>0.044568</td>\n",
              "      <td>-0.036100</td>\n",
              "      <td>-0.361262</td>\n",
              "      <td>1.000000</td>\n",
              "      <td>0.927253</td>\n",
              "      <td>0.857126</td>\n",
              "      <td>0.918484</td>\n",
              "      <td>0.198050</td>\n",
              "      <td>-0.000911</td>\n",
              "      <td>0.134153</td>\n",
              "    </tr>\n",
              "    <tr>\n",
              "      <th>total_bedrooms</th>\n",
              "      <td>0.069260</td>\n",
              "      <td>-0.066658</td>\n",
              "      <td>-0.318998</td>\n",
              "      <td>0.927253</td>\n",
              "      <td>1.000000</td>\n",
              "      <td>0.873910</td>\n",
              "      <td>0.974725</td>\n",
              "      <td>-0.007682</td>\n",
              "      <td>0.018246</td>\n",
              "      <td>0.049454</td>\n",
              "    </tr>\n",
              "    <tr>\n",
              "      <th>population</th>\n",
              "      <td>0.099773</td>\n",
              "      <td>-0.108785</td>\n",
              "      <td>-0.296244</td>\n",
              "      <td>0.857126</td>\n",
              "      <td>0.873910</td>\n",
              "      <td>1.000000</td>\n",
              "      <td>0.907222</td>\n",
              "      <td>0.004834</td>\n",
              "      <td>0.046390</td>\n",
              "      <td>-0.024650</td>\n",
              "    </tr>\n",
              "    <tr>\n",
              "      <th>households</th>\n",
              "      <td>0.055310</td>\n",
              "      <td>-0.071035</td>\n",
              "      <td>-0.302916</td>\n",
              "      <td>0.918484</td>\n",
              "      <td>0.974725</td>\n",
              "      <td>0.907222</td>\n",
              "      <td>1.000000</td>\n",
              "      <td>0.013033</td>\n",
              "      <td>0.029373</td>\n",
              "      <td>0.065843</td>\n",
              "    </tr>\n",
              "    <tr>\n",
              "      <th>median_income</th>\n",
              "      <td>-0.015176</td>\n",
              "      <td>-0.079809</td>\n",
              "      <td>-0.119034</td>\n",
              "      <td>0.198050</td>\n",
              "      <td>-0.007682</td>\n",
              "      <td>0.004834</td>\n",
              "      <td>0.013033</td>\n",
              "      <td>1.000000</td>\n",
              "      <td>0.098940</td>\n",
              "      <td>0.688075</td>\n",
              "    </tr>\n",
              "    <tr>\n",
              "      <th>ocean_proximity</th>\n",
              "      <td>0.399266</td>\n",
              "      <td>-0.521292</td>\n",
              "      <td>-0.049827</td>\n",
              "      <td>-0.000911</td>\n",
              "      <td>0.018246</td>\n",
              "      <td>0.046390</td>\n",
              "      <td>0.029373</td>\n",
              "      <td>0.098940</td>\n",
              "      <td>1.000000</td>\n",
              "      <td>0.203778</td>\n",
              "    </tr>\n",
              "    <tr>\n",
              "      <th>median_house_value</th>\n",
              "      <td>-0.045967</td>\n",
              "      <td>-0.144160</td>\n",
              "      <td>0.105623</td>\n",
              "      <td>0.134153</td>\n",
              "      <td>0.049454</td>\n",
              "      <td>-0.024650</td>\n",
              "      <td>0.065843</td>\n",
              "      <td>0.688075</td>\n",
              "      <td>0.203778</td>\n",
              "      <td>1.000000</td>\n",
              "    </tr>\n",
              "  </tbody>\n",
              "</table>\n",
              "</div>"
            ],
            "text/plain": [
              "                    longitude  latitude  ...  ocean_proximity  median_house_value\n",
              "longitude            1.000000 -0.924664  ...         0.399266           -0.045967\n",
              "latitude            -0.924664  1.000000  ...        -0.521292           -0.144160\n",
              "housing_median_age  -0.108197  0.011173  ...        -0.049827            0.105623\n",
              "total_rooms          0.044568 -0.036100  ...        -0.000911            0.134153\n",
              "total_bedrooms       0.069260 -0.066658  ...         0.018246            0.049454\n",
              "population           0.099773 -0.108785  ...         0.046390           -0.024650\n",
              "households           0.055310 -0.071035  ...         0.029373            0.065843\n",
              "median_income       -0.015176 -0.079809  ...         0.098940            0.688075\n",
              "ocean_proximity      0.399266 -0.521292  ...         1.000000            0.203778\n",
              "median_house_value  -0.045967 -0.144160  ...         0.203778            1.000000\n",
              "\n",
              "[10 rows x 10 columns]"
            ]
          },
          "metadata": {
            "tags": []
          },
          "execution_count": 24
        }
      ]
    },
    {
      "cell_type": "code",
      "metadata": {
        "colab": {
          "base_uri": "https://localhost:8080/",
          "height": 0
        },
        "id": "hse3k3XpExOr",
        "outputId": "97757c9a-2290-47db-dcd6-afb8e5578178"
      },
      "source": [
        "plt.figure(figsize=(10,6))\n",
        "sns.displot(df['median_house_value'],color='magenta')\n",
        "plt.show()"
      ],
      "execution_count": 25,
      "outputs": [
        {
          "output_type": "display_data",
          "data": {
            "text/plain": [
              "<Figure size 720x432 with 0 Axes>"
            ]
          },
          "metadata": {
            "tags": []
          }
        },
        {
          "output_type": "display_data",
          "data": {
            "image/png": "[encoded data removed]",
            "text/plain": [
              "<Figure size 360x360 with 1 Axes>"
            ]
          },
          "metadata": {
            "tags": [],
            "needs_background": "light"
          }
        }
      ]
    },
    {
      "cell_type": "markdown",
      "metadata": {
        "id": "zOp248HtExOr"
      },
      "source": [
        "As we see from above data, house values > 500000 are outliers, so we remove them"
      ]
    },
    {
      "cell_type": "code",
      "metadata": {
        "colab": {
          "base_uri": "https://localhost:8080/"
        },
        "id": "Cx-B3iNRExOr",
        "outputId": "ec549aee-d311-414f-f9e2-bd3018ab58ff"
      },
      "source": [
        "df[df['median_house_value']>450000]['median_house_value'].value_counts().head()"
      ],
      "execution_count": 26,
      "outputs": [
        {
          "output_type": "execute_result",
          "data": {
            "text/plain": [
              "500001    965\n",
              "500000     27\n",
              "475000      8\n",
              "483300      6\n",
              "466700      4\n",
              "Name: median_house_value, dtype: int64"
            ]
          },
          "metadata": {
            "tags": []
          },
          "execution_count": 26
        }
      ]
    },
    {
      "cell_type": "code",
      "metadata": {
        "id": "4fPPcQk1ExOs"
      },
      "source": [
        "df=df.loc[df['median_house_value']<500001,:]"
      ],
      "execution_count": 27,
      "outputs": []
    },
    {
      "cell_type": "code",
      "metadata": {
        "id": "0d-PSHQvExOs"
      },
      "source": [
        "df=df[df['population']<25000]"
      ],
      "execution_count": 28,
      "outputs": []
    },
    {
      "cell_type": "code",
      "metadata": {
        "colab": {
          "base_uri": "https://localhost:8080/",
          "height": 0
        },
        "id": "gSbHjmnsExOs",
        "outputId": "d5cd0001-6be7-4bbf-fed4-ff6908fa5a67"
      },
      "source": [
        "plt.figure(figsize=(14,8))\n",
        "sns.displot(df['median_house_value'],color='magenta')\n",
        "plt.show()"
      ],
      "execution_count": 29,
      "outputs": [
        {
          "output_type": "display_data",
          "data": {
            "text/plain": [
              "<Figure size 1008x576 with 0 Axes>"
            ]
          },
          "metadata": {
            "tags": []
          }
        },
        {
          "output_type": "display_data",
          "data": {
            "image/png": "[encoded data removed]",
            "text/plain": [
              "<Figure size 360x360 with 1 Axes>"
            ]
          },
          "metadata": {
            "tags": [],
            "needs_background": "light"
          }
        }
      ]
    },
    {
      "cell_type": "markdown",
      "metadata": {
        "id": "3VCWVzqyExOs"
      },
      "source": [
        "<b>The outliers of median house value >500000 are removed"
      ]
    },
    {
      "cell_type": "code",
      "metadata": {
        "colab": {
          "base_uri": "https://localhost:8080/",
          "height": 0
        },
        "id": "dgqxxZ4qExOs",
        "outputId": "1df85736-a490-476f-d522-b3f54b0fa358"
      },
      "source": [
        "plt.figure(figsize=(11,7))\n",
        "sns.heatmap(cbar=False,annot=True,data=df.corr()*100,cmap='coolwarm')\n",
        "plt.title('% Corelation Matrix')\n",
        "plt.show()"
      ],
      "execution_count": 30,
      "outputs": [
        {
          "output_type": "display_data",
          "data": {
            "image/png": "[encoded data removed]",
            "text/plain": [
              "<Figure size 792x504 with 1 Axes>"
            ]
          },
          "metadata": {
            "tags": [],
            "needs_background": "light"
          }
        }
      ]
    },
    {
      "cell_type": "code",
      "metadata": {
        "colab": {
          "base_uri": "https://localhost:8080/",
          "height": 0
        },
        "id": "wUa6QPXpExOt",
        "outputId": "5f0bca30-5dd6-465e-bd33-fa11afc18f76"
      },
      "source": [
        "plt.figure(figsize=(10,6))\n",
        "sns.stripplot(data=df,x='ocean_proximity',y='median_house_value',jitter=0.3)"
      ],
      "execution_count": 31,
      "outputs": [
        {
          "output_type": "execute_result",
          "data": {
            "text/plain": [
              "<matplotlib.axes._subplots.AxesSubplot at 0x7fcc9e685e10>"
            ]
          },
          "metadata": {
            "tags": []
          },
          "execution_count": 31
        },
        {
          "output_type": "display_data",
          "data": {
            "image/png": "[encoded data removed]",
            "text/plain": [
              "<Figure size 720x432 with 1 Axes>"
            ]
          },
          "metadata": {
            "tags": [],
            "needs_background": "light"
          }
        }
      ]
    },
    {
      "cell_type": "code",
      "metadata": {
        "colab": {
          "base_uri": "https://localhost:8080/",
          "height": 0
        },
        "id": "Cxb8vKjkExOt",
        "outputId": "d374c3d3-4642-4965-ab9b-7e11722f651f"
      },
      "source": [
        "plt.figure(figsize=(10,6))\n",
        "sns.boxplot(data=df,x='ocean_proximity',y='median_house_value',palette='viridis')\n",
        "plt.plot()"
      ],
      "execution_count": 32,
      "outputs": [
        {
          "output_type": "execute_result",
          "data": {
            "text/plain": [
              "[]"
            ]
          },
          "metadata": {
            "tags": []
          },
          "execution_count": 32
        },
        {
          "output_type": "display_data",
          "data": {
            "image/png": "[encoded data removed]",
            "text/plain": [
              "<Figure size 720x432 with 1 Axes>"
            ]
          },
          "metadata": {
            "tags": [],
            "needs_background": "light"
          }
        }
      ]
    },
    {
      "cell_type": "markdown",
      "metadata": {
        "id": "3VFTmi27ExOt"
      },
      "source": [
        "### Modelling and Evaluation"
      ]
    },
    {
      "cell_type": "code",
      "metadata": {
        "id": "mFjksRXiExOu"
      },
      "source": [
        "X = df.drop('median_house_value',axis=1)\n",
        "y = df['median_house_value']"
      ],
      "execution_count": 33,
      "outputs": []
    },
    {
      "cell_type": "code",
      "metadata": {
        "colab": {
          "base_uri": "https://localhost:8080/",
          "height": 0
        },
        "id": "vC6GSXzpExOu",
        "outputId": "beb37d8e-4ca9-4817-8f53-9f91a7d6284c"
      },
      "source": [
        "X.head(10)"
      ],
      "execution_count": 34,
      "outputs": [
        {
          "output_type": "execute_result",
          "data": {
            "text/html": [
              "<div>\n",
              "<style scoped>\n",
              "    .dataframe tbody tr th:only-of-type {\n",
              "        vertical-align: middle;\n",
              "    }\n",
              "\n",
              "    .dataframe tbody tr th {\n",
              "        vertical-align: top;\n",
              "    }\n",
              "\n",
              "    .dataframe thead th {\n",
              "        text-align: right;\n",
              "    }\n",
              "</style>\n",
              "<table border=\"1\" class=\"dataframe\">\n",
              "  <thead>\n",
              "    <tr style=\"text-align: right;\">\n",
              "      <th></th>\n",
              "      <th>longitude</th>\n",
              "      <th>latitude</th>\n",
              "      <th>housing_median_age</th>\n",
              "      <th>total_rooms</th>\n",
              "      <th>total_bedrooms</th>\n",
              "      <th>population</th>\n",
              "      <th>households</th>\n",
              "      <th>median_income</th>\n",
              "      <th>ocean_proximity</th>\n",
              "    </tr>\n",
              "  </thead>\n",
              "  <tbody>\n",
              "    <tr>\n",
              "      <th>1726</th>\n",
              "      <td>-122.37</td>\n",
              "      <td>37.95</td>\n",
              "      <td>32</td>\n",
              "      <td>1298</td>\n",
              "      <td>363.0</td>\n",
              "      <td>716</td>\n",
              "      <td>268</td>\n",
              "      <td>0.9797</td>\n",
              "      <td>0</td>\n",
              "    </tr>\n",
              "    <tr>\n",
              "      <th>12942</th>\n",
              "      <td>-121.27</td>\n",
              "      <td>38.65</td>\n",
              "      <td>25</td>\n",
              "      <td>2787</td>\n",
              "      <td>601.0</td>\n",
              "      <td>1247</td>\n",
              "      <td>522</td>\n",
              "      <td>2.9016</td>\n",
              "      <td>1</td>\n",
              "    </tr>\n",
              "    <tr>\n",
              "      <th>15016</th>\n",
              "      <td>-117.03</td>\n",
              "      <td>32.77</td>\n",
              "      <td>19</td>\n",
              "      <td>4819</td>\n",
              "      <td>1492.0</td>\n",
              "      <td>2572</td>\n",
              "      <td>1336</td>\n",
              "      <td>2.3393</td>\n",
              "      <td>2</td>\n",
              "    </tr>\n",
              "    <tr>\n",
              "      <th>14577</th>\n",
              "      <td>-117.20</td>\n",
              "      <td>32.82</td>\n",
              "      <td>35</td>\n",
              "      <td>1217</td>\n",
              "      <td>220.0</td>\n",
              "      <td>643</td>\n",
              "      <td>237</td>\n",
              "      <td>3.9464</td>\n",
              "      <td>3</td>\n",
              "    </tr>\n",
              "    <tr>\n",
              "      <th>6477</th>\n",
              "      <td>-118.08</td>\n",
              "      <td>34.09</td>\n",
              "      <td>32</td>\n",
              "      <td>3214</td>\n",
              "      <td>718.0</td>\n",
              "      <td>2316</td>\n",
              "      <td>751</td>\n",
              "      <td>3.7066</td>\n",
              "      <td>2</td>\n",
              "    </tr>\n",
              "    <tr>\n",
              "      <th>18096</th>\n",
              "      <td>-122.04</td>\n",
              "      <td>37.33</td>\n",
              "      <td>26</td>\n",
              "      <td>2690</td>\n",
              "      <td>401.0</td>\n",
              "      <td>1264</td>\n",
              "      <td>429</td>\n",
              "      <td>7.7643</td>\n",
              "      <td>2</td>\n",
              "    </tr>\n",
              "    <tr>\n",
              "      <th>8043</th>\n",
              "      <td>-118.16</td>\n",
              "      <td>33.84</td>\n",
              "      <td>36</td>\n",
              "      <td>2831</td>\n",
              "      <td>573.0</td>\n",
              "      <td>1462</td>\n",
              "      <td>569</td>\n",
              "      <td>3.8646</td>\n",
              "      <td>2</td>\n",
              "    </tr>\n",
              "    <tr>\n",
              "      <th>15068</th>\n",
              "      <td>-116.97</td>\n",
              "      <td>32.78</td>\n",
              "      <td>37</td>\n",
              "      <td>1255</td>\n",
              "      <td>238.0</td>\n",
              "      <td>671</td>\n",
              "      <td>278</td>\n",
              "      <td>3.7019</td>\n",
              "      <td>2</td>\n",
              "    </tr>\n",
              "    <tr>\n",
              "      <th>19603</th>\n",
              "      <td>-121.04</td>\n",
              "      <td>37.60</td>\n",
              "      <td>27</td>\n",
              "      <td>958</td>\n",
              "      <td>184.0</td>\n",
              "      <td>580</td>\n",
              "      <td>177</td>\n",
              "      <td>2.1875</td>\n",
              "      <td>1</td>\n",
              "    </tr>\n",
              "    <tr>\n",
              "      <th>13468</th>\n",
              "      <td>-117.38</td>\n",
              "      <td>34.09</td>\n",
              "      <td>8</td>\n",
              "      <td>3955</td>\n",
              "      <td>815.0</td>\n",
              "      <td>2184</td>\n",
              "      <td>725</td>\n",
              "      <td>3.3438</td>\n",
              "      <td>1</td>\n",
              "    </tr>\n",
              "  </tbody>\n",
              "</table>\n",
              "</div>"
            ],
            "text/plain": [
              "       longitude  latitude  ...  median_income  ocean_proximity\n",
              "1726     -122.37     37.95  ...         0.9797                0\n",
              "12942    -121.27     38.65  ...         2.9016                1\n",
              "15016    -117.03     32.77  ...         2.3393                2\n",
              "14577    -117.20     32.82  ...         3.9464                3\n",
              "6477     -118.08     34.09  ...         3.7066                2\n",
              "18096    -122.04     37.33  ...         7.7643                2\n",
              "8043     -118.16     33.84  ...         3.8646                2\n",
              "15068    -116.97     32.78  ...         3.7019                2\n",
              "19603    -121.04     37.60  ...         2.1875                1\n",
              "13468    -117.38     34.09  ...         3.3438                1\n",
              "\n",
              "[10 rows x 9 columns]"
            ]
          },
          "metadata": {
            "tags": []
          },
          "execution_count": 34
        }
      ]
    },
    {
      "cell_type": "code",
      "metadata": {
        "colab": {
          "base_uri": "https://localhost:8080/"
        },
        "id": "TYjLBOh6ExOu",
        "outputId": "b84d9424-30a7-4951-ec12-38b48ac5f43a"
      },
      "source": [
        "X.shape"
      ],
      "execution_count": 35,
      "outputs": [
        {
          "output_type": "execute_result",
          "data": {
            "text/plain": [
              "(19673, 9)"
            ]
          },
          "metadata": {
            "tags": []
          },
          "execution_count": 35
        }
      ]
    },
    {
      "cell_type": "code",
      "metadata": {
        "colab": {
          "base_uri": "https://localhost:8080/"
        },
        "id": "yJ_fsUfVExOu",
        "outputId": "30e83392-d668-4943-97e9-c0c77c56a6ae"
      },
      "source": [
        "y.head(10)"
      ],
      "execution_count": 36,
      "outputs": [
        {
          "output_type": "execute_result",
          "data": {
            "text/plain": [
              "1726      76400\n",
              "12942    159800\n",
              "15016    118200\n",
              "14577    171600\n",
              "6477     206800\n",
              "18096    474700\n",
              "8043     214600\n",
              "15068    138600\n",
              "19603     82800\n",
              "13468    127600\n",
              "Name: median_house_value, dtype: int64"
            ]
          },
          "metadata": {
            "tags": []
          },
          "execution_count": 36
        }
      ]
    },
    {
      "cell_type": "code",
      "metadata": {
        "colab": {
          "base_uri": "https://localhost:8080/"
        },
        "id": "VJC38nPJExOv",
        "outputId": "019e5a98-a8f2-44de-dd0f-0c891bb37772"
      },
      "source": [
        "y.shape"
      ],
      "execution_count": 37,
      "outputs": [
        {
          "output_type": "execute_result",
          "data": {
            "text/plain": [
              "(19673,)"
            ]
          },
          "metadata": {
            "tags": []
          },
          "execution_count": 37
        }
      ]
    },
    {
      "cell_type": "code",
      "metadata": {
        "id": "BliMF6sHExOv"
      },
      "source": [
        "from sklearn.model_selection import train_test_split\n",
        "X_train, X_test, y_train, y_test = train_test_split(X, y, train_size=0.6)"
      ],
      "execution_count": 38,
      "outputs": []
    },
    {
      "cell_type": "code",
      "metadata": {
        "colab": {
          "base_uri": "https://localhost:8080/"
        },
        "id": "hSuqu-C6ExOv",
        "outputId": "222663e6-cc6e-408a-dbc4-6960f729b987"
      },
      "source": [
        "print(\"X_train shape is \",X_train.shape)\n",
        "print(\"X_test shape is \",X_test.shape)\n",
        "print(\"y_train shape is \",y_train.shape)\n",
        "print(\"y_test shape is \",y_test.shape)"
      ],
      "execution_count": 39,
      "outputs": [
        {
          "output_type": "stream",
          "text": [
            "X_train shape is  (11803, 9)\n",
            "X_test shape is  (7870, 9)\n",
            "y_train shape is  (11803,)\n",
            "y_test shape is  (7870,)\n"
          ],
          "name": "stdout"
        }
      ]
    },
    {
      "cell_type": "markdown",
      "metadata": {
        "id": "fcqcpuBnExOv"
      },
      "source": [
        "### 1. Random Forest Regressor"
      ]
    },
    {
      "cell_type": "code",
      "metadata": {
        "id": "5ADy6uPpExOw"
      },
      "source": [
        "#Using this class to make my print statement look bold\n",
        "class color:\n",
        "    BOLD = '\\033[1m'"
      ],
      "execution_count": 40,
      "outputs": []
    },
    {
      "cell_type": "code",
      "metadata": {
        "colab": {
          "base_uri": "https://localhost:8080/"
        },
        "id": "Twn2fc2pExOw",
        "outputId": "1e07811c-d6ea-439a-f6af-4bd78fdd448e"
      },
      "source": [
        "from sklearn.ensemble import RandomForestRegressor\n",
        "from sklearn import metrics\n",
        "from sklearn.metrics import r2_score\n",
        "from sklearn.metrics import accuracy_score\n",
        "from sklearn.metrics import mean_squared_error\n",
        "import numpy as np\n",
        "\n",
        "rf = RandomForestRegressor(random_state=0)\n",
        "rf.fit(X_train, y_train)\n",
        "\n",
        "y_pred = rf.predict(X_test)\n",
        "\n",
        "accuracies = {}\n",
        "\n",
        "accuracy = rf.score(X_test, y_test)\n",
        "accuracy_rounded = round(accuracy*100,2)\n",
        "accuracies['Random Forest'] = accuracy_rounded\n",
        "\n",
        "r2 = metrics.r2_score(y_test, y_pred)\n",
        "Adj_r2 = 1-(1-r2)*(9-1)/(9-1-1)\n",
        "\n",
        "print(color.BOLD + '\\nR2 score is ',r2)\n",
        "\n",
        "print(color.BOLD + '\\nAdjusted R2 score is ',Adj_r2)\n",
        "\n",
        "print(color.BOLD + '\\nMean Absolute Error is',round(metrics.mean_absolute_error(y_test,rf.predict(X_test)),2))\n",
        "\n",
        "print(color.BOLD + '\\nMean Squared Error is',round(metrics.mean_squared_error(y_test,rf.predict(X_test)),2))\n",
        "\n",
        "print(color.BOLD + '\\nRoot Mean Squared Error is',round(np.sqrt(mean_squared_error(y_test,rf.predict(X_test))),2))\n",
        "\n",
        "print(color.BOLD + \"\\nAccuracy of Random Forest Regressor is \", accuracy_rounded,'%')"
      ],
      "execution_count": 41,
      "outputs": [
        {
          "output_type": "stream",
          "text": [
            "\u001b[1m\n",
            "R2 score is  0.7832358051464153\n",
            "\u001b[1m\n",
            "Adjusted R2 score is  0.7522694915959032\n",
            "\u001b[1m\n",
            "Mean Absolute Error is 30721.65\n",
            "\u001b[1m\n",
            "Mean Squared Error is 2092687538.84\n",
            "\u001b[1m\n",
            "Root Mean Squared Error is 45745.9\n",
            "\u001b[1m\n",
            "Accuracy of Random Forest Regressor is  78.32 %\n"
          ],
          "name": "stdout"
        }
      ]
    },
    {
      "cell_type": "markdown",
      "metadata": {
        "id": "xsKntNzWExOw"
      },
      "source": [
        "### 2. Decision Tree Regressor"
      ]
    },
    {
      "cell_type": "code",
      "metadata": {
        "id": "N6aIrD7LExOx",
        "colab": {
          "base_uri": "https://localhost:8080/"
        },
        "outputId": "6e63396f-d646-462a-d0ac-5a60da97f304"
      },
      "source": [
        "from sklearn.tree import DecisionTreeRegressor\n",
        "\n",
        "dt = DecisionTreeRegressor(random_state=42)\n",
        "dt.fit(X_train,y_train)\n",
        "\n",
        "y_pred = dt.predict(X_test)\n",
        "\n",
        "accuracy = dt.score(X_test, y_test)\n",
        "accuracy_rounded = round(accuracy*100,2)\n",
        "accuracies['Decision Tree'] = accuracy_rounded\n",
        "\n",
        "r2 = metrics.r2_score(y_test, y_pred)\n",
        "Adj_r2 = 1-(1-r2)*(9-1)/(9-1-1)\n",
        "\n",
        "print(color.BOLD + '\\nR2 score is ',r2)\n",
        "\n",
        "print(color.BOLD + '\\nAdjusted R2 score is ',Adj_r2)\n",
        "\n",
        "print(color.BOLD + '\\nMean Absolute Error is',round(metrics.mean_absolute_error(y_test,dt.predict(X_test)),2))\n",
        "\n",
        "print(color.BOLD + '\\nMean Squared Error is',round(metrics.mean_squared_error(y_test,dt.predict(X_test)),2))\n",
        "\n",
        "print(color.BOLD + '\\nRoot Mean Squared Error is',round(np.sqrt(metrics.mean_squared_error(y_test,dt.predict(X_test))),2))\n",
        "\n",
        "print(color.BOLD + \"\\nAccuracy of Decision Tree Regressor is \", accuracy_rounded,'%')"
      ],
      "execution_count": 42,
      "outputs": [
        {
          "output_type": "stream",
          "text": [
            "\u001b[1m\n",
            "R2 score is  0.5566886018214638\n",
            "\u001b[1m\n",
            "Adjusted R2 score is  0.4933584020816729\n",
            "\u001b[1m\n",
            "Mean Absolute Error is 43319.38\n",
            "\u001b[1m\n",
            "Mean Squared Error is 4279822317.61\n",
            "\u001b[1m\n",
            "Root Mean Squared Error is 65420.35\n",
            "\u001b[1m\n",
            "Accuracy of Decision Tree Regressor is  55.67 %\n"
          ],
          "name": "stdout"
        }
      ]
    },
    {
      "cell_type": "markdown",
      "metadata": {
        "id": "WWXA1UPaExOx"
      },
      "source": [
        "### 3. AdaBoost Regressor"
      ]
    },
    {
      "cell_type": "code",
      "metadata": {
        "id": "uIgHs3GzExOx",
        "colab": {
          "base_uri": "https://localhost:8080/"
        },
        "outputId": "21d84e48-e10f-45a9-e7b5-da9f5f48c961"
      },
      "source": [
        "from sklearn.ensemble import AdaBoostRegressor\n",
        "\n",
        "ada = AdaBoostRegressor(random_state=0)\n",
        "\n",
        "ada.fit(X_train,y_train)\n",
        "\n",
        "y_pred = ada.predict(X_test)\n",
        "\n",
        "accuracy = ada.score(X_test, y_test)\n",
        "accuracy_rounded = round(accuracy*100,2)\n",
        "accuracies['AdaBoost'] = accuracy_rounded\n",
        "\n",
        "r2 = metrics.r2_score(y_test, y_pred)\n",
        "Adj_r2 = 1-(1-r2)*(9-1)/(9-1-1)\n",
        "\n",
        "print(color.BOLD + '\\nR2 score is ',r2)\n",
        "\n",
        "print(color.BOLD + '\\nAdjusted R2 score is ',Adj_r2)\n",
        "\n",
        "print(color.BOLD + '\\nMean Absolute Error is',round(metrics.mean_absolute_error(y_test,ada.predict(X_test)),2))\n",
        "\n",
        "print(color.BOLD + '\\nMean Squared Error is',round(metrics.mean_squared_error(y_test,ada.predict(X_test)),2))\n",
        "\n",
        "print(color.BOLD + '\\nRoot Mean Squared Error is',round(np.sqrt(mean_squared_error(y_test,ada.predict(X_test))),2))\n",
        "\n",
        "print(color.BOLD + \"\\nAccuracy of AdaBoost Regressor is \", accuracy_rounded,'%')"
      ],
      "execution_count": 43,
      "outputs": [
        {
          "output_type": "stream",
          "text": [
            "\u001b[1m\n",
            "R2 score is  0.3626153065393227\n",
            "\u001b[1m\n",
            "Adjusted R2 score is  0.2715603503306545\n",
            "\u001b[1m\n",
            "Mean Absolute Error is 67663.64\n",
            "\u001b[1m\n",
            "Mean Squared Error is 6153447096.52\n",
            "\u001b[1m\n",
            "Root Mean Squared Error is 78443.91\n",
            "\u001b[1m\n",
            "Accuracy of AdaBoost Regressor is  36.26 %\n"
          ],
          "name": "stdout"
        }
      ]
    },
    {
      "cell_type": "markdown",
      "metadata": {
        "id": "crwxCa3eExOy"
      },
      "source": [
        "### 4. XGBoost Regressor"
      ]
    },
    {
      "cell_type": "code",
      "metadata": {
        "colab": {
          "base_uri": "https://localhost:8080/"
        },
        "id": "7-7TsCiaExOy",
        "outputId": "bf81bdaa-7148-492b-c069-8a11e96edab9"
      },
      "source": [
        "from xgboost import XGBRegressor\n",
        "from sklearn.metrics import accuracy_score\n",
        "\n",
        "xg = XGBRegressor()\n",
        "xg.fit(X_train,y_train)\n",
        "\n",
        "y_pred = xg.predict(X_test)\n",
        "\n",
        "accuracy = xg.score(X_test, y_test)\n",
        "accuracy_rounded = round(accuracy*100,2)\n",
        "accuracies['XGBoost'] = accuracy_rounded\n",
        "\n",
        "r2 = metrics.r2_score(y_test, y_pred)\n",
        "Adj_r2 = 1-(1-r2)*(9-1)/(9-1-1)\n",
        "\n",
        "print(color.BOLD + '\\nR2 score is ',r2)\n",
        "\n",
        "print(color.BOLD + '\\nAdjusted R2 score is ',Adj_r2)\n",
        "\n",
        "print(color.BOLD + '\\nMean Absolute Error is',round(metrics.mean_absolute_error(y_test,xg.predict(X_test)),2))\n",
        "\n",
        "print(color.BOLD + '\\nMean Squared Error is',round(metrics.mean_squared_error(y_test,xg.predict(X_test)),2))\n",
        "\n",
        "print(color.BOLD + '\\nRoot Mean Squared Error is',round(np.sqrt(mean_squared_error(y_test,xg.predict(X_test))),2))\n",
        "\n",
        "print(color.BOLD + \"\\nAccuracy of XGBoost Regressor is \", accuracy_rounded,'%')"
      ],
      "execution_count": 44,
      "outputs": [
        {
          "output_type": "stream",
          "text": [
            "[12:56:42] WARNING: /workspace/src/objective/regression_obj.cu:152: reg:linear is now deprecated in favor of reg:squarederror.\n",
            "\u001b[1m\n",
            "R2 score is  0.7394561294472903\n",
            "\u001b[1m\n",
            "Adjusted R2 score is  0.702235576511189\n",
            "\u001b[1m\n",
            "Mean Absolute Error is 35371.47\n",
            "\u001b[1m\n",
            "Mean Squared Error is 2515345818.97\n",
            "\u001b[1m\n",
            "Root Mean Squared Error is 50153.22\n",
            "\u001b[1m\n",
            "Accuracy of XGBoost Regressor is  73.95 %\n"
          ],
          "name": "stdout"
        }
      ]
    },
    {
      "cell_type": "markdown",
      "metadata": {
        "id": "VM2qHHYBExOz"
      },
      "source": [
        "### 5. Gradient Boost Regressor"
      ]
    },
    {
      "cell_type": "code",
      "metadata": {
        "id": "4HtUdLgFExOz",
        "colab": {
          "base_uri": "https://localhost:8080/"
        },
        "outputId": "422479f2-236f-410d-e7d8-9f75086ef3e5"
      },
      "source": [
        "from sklearn.ensemble import GradientBoostingRegressor\n",
        "\n",
        "gboost = GradientBoostingRegressor(random_state=42)\n",
        "\n",
        "gboost.fit(X_train,y_train)\n",
        "\n",
        "y_pred = gboost.predict(X_test)\n",
        "\n",
        "accuracy = gboost.score(X_test, y_test)\n",
        "accuracy_rounded = round(accuracy*100,2)\n",
        "accuracies['Gradient Boost'] = accuracy_rounded\n",
        "\n",
        "r2 = metrics.r2_score(y_test, y_pred)\n",
        "Adj_r2 = 1-(1-r2)*(9-1)/(9-1-1)\n",
        "\n",
        "print(color.BOLD + '\\nR2 score is ',r2)\n",
        "\n",
        "print(color.BOLD + '\\nAdjusted R2 score is ',Adj_r2)\n",
        "\n",
        "print(color.BOLD + '\\nMean Absolute Error is',round(metrics.mean_absolute_error(y_test,gboost.predict(X_test)),2))\n",
        "\n",
        "print(color.BOLD + '\\nMean Squared Error is',round(metrics.mean_squared_error(y_test,gboost.predict(X_test)),2))\n",
        "\n",
        "print(color.BOLD + '\\nRoot Mean Squared Error is',round(np.sqrt(mean_squared_error(y_test,gboost.predict(X_test))),2))\n",
        "\n",
        "print(color.BOLD + \"\\nAccuracy of Gradient Boost Regressor is \", accuracy_rounded,'%')"
      ],
      "execution_count": 45,
      "outputs": [
        {
          "output_type": "stream",
          "text": [
            "\u001b[1m\n",
            "R2 score is  0.7332654000851206\n",
            "\u001b[1m\n",
            "Adjusted R2 score is  0.6951604572401379\n",
            "\u001b[1m\n",
            "Mean Absolute Error is 35823.29\n",
            "\u001b[1m\n",
            "Mean Squared Error is 2575112434.03\n",
            "\u001b[1m\n",
            "Root Mean Squared Error is 50745.57\n",
            "\u001b[1m\n",
            "Accuracy of Gradient Boost Regressor is  73.33 %\n"
          ],
          "name": "stdout"
        }
      ]
    },
    {
      "cell_type": "markdown",
      "metadata": {
        "id": "0BLssVV1ExO0"
      },
      "source": [
        "### 6. Ridge Regression"
      ]
    },
    {
      "cell_type": "code",
      "metadata": {
        "id": "YMHNvzb2ExO0",
        "colab": {
          "base_uri": "https://localhost:8080/"
        },
        "outputId": "a5afd7c7-9188-4a78-fbcf-92f5bdc8525f"
      },
      "source": [
        "from sklearn.linear_model import Ridge\n",
        "\n",
        "rid = Ridge(alpha=0.1)\n",
        "\n",
        "rid.fit(X_train,y_train)\n",
        "\n",
        "y_pred = rid.predict(X_test)\n",
        "\n",
        "accuracy = rid.score(X_test, y_test)\n",
        "accuracy_rounded = round(accuracy*100,2)\n",
        "accuracies['Ridge Regression'] = accuracy_rounded\n",
        "\n",
        "r2 = metrics.r2_score(y_test, y_pred)\n",
        "Adj_r2 = 1-(1-r2)*(9-1)/(9-1-1)\n",
        "\n",
        "print(color.BOLD + '\\nR2 score is ',r2)\n",
        "\n",
        "print(color.BOLD + '\\nAdjusted R2 score is ',Adj_r2)\n",
        "\n",
        "print(color.BOLD + '\\nMean Absolute Error is',round(metrics.mean_absolute_error(y_test,rid.predict(X_test)),2))\n",
        "\n",
        "print(color.BOLD + '\\nMean Squared Error is',round(metrics.mean_squared_error(y_test,rid.predict(X_test)),2))\n",
        "\n",
        "print(color.BOLD + '\\nRoot Mean Squared Error is',round(np.sqrt(mean_squared_error(y_test,rid.predict(X_test))),2))\n",
        "\n",
        "print(color.BOLD + \"\\nAccuracy of Ridge Regression is \", accuracy_rounded,'%')"
      ],
      "execution_count": 46,
      "outputs": [
        {
          "output_type": "stream",
          "text": [
            "\u001b[1m\n",
            "R2 score is  0.6008881616883058\n",
            "\u001b[1m\n",
            "Adjusted R2 score is  0.5438721847866352\n",
            "\u001b[1m\n",
            "Mean Absolute Error is 45897.34\n",
            "\u001b[1m\n",
            "Mean Squared Error is 3853110386.62\n",
            "\u001b[1m\n",
            "Root Mean Squared Error is 62073.43\n",
            "\u001b[1m\n",
            "Accuracy of Ridge Regression is  60.09 %\n"
          ],
          "name": "stdout"
        }
      ]
    },
    {
      "cell_type": "markdown",
      "metadata": {
        "id": "Oc89QA2kExO1"
      },
      "source": [
        "### 7. Lasso Regression"
      ]
    },
    {
      "cell_type": "code",
      "metadata": {
        "id": "VHZR3S32ExO1",
        "colab": {
          "base_uri": "https://localhost:8080/"
        },
        "outputId": "15816275-1771-4b6b-ac8d-6789bf1bfc1a"
      },
      "source": [
        "from sklearn import linear_model\n",
        "\n",
        "lasso = linear_model.Lasso(alpha=0.3)\n",
        "\n",
        "lasso.fit(X_train,y_train)\n",
        "\n",
        "y_pred = lasso.predict(X_test)\n",
        "\n",
        "accuracy = lasso.score(X_test, y_test)\n",
        "accuracy_rounded = round(accuracy*100,2)\n",
        "accuracies['Lasso Regression'] = accuracy_rounded\n",
        "\n",
        "r2 = metrics.r2_score(y_test, y_pred)\n",
        "Adj_r2 = 1-(1-r2)*(9-1)/(9-1-1)\n",
        "\n",
        "print(color.BOLD + '\\nR2 score is ',r2)\n",
        "\n",
        "print(color.BOLD + '\\nAdjusted R2 score is ',Adj_r2)\n",
        "\n",
        "print(color.BOLD + '\\nMean Absolute Error is',round(metrics.mean_absolute_error(y_test,lasso.predict(X_test)),2))\n",
        "\n",
        "print(color.BOLD + '\\nMean Squared Error is',round(metrics.mean_squared_error(y_test,lasso.predict(X_test)),2))\n",
        "\n",
        "print(color.BOLD + '\\nRoot Mean Squared Error is',round(np.sqrt(mean_squared_error(y_test,lasso.predict(X_test))),2))\n",
        "\n",
        "print(color.BOLD + \"\\nAccuracy of Lasso Regression is \", accuracy_rounded,'%')"
      ],
      "execution_count": 47,
      "outputs": [
        {
          "output_type": "stream",
          "text": [
            "\u001b[1m\n",
            "R2 score is  0.6008881496276757\n",
            "\u001b[1m\n",
            "Adjusted R2 score is  0.5438721710030578\n",
            "\u001b[1m\n",
            "Mean Absolute Error is 45897.34\n",
            "\u001b[1m\n",
            "Mean Squared Error is 3853110503.06\n",
            "\u001b[1m\n",
            "Root Mean Squared Error is 62073.43\n",
            "\u001b[1m\n",
            "Accuracy of Lasso Regression is  60.09 %\n"
          ],
          "name": "stdout"
        }
      ]
    },
    {
      "cell_type": "markdown",
      "metadata": {
        "id": "MohqDtvSExO2"
      },
      "source": [
        "### 8. ElasticNet Regression"
      ]
    },
    {
      "cell_type": "code",
      "metadata": {
        "id": "w94Y8-kTExO2",
        "colab": {
          "base_uri": "https://localhost:8080/"
        },
        "outputId": "79c8a56d-0544-4dae-b436-9245f6c3dc09"
      },
      "source": [
        "from sklearn.linear_model import ElasticNet\n",
        "\n",
        "ela = ElasticNet(random_state=0)\n",
        "\n",
        "ela.fit(X_train,y_train)\n",
        "\n",
        "y_pred = ela.predict(X_test)\n",
        "\n",
        "accuracy = ela.score(X_test, y_test)\n",
        "accuracy_rounded = round(accuracy*100,2)\n",
        "accuracies['Elastic Net Regression'] = accuracy_rounded\n",
        "\n",
        "r2 = metrics.r2_score(y_test, y_pred)\n",
        "Adj_r2 = 1-(1-r2)*(9-1)/(9-1-1)\n",
        "\n",
        "print(color.BOLD + '\\nR2 score is ',r2)\n",
        "\n",
        "print(color.BOLD + '\\nAdjusted R2 score is ',Adj_r2)\n",
        "\n",
        "print(color.BOLD + '\\nMean Absolute Error is',round(metrics.mean_absolute_error(y_test,ela.predict(X_test)),2))\n",
        "\n",
        "print(color.BOLD + '\\nMean Squared Error is',round(metrics.mean_squared_error(y_test,ela.predict(X_test)),2))\n",
        "\n",
        "print(color.BOLD + '\\nRoot Mean Squared Error is',round(np.sqrt(mean_squared_error(y_test,ela.predict(X_test))),2))\n",
        "\n",
        "print(color.BOLD + \"\\nAccuracy of Elastic net Regression is \", accuracy_rounded,'%')"
      ],
      "execution_count": 48,
      "outputs": [
        {
          "output_type": "stream",
          "text": [
            "\u001b[1m\n",
            "R2 score is  0.5564862201303187\n",
            "\u001b[1m\n",
            "Adjusted R2 score is  0.49312710872036425\n",
            "\u001b[1m\n",
            "Mean Absolute Error is 49133.97\n",
            "\u001b[1m\n",
            "Mean Squared Error is 4281776153.41\n",
            "\u001b[1m\n",
            "Root Mean Squared Error is 65435.28\n",
            "\u001b[1m\n",
            "Accuracy of Elastic net Regression is  55.65 %\n"
          ],
          "name": "stdout"
        }
      ]
    },
    {
      "cell_type": "markdown",
      "metadata": {
        "id": "-55vOHQ0ExO2"
      },
      "source": [
        "### 9. CatBoost"
      ]
    },
    {
      "cell_type": "code",
      "metadata": {
        "colab": {
          "base_uri": "https://localhost:8080/"
        },
        "id": "lWRZ6r-KF3Hp",
        "outputId": "16343f52-484e-418f-e19b-2525b7505c9b"
      },
      "source": [
        "!pip install catboost"
      ],
      "execution_count": 49,
      "outputs": [
        {
          "output_type": "stream",
          "text": [
            "Requirement already satisfied: catboost in /usr/local/lib/python3.7/dist-packages (0.25.1)\n",
            "Requirement already satisfied: plotly in /usr/local/lib/python3.7/dist-packages (from catboost) (4.4.1)\n",
            "Requirement already satisfied: scipy in /usr/local/lib/python3.7/dist-packages (from catboost) (1.4.1)\n",
            "Requirement already satisfied: six in /usr/local/lib/python3.7/dist-packages (from catboost) (1.15.0)\n",
            "Requirement already satisfied: matplotlib in /usr/local/lib/python3.7/dist-packages (from catboost) (3.2.2)\n",
            "Requirement already satisfied: pandas>=0.24.0 in /usr/local/lib/python3.7/dist-packages (from catboost) (1.1.5)\n",
            "Requirement already satisfied: graphviz in /usr/local/lib/python3.7/dist-packages (from catboost) (0.10.1)\n",
            "Requirement already satisfied: numpy>=1.16.0 in /usr/local/lib/python3.7/dist-packages (from catboost) (1.19.5)\n",
            "Requirement already satisfied: retrying>=1.3.3 in /usr/local/lib/python3.7/dist-packages (from plotly->catboost) (1.3.3)\n",
            "Requirement already satisfied: cycler>=0.10 in /usr/local/lib/python3.7/dist-packages (from matplotlib->catboost) (0.10.0)\n",
            "Requirement already satisfied: kiwisolver>=1.0.1 in /usr/local/lib/python3.7/dist-packages (from matplotlib->catboost) (1.3.1)\n",
            "Requirement already satisfied: python-dateutil>=2.1 in /usr/local/lib/python3.7/dist-packages (from matplotlib->catboost) (2.8.1)\n",
            "Requirement already satisfied: pyparsing!=2.0.4,!=2.1.2,!=2.1.6,>=2.0.1 in /usr/local/lib/python3.7/dist-packages (from matplotlib->catboost) (2.4.7)\n",
            "Requirement already satisfied: pytz>=2017.2 in /usr/local/lib/python3.7/dist-packages (from pandas>=0.24.0->catboost) (2018.9)\n"
          ],
          "name": "stdout"
        }
      ]
    },
    {
      "cell_type": "code",
      "metadata": {
        "scrolled": true,
        "id": "BLAKNVDmExO3",
        "colab": {
          "base_uri": "https://localhost:8080/"
        },
        "outputId": "d357a3e8-442a-4b89-d373-5573af16d615"
      },
      "source": [
        "from catboost import CatBoostRegressor\n",
        "\n",
        "cat = CatBoostRegressor()\n",
        "\n",
        "cat.fit(X_train,y_train)\n",
        "\n",
        "y_pred = cat.predict(X_test)\n",
        "\n",
        "accuracy = cat.score(X_test, y_test)\n",
        "accuracy_rounded = round(accuracy*100,2)\n",
        "accuracies['CatBoost'] = accuracy_rounded\n",
        "\n",
        "r2 = metrics.r2_score(y_test, y_pred)\n",
        "Adj_r2 = 1-(1-r2)*(9-1)/(9-1-1)\n",
        "\n",
        "print(color.BOLD + '\\nR2 score is ',r2)\n",
        "\n",
        "print(color.BOLD + '\\nAdjusted R2 score is ',Adj_r2)\n",
        "\n",
        "print(color.BOLD + '\\nMean Absolute Error is',round(metrics.mean_absolute_error(y_test,cat.predict(X_test)),2))\n",
        "\n",
        "print(color.BOLD + '\\nMean Squared Error is',round(metrics.mean_squared_error(y_test,cat.predict(X_test)),2))\n",
        "\n",
        "print(color.BOLD + '\\nRoot Mean Squared Error is',round(np.sqrt(mean_squared_error(y_test,cat.predict(X_test))),2))\n",
        "\n",
        "print(color.BOLD + \"\\nAccuracy of CatBoost is \", accuracy_rounded,'%')"
      ],
      "execution_count": 50,
      "outputs": [
        {
          "output_type": "stream",
          "text": [
            "Learning rate set to 0.060564\n",
            "0:\tlearn: 94285.9830965\ttotal: 52.4ms\tremaining: 52.4s\n",
            "1:\tlearn: 91479.7819209\ttotal: 56.7ms\tremaining: 28.3s\n",
            "2:\tlearn: 88823.0932813\ttotal: 60.8ms\tremaining: 20.2s\n",
            "3:\tlearn: 86475.8899997\ttotal: 64.9ms\tremaining: 16.2s\n",
            "4:\tlearn: 84105.1713553\ttotal: 68.8ms\tremaining: 13.7s\n",
            "5:\tlearn: 82092.3871447\ttotal: 73ms\tremaining: 12.1s\n",
            "6:\tlearn: 80202.9309175\ttotal: 77.2ms\tremaining: 11s\n",
            "7:\tlearn: 78416.0832225\ttotal: 81.5ms\tremaining: 10.1s\n",
            "8:\tlearn: 76833.7024186\ttotal: 86ms\tremaining: 9.47s\n",
            "9:\tlearn: 75371.4146974\ttotal: 90.3ms\tremaining: 8.94s\n",
            "10:\tlearn: 74062.6068044\ttotal: 94.6ms\tremaining: 8.51s\n",
            "11:\tlearn: 72866.7285875\ttotal: 98.8ms\tremaining: 8.13s\n",
            "12:\tlearn: 71701.3025841\ttotal: 103ms\tremaining: 7.83s\n",
            "13:\tlearn: 70569.8590842\ttotal: 107ms\tremaining: 7.55s\n",
            "14:\tlearn: 69583.4416128\ttotal: 112ms\tremaining: 7.33s\n",
            "15:\tlearn: 68675.1980384\ttotal: 116ms\tremaining: 7.11s\n",
            "16:\tlearn: 67873.2201456\ttotal: 120ms\tremaining: 6.93s\n",
            "17:\tlearn: 67007.7841017\ttotal: 124ms\tremaining: 6.76s\n",
            "18:\tlearn: 66286.9201862\ttotal: 128ms\tremaining: 6.62s\n",
            "19:\tlearn: 65635.7395205\ttotal: 132ms\tremaining: 6.48s\n",
            "20:\tlearn: 65046.9072675\ttotal: 136ms\tremaining: 6.36s\n",
            "21:\tlearn: 64469.8020898\ttotal: 141ms\tremaining: 6.26s\n",
            "22:\tlearn: 63936.0335654\ttotal: 145ms\tremaining: 6.15s\n",
            "23:\tlearn: 63436.2457216\ttotal: 149ms\tremaining: 6.06s\n",
            "24:\tlearn: 63032.1265397\ttotal: 153ms\tremaining: 5.98s\n",
            "25:\tlearn: 62569.0195726\ttotal: 157ms\tremaining: 5.89s\n",
            "26:\tlearn: 62149.8631765\ttotal: 162ms\tremaining: 5.82s\n",
            "27:\tlearn: 61799.9355837\ttotal: 166ms\tremaining: 5.75s\n",
            "28:\tlearn: 61421.9137642\ttotal: 170ms\tremaining: 5.69s\n",
            "29:\tlearn: 61096.8024100\ttotal: 174ms\tremaining: 5.64s\n",
            "30:\tlearn: 60810.3954733\ttotal: 179ms\tremaining: 5.58s\n",
            "31:\tlearn: 60500.3722108\ttotal: 186ms\tremaining: 5.62s\n",
            "32:\tlearn: 60116.3831526\ttotal: 190ms\tremaining: 5.58s\n",
            "33:\tlearn: 59821.5555212\ttotal: 194ms\tremaining: 5.52s\n",
            "34:\tlearn: 59551.8816982\ttotal: 200ms\tremaining: 5.5s\n",
            "35:\tlearn: 59298.5215381\ttotal: 204ms\tremaining: 5.46s\n",
            "36:\tlearn: 59036.4059817\ttotal: 208ms\tremaining: 5.42s\n",
            "37:\tlearn: 58655.6786267\ttotal: 212ms\tremaining: 5.38s\n",
            "38:\tlearn: 58227.0853445\ttotal: 216ms\tremaining: 5.33s\n",
            "39:\tlearn: 58004.7730328\ttotal: 221ms\tremaining: 5.3s\n",
            "40:\tlearn: 57767.5584380\ttotal: 226ms\tremaining: 5.28s\n",
            "41:\tlearn: 57567.4304247\ttotal: 230ms\tremaining: 5.24s\n",
            "42:\tlearn: 57347.6080583\ttotal: 234ms\tremaining: 5.2s\n",
            "43:\tlearn: 57056.3176362\ttotal: 238ms\tremaining: 5.18s\n",
            "44:\tlearn: 56839.7638446\ttotal: 243ms\tremaining: 5.16s\n",
            "45:\tlearn: 56677.4186983\ttotal: 247ms\tremaining: 5.13s\n",
            "46:\tlearn: 56400.3704372\ttotal: 251ms\tremaining: 5.1s\n",
            "47:\tlearn: 56232.1770567\ttotal: 256ms\tremaining: 5.07s\n",
            "48:\tlearn: 55975.1764859\ttotal: 260ms\tremaining: 5.05s\n",
            "49:\tlearn: 55822.5980692\ttotal: 264ms\tremaining: 5.02s\n",
            "50:\tlearn: 55684.5998653\ttotal: 269ms\tremaining: 5s\n",
            "51:\tlearn: 55428.3198097\ttotal: 273ms\tremaining: 4.98s\n",
            "52:\tlearn: 55133.5146063\ttotal: 281ms\tremaining: 5.02s\n",
            "53:\tlearn: 54976.8107413\ttotal: 292ms\tremaining: 5.12s\n",
            "54:\tlearn: 54812.0961218\ttotal: 298ms\tremaining: 5.12s\n",
            "55:\tlearn: 54681.8737063\ttotal: 303ms\tremaining: 5.1s\n",
            "56:\tlearn: 54594.8599875\ttotal: 307ms\tremaining: 5.07s\n",
            "57:\tlearn: 54460.3268617\ttotal: 311ms\tremaining: 5.05s\n",
            "58:\tlearn: 54351.3188568\ttotal: 315ms\tremaining: 5.03s\n",
            "59:\tlearn: 54238.7112372\ttotal: 319ms\tremaining: 5s\n",
            "60:\tlearn: 54130.2367469\ttotal: 323ms\tremaining: 4.98s\n",
            "61:\tlearn: 53974.5844114\ttotal: 327ms\tremaining: 4.95s\n",
            "62:\tlearn: 53844.5806927\ttotal: 332ms\tremaining: 4.93s\n",
            "63:\tlearn: 53745.3789919\ttotal: 336ms\tremaining: 4.91s\n",
            "64:\tlearn: 53689.2021206\ttotal: 340ms\tremaining: 4.89s\n",
            "65:\tlearn: 53481.5555481\ttotal: 344ms\tremaining: 4.87s\n",
            "66:\tlearn: 53245.3887297\ttotal: 348ms\tremaining: 4.85s\n",
            "67:\tlearn: 53132.2749026\ttotal: 353ms\tremaining: 4.83s\n",
            "68:\tlearn: 52886.8331076\ttotal: 357ms\tremaining: 4.82s\n",
            "69:\tlearn: 52763.4786900\ttotal: 361ms\tremaining: 4.8s\n",
            "70:\tlearn: 52679.3774715\ttotal: 365ms\tremaining: 4.78s\n",
            "71:\tlearn: 52566.4727984\ttotal: 369ms\tremaining: 4.76s\n",
            "72:\tlearn: 52463.6535523\ttotal: 374ms\tremaining: 4.74s\n",
            "73:\tlearn: 52354.9659267\ttotal: 384ms\tremaining: 4.81s\n",
            "74:\tlearn: 52242.1646786\ttotal: 390ms\tremaining: 4.81s\n",
            "75:\tlearn: 52061.1121647\ttotal: 395ms\tremaining: 4.8s\n",
            "76:\tlearn: 52004.2890679\ttotal: 399ms\tremaining: 4.78s\n",
            "77:\tlearn: 51920.6504607\ttotal: 404ms\tremaining: 4.78s\n",
            "78:\tlearn: 51832.9405151\ttotal: 408ms\tremaining: 4.76s\n",
            "79:\tlearn: 51725.3131941\ttotal: 413ms\tremaining: 4.74s\n",
            "80:\tlearn: 51631.0452768\ttotal: 417ms\tremaining: 4.73s\n",
            "81:\tlearn: 51547.2629953\ttotal: 421ms\tremaining: 4.71s\n",
            "82:\tlearn: 51443.8416034\ttotal: 425ms\tremaining: 4.7s\n",
            "83:\tlearn: 51359.5963075\ttotal: 430ms\tremaining: 4.69s\n",
            "84:\tlearn: 51300.6902925\ttotal: 434ms\tremaining: 4.67s\n",
            "85:\tlearn: 51196.3737779\ttotal: 439ms\tremaining: 4.67s\n",
            "86:\tlearn: 51093.9791711\ttotal: 443ms\tremaining: 4.65s\n",
            "87:\tlearn: 50959.0567039\ttotal: 448ms\tremaining: 4.64s\n",
            "88:\tlearn: 50898.8525047\ttotal: 452ms\tremaining: 4.63s\n",
            "89:\tlearn: 50839.1915459\ttotal: 457ms\tremaining: 4.62s\n",
            "90:\tlearn: 50765.4522048\ttotal: 461ms\tremaining: 4.6s\n",
            "91:\tlearn: 50670.0320196\ttotal: 465ms\tremaining: 4.59s\n",
            "92:\tlearn: 50559.6166395\ttotal: 469ms\tremaining: 4.58s\n",
            "93:\tlearn: 50474.8196318\ttotal: 474ms\tremaining: 4.57s\n",
            "94:\tlearn: 50432.6692837\ttotal: 481ms\tremaining: 4.58s\n",
            "95:\tlearn: 50369.3349361\ttotal: 492ms\tremaining: 4.63s\n",
            "96:\tlearn: 50310.0554983\ttotal: 496ms\tremaining: 4.62s\n",
            "97:\tlearn: 50232.3442687\ttotal: 501ms\tremaining: 4.61s\n",
            "98:\tlearn: 50195.2990919\ttotal: 511ms\tremaining: 4.65s\n",
            "99:\tlearn: 50122.5923876\ttotal: 516ms\tremaining: 4.64s\n",
            "100:\tlearn: 50046.0773661\ttotal: 520ms\tremaining: 4.63s\n",
            "101:\tlearn: 49974.4734682\ttotal: 524ms\tremaining: 4.61s\n",
            "102:\tlearn: 49896.7199938\ttotal: 528ms\tremaining: 4.6s\n",
            "103:\tlearn: 49835.8122700\ttotal: 537ms\tremaining: 4.63s\n",
            "104:\tlearn: 49731.1795581\ttotal: 541ms\tremaining: 4.61s\n",
            "105:\tlearn: 49679.9904773\ttotal: 545ms\tremaining: 4.6s\n",
            "106:\tlearn: 49530.7717995\ttotal: 549ms\tremaining: 4.58s\n",
            "107:\tlearn: 49473.1491964\ttotal: 553ms\tremaining: 4.57s\n",
            "108:\tlearn: 49429.0789071\ttotal: 557ms\tremaining: 4.55s\n",
            "109:\tlearn: 49378.3244028\ttotal: 561ms\tremaining: 4.54s\n",
            "110:\tlearn: 49335.0791861\ttotal: 566ms\tremaining: 4.53s\n",
            "111:\tlearn: 49280.3682389\ttotal: 570ms\tremaining: 4.52s\n",
            "112:\tlearn: 49219.1808251\ttotal: 584ms\tremaining: 4.58s\n",
            "113:\tlearn: 49119.5496760\ttotal: 589ms\tremaining: 4.58s\n",
            "114:\tlearn: 49042.9720947\ttotal: 594ms\tremaining: 4.57s\n",
            "115:\tlearn: 48970.1813684\ttotal: 598ms\tremaining: 4.56s\n",
            "116:\tlearn: 48909.8979370\ttotal: 603ms\tremaining: 4.55s\n",
            "117:\tlearn: 48807.9093190\ttotal: 607ms\tremaining: 4.54s\n",
            "118:\tlearn: 48756.4759657\ttotal: 612ms\tremaining: 4.53s\n",
            "119:\tlearn: 48714.8910107\ttotal: 619ms\tremaining: 4.54s\n",
            "120:\tlearn: 48658.6886111\ttotal: 625ms\tremaining: 4.54s\n",
            "121:\tlearn: 48607.6708451\ttotal: 629ms\tremaining: 4.53s\n",
            "122:\tlearn: 48527.8170409\ttotal: 634ms\tremaining: 4.52s\n",
            "123:\tlearn: 48430.0469086\ttotal: 638ms\tremaining: 4.51s\n",
            "124:\tlearn: 48348.4181150\ttotal: 643ms\tremaining: 4.5s\n",
            "125:\tlearn: 48306.5387034\ttotal: 647ms\tremaining: 4.49s\n",
            "126:\tlearn: 48259.6970019\ttotal: 652ms\tremaining: 4.48s\n",
            "127:\tlearn: 48205.6397397\ttotal: 656ms\tremaining: 4.47s\n",
            "128:\tlearn: 48185.8413082\ttotal: 660ms\tremaining: 4.46s\n",
            "129:\tlearn: 48110.9548778\ttotal: 665ms\tremaining: 4.45s\n",
            "130:\tlearn: 48052.7254325\ttotal: 669ms\tremaining: 4.44s\n",
            "131:\tlearn: 48028.6293078\ttotal: 673ms\tremaining: 4.43s\n",
            "132:\tlearn: 47964.4968236\ttotal: 678ms\tremaining: 4.42s\n",
            "133:\tlearn: 47916.1443408\ttotal: 683ms\tremaining: 4.41s\n",
            "134:\tlearn: 47868.2594269\ttotal: 687ms\tremaining: 4.4s\n",
            "135:\tlearn: 47793.9161331\ttotal: 691ms\tremaining: 4.39s\n",
            "136:\tlearn: 47764.5039566\ttotal: 696ms\tremaining: 4.38s\n",
            "137:\tlearn: 47690.1036647\ttotal: 700ms\tremaining: 4.37s\n",
            "138:\tlearn: 47641.0548807\ttotal: 704ms\tremaining: 4.36s\n",
            "139:\tlearn: 47611.5373020\ttotal: 709ms\tremaining: 4.35s\n",
            "140:\tlearn: 47555.5359380\ttotal: 713ms\tremaining: 4.35s\n",
            "141:\tlearn: 47528.4426140\ttotal: 718ms\tremaining: 4.34s\n",
            "142:\tlearn: 47483.0005582\ttotal: 722ms\tremaining: 4.33s\n",
            "143:\tlearn: 47431.8637638\ttotal: 727ms\tremaining: 4.32s\n",
            "144:\tlearn: 47346.7437179\ttotal: 731ms\tremaining: 4.31s\n",
            "145:\tlearn: 47317.7928217\ttotal: 736ms\tremaining: 4.3s\n",
            "146:\tlearn: 47223.8113615\ttotal: 742ms\tremaining: 4.31s\n",
            "147:\tlearn: 47171.2707647\ttotal: 750ms\tremaining: 4.32s\n",
            "148:\tlearn: 47123.5405161\ttotal: 755ms\tremaining: 4.31s\n",
            "149:\tlearn: 47081.8991097\ttotal: 759ms\tremaining: 4.3s\n",
            "150:\tlearn: 47043.3091453\ttotal: 763ms\tremaining: 4.29s\n",
            "151:\tlearn: 46967.9066294\ttotal: 767ms\tremaining: 4.28s\n",
            "152:\tlearn: 46919.8371043\ttotal: 771ms\tremaining: 4.27s\n",
            "153:\tlearn: 46863.4023373\ttotal: 778ms\tremaining: 4.27s\n",
            "154:\tlearn: 46825.6850251\ttotal: 784ms\tremaining: 4.28s\n",
            "155:\tlearn: 46802.7256303\ttotal: 788ms\tremaining: 4.26s\n",
            "156:\tlearn: 46755.7370189\ttotal: 792ms\tremaining: 4.25s\n",
            "157:\tlearn: 46716.6064382\ttotal: 796ms\tremaining: 4.24s\n",
            "158:\tlearn: 46670.1454841\ttotal: 800ms\tremaining: 4.23s\n",
            "159:\tlearn: 46629.3086734\ttotal: 804ms\tremaining: 4.22s\n",
            "160:\tlearn: 46563.2156287\ttotal: 809ms\tremaining: 4.21s\n",
            "161:\tlearn: 46474.0047413\ttotal: 813ms\tremaining: 4.21s\n",
            "162:\tlearn: 46437.5381553\ttotal: 818ms\tremaining: 4.2s\n",
            "163:\tlearn: 46402.8717433\ttotal: 822ms\tremaining: 4.19s\n",
            "164:\tlearn: 46348.0788392\ttotal: 826ms\tremaining: 4.18s\n",
            "165:\tlearn: 46273.7413232\ttotal: 831ms\tremaining: 4.17s\n",
            "166:\tlearn: 46204.9358618\ttotal: 835ms\tremaining: 4.16s\n",
            "167:\tlearn: 46165.3347734\ttotal: 839ms\tremaining: 4.16s\n",
            "168:\tlearn: 46130.0465545\ttotal: 843ms\tremaining: 4.15s\n",
            "169:\tlearn: 46077.7342166\ttotal: 848ms\tremaining: 4.14s\n",
            "170:\tlearn: 46037.2276945\ttotal: 852ms\tremaining: 4.13s\n",
            "171:\tlearn: 45981.9192262\ttotal: 856ms\tremaining: 4.12s\n",
            "172:\tlearn: 45931.5937636\ttotal: 861ms\tremaining: 4.12s\n",
            "173:\tlearn: 45902.4416865\ttotal: 865ms\tremaining: 4.11s\n",
            "174:\tlearn: 45818.7302169\ttotal: 869ms\tremaining: 4.1s\n",
            "175:\tlearn: 45783.3626657\ttotal: 874ms\tremaining: 4.09s\n",
            "176:\tlearn: 45728.8521449\ttotal: 878ms\tremaining: 4.08s\n",
            "177:\tlearn: 45689.9410599\ttotal: 882ms\tremaining: 4.08s\n",
            "178:\tlearn: 45643.8751608\ttotal: 887ms\tremaining: 4.07s\n",
            "179:\tlearn: 45595.3821694\ttotal: 891ms\tremaining: 4.06s\n",
            "180:\tlearn: 45570.0215344\ttotal: 895ms\tremaining: 4.05s\n",
            "181:\tlearn: 45518.4103898\ttotal: 899ms\tremaining: 4.04s\n",
            "182:\tlearn: 45455.7789074\ttotal: 904ms\tremaining: 4.04s\n",
            "183:\tlearn: 45425.5494850\ttotal: 908ms\tremaining: 4.03s\n",
            "184:\tlearn: 45381.5115798\ttotal: 913ms\tremaining: 4.02s\n",
            "185:\tlearn: 45343.9618692\ttotal: 918ms\tremaining: 4.02s\n",
            "186:\tlearn: 45292.5977858\ttotal: 922ms\tremaining: 4.01s\n",
            "187:\tlearn: 45244.7485073\ttotal: 926ms\tremaining: 4s\n",
            "188:\tlearn: 45212.3249466\ttotal: 931ms\tremaining: 3.99s\n",
            "189:\tlearn: 45173.7204026\ttotal: 935ms\tremaining: 3.98s\n",
            "190:\tlearn: 45137.4307891\ttotal: 940ms\tremaining: 3.98s\n",
            "191:\tlearn: 45087.4844858\ttotal: 947ms\tremaining: 3.98s\n",
            "192:\tlearn: 45050.0451317\ttotal: 951ms\tremaining: 3.98s\n",
            "193:\tlearn: 44996.7216360\ttotal: 955ms\tremaining: 3.97s\n",
            "194:\tlearn: 44946.5801047\ttotal: 960ms\tremaining: 3.96s\n",
            "195:\tlearn: 44895.9499610\ttotal: 964ms\tremaining: 3.96s\n",
            "196:\tlearn: 44851.7305394\ttotal: 972ms\tremaining: 3.96s\n",
            "197:\tlearn: 44810.7676334\ttotal: 977ms\tremaining: 3.96s\n",
            "198:\tlearn: 44766.0920724\ttotal: 981ms\tremaining: 3.95s\n",
            "199:\tlearn: 44737.9142674\ttotal: 985ms\tremaining: 3.94s\n",
            "200:\tlearn: 44710.5291140\ttotal: 989ms\tremaining: 3.93s\n",
            "201:\tlearn: 44682.5383536\ttotal: 993ms\tremaining: 3.92s\n",
            "202:\tlearn: 44655.9281446\ttotal: 997ms\tremaining: 3.91s\n",
            "203:\tlearn: 44623.6984380\ttotal: 1s\tremaining: 3.9s\n",
            "204:\tlearn: 44565.9273071\ttotal: 1s\tremaining: 3.9s\n",
            "205:\tlearn: 44525.4663371\ttotal: 1.01s\tremaining: 3.89s\n",
            "206:\tlearn: 44475.4252439\ttotal: 1.01s\tremaining: 3.88s\n",
            "207:\tlearn: 44442.3899279\ttotal: 1.02s\tremaining: 3.87s\n",
            "208:\tlearn: 44389.2619990\ttotal: 1.02s\tremaining: 3.87s\n",
            "209:\tlearn: 44344.6935524\ttotal: 1.02s\tremaining: 3.86s\n",
            "210:\tlearn: 44293.1012793\ttotal: 1.03s\tremaining: 3.85s\n",
            "211:\tlearn: 44227.6590877\ttotal: 1.03s\tremaining: 3.84s\n",
            "212:\tlearn: 44196.6337427\ttotal: 1.04s\tremaining: 3.84s\n",
            "213:\tlearn: 44165.4090640\ttotal: 1.04s\tremaining: 3.83s\n",
            "214:\tlearn: 44131.1461579\ttotal: 1.05s\tremaining: 3.82s\n",
            "215:\tlearn: 44088.9300983\ttotal: 1.05s\tremaining: 3.82s\n",
            "216:\tlearn: 44050.8688038\ttotal: 1.05s\tremaining: 3.81s\n",
            "217:\tlearn: 44022.8385331\ttotal: 1.06s\tremaining: 3.8s\n",
            "218:\tlearn: 43988.7764807\ttotal: 1.06s\tremaining: 3.79s\n",
            "219:\tlearn: 43949.3759185\ttotal: 1.07s\tremaining: 3.79s\n",
            "220:\tlearn: 43912.2155902\ttotal: 1.07s\tremaining: 3.78s\n",
            "221:\tlearn: 43888.1325783\ttotal: 1.08s\tremaining: 3.77s\n",
            "222:\tlearn: 43856.2997816\ttotal: 1.08s\tremaining: 3.76s\n",
            "223:\tlearn: 43819.1470985\ttotal: 1.08s\tremaining: 3.76s\n",
            "224:\tlearn: 43793.7777545\ttotal: 1.09s\tremaining: 3.75s\n",
            "225:\tlearn: 43767.4884823\ttotal: 1.09s\tremaining: 3.74s\n",
            "226:\tlearn: 43721.8227639\ttotal: 1.1s\tremaining: 3.74s\n",
            "227:\tlearn: 43685.3653760\ttotal: 1.1s\tremaining: 3.73s\n",
            "228:\tlearn: 43652.5523124\ttotal: 1.11s\tremaining: 3.73s\n",
            "229:\tlearn: 43606.0222693\ttotal: 1.11s\tremaining: 3.72s\n",
            "230:\tlearn: 43571.2965514\ttotal: 1.11s\tremaining: 3.71s\n",
            "231:\tlearn: 43537.5022580\ttotal: 1.12s\tremaining: 3.71s\n",
            "232:\tlearn: 43503.6762262\ttotal: 1.12s\tremaining: 3.7s\n",
            "233:\tlearn: 43465.3811050\ttotal: 1.13s\tremaining: 3.7s\n",
            "234:\tlearn: 43446.8085921\ttotal: 1.13s\tremaining: 3.69s\n",
            "235:\tlearn: 43403.4496388\ttotal: 1.14s\tremaining: 3.68s\n",
            "236:\tlearn: 43375.3793824\ttotal: 1.14s\tremaining: 3.68s\n",
            "237:\tlearn: 43352.0973078\ttotal: 1.15s\tremaining: 3.67s\n",
            "238:\tlearn: 43321.7988376\ttotal: 1.15s\tremaining: 3.66s\n",
            "239:\tlearn: 43284.3906288\ttotal: 1.16s\tremaining: 3.66s\n",
            "240:\tlearn: 43246.0211360\ttotal: 1.16s\tremaining: 3.65s\n",
            "241:\tlearn: 43214.9468816\ttotal: 1.17s\tremaining: 3.66s\n",
            "242:\tlearn: 43152.5197449\ttotal: 1.17s\tremaining: 3.65s\n",
            "243:\tlearn: 43133.8687944\ttotal: 1.18s\tremaining: 3.64s\n",
            "244:\tlearn: 43110.1064743\ttotal: 1.18s\tremaining: 3.63s\n",
            "245:\tlearn: 43080.2150055\ttotal: 1.18s\tremaining: 3.63s\n",
            "246:\tlearn: 43055.7959097\ttotal: 1.19s\tremaining: 3.62s\n",
            "247:\tlearn: 43025.9331988\ttotal: 1.19s\tremaining: 3.62s\n",
            "248:\tlearn: 42984.3898922\ttotal: 1.2s\tremaining: 3.61s\n",
            "249:\tlearn: 42949.8363661\ttotal: 1.2s\tremaining: 3.6s\n",
            "250:\tlearn: 42911.0707545\ttotal: 1.21s\tremaining: 3.6s\n",
            "251:\tlearn: 42872.9382019\ttotal: 1.21s\tremaining: 3.59s\n",
            "252:\tlearn: 42833.2630461\ttotal: 1.21s\tremaining: 3.58s\n",
            "253:\tlearn: 42801.1851510\ttotal: 1.22s\tremaining: 3.58s\n",
            "254:\tlearn: 42774.1874584\ttotal: 1.22s\tremaining: 3.57s\n",
            "255:\tlearn: 42753.9216421\ttotal: 1.23s\tremaining: 3.57s\n",
            "256:\tlearn: 42727.3047020\ttotal: 1.23s\tremaining: 3.56s\n",
            "257:\tlearn: 42697.7303301\ttotal: 1.24s\tremaining: 3.57s\n",
            "258:\tlearn: 42671.8674484\ttotal: 1.25s\tremaining: 3.57s\n",
            "259:\tlearn: 42651.0033339\ttotal: 1.25s\tremaining: 3.56s\n",
            "260:\tlearn: 42616.6558286\ttotal: 1.25s\tremaining: 3.55s\n",
            "261:\tlearn: 42586.2838639\ttotal: 1.26s\tremaining: 3.55s\n",
            "262:\tlearn: 42563.3277739\ttotal: 1.26s\tremaining: 3.54s\n",
            "263:\tlearn: 42539.2899492\ttotal: 1.27s\tremaining: 3.53s\n",
            "264:\tlearn: 42520.0944354\ttotal: 1.27s\tremaining: 3.53s\n",
            "265:\tlearn: 42481.2832541\ttotal: 1.27s\tremaining: 3.52s\n",
            "266:\tlearn: 42460.5608502\ttotal: 1.28s\tremaining: 3.51s\n",
            "267:\tlearn: 42443.2589760\ttotal: 1.28s\tremaining: 3.51s\n",
            "268:\tlearn: 42423.4505320\ttotal: 1.29s\tremaining: 3.5s\n",
            "269:\tlearn: 42389.5571554\ttotal: 1.29s\tremaining: 3.49s\n",
            "270:\tlearn: 42365.6843357\ttotal: 1.3s\tremaining: 3.49s\n",
            "271:\tlearn: 42334.6668372\ttotal: 1.3s\tremaining: 3.48s\n",
            "272:\tlearn: 42306.3749321\ttotal: 1.3s\tremaining: 3.48s\n",
            "273:\tlearn: 42280.9360828\ttotal: 1.31s\tremaining: 3.47s\n",
            "274:\tlearn: 42254.0601324\ttotal: 1.31s\tremaining: 3.46s\n",
            "275:\tlearn: 42235.9760308\ttotal: 1.32s\tremaining: 3.46s\n",
            "276:\tlearn: 42214.1089743\ttotal: 1.32s\tremaining: 3.45s\n",
            "277:\tlearn: 42175.7040327\ttotal: 1.33s\tremaining: 3.45s\n",
            "278:\tlearn: 42132.0774725\ttotal: 1.33s\tremaining: 3.45s\n",
            "279:\tlearn: 42111.2857477\ttotal: 1.34s\tremaining: 3.45s\n",
            "280:\tlearn: 42070.5292776\ttotal: 1.35s\tremaining: 3.45s\n",
            "281:\tlearn: 42052.6233632\ttotal: 1.35s\tremaining: 3.44s\n",
            "282:\tlearn: 42034.2533638\ttotal: 1.36s\tremaining: 3.44s\n",
            "283:\tlearn: 42018.1277131\ttotal: 1.36s\tremaining: 3.44s\n",
            "284:\tlearn: 41998.4490634\ttotal: 1.37s\tremaining: 3.43s\n",
            "285:\tlearn: 41975.4946780\ttotal: 1.37s\tremaining: 3.43s\n",
            "286:\tlearn: 41939.9408881\ttotal: 1.38s\tremaining: 3.43s\n",
            "287:\tlearn: 41921.4677205\ttotal: 1.38s\tremaining: 3.42s\n",
            "288:\tlearn: 41897.3961377\ttotal: 1.39s\tremaining: 3.42s\n",
            "289:\tlearn: 41860.9091865\ttotal: 1.39s\tremaining: 3.41s\n",
            "290:\tlearn: 41843.2593711\ttotal: 1.4s\tremaining: 3.41s\n",
            "291:\tlearn: 41811.5436067\ttotal: 1.41s\tremaining: 3.42s\n",
            "292:\tlearn: 41777.9950013\ttotal: 1.42s\tremaining: 3.43s\n",
            "293:\tlearn: 41760.4722871\ttotal: 1.43s\tremaining: 3.42s\n",
            "294:\tlearn: 41736.5131488\ttotal: 1.43s\tremaining: 3.42s\n",
            "295:\tlearn: 41716.8957529\ttotal: 1.44s\tremaining: 3.41s\n",
            "296:\tlearn: 41671.0678126\ttotal: 1.44s\tremaining: 3.41s\n",
            "297:\tlearn: 41633.6381529\ttotal: 1.44s\tremaining: 3.4s\n",
            "298:\tlearn: 41602.1963869\ttotal: 1.45s\tremaining: 3.4s\n",
            "299:\tlearn: 41574.9018964\ttotal: 1.46s\tremaining: 3.4s\n",
            "300:\tlearn: 41561.3913511\ttotal: 1.46s\tremaining: 3.39s\n",
            "301:\tlearn: 41534.1952064\ttotal: 1.46s\tremaining: 3.38s\n",
            "302:\tlearn: 41511.9466230\ttotal: 1.47s\tremaining: 3.38s\n",
            "303:\tlearn: 41492.0036725\ttotal: 1.47s\tremaining: 3.37s\n",
            "304:\tlearn: 41475.9545506\ttotal: 1.48s\tremaining: 3.36s\n",
            "305:\tlearn: 41444.0827940\ttotal: 1.48s\tremaining: 3.36s\n",
            "306:\tlearn: 41423.4491856\ttotal: 1.49s\tremaining: 3.35s\n",
            "307:\tlearn: 41400.2150489\ttotal: 1.49s\tremaining: 3.35s\n",
            "308:\tlearn: 41363.6595040\ttotal: 1.49s\tremaining: 3.34s\n",
            "309:\tlearn: 41345.7181799\ttotal: 1.5s\tremaining: 3.33s\n",
            "310:\tlearn: 41331.3260985\ttotal: 1.5s\tremaining: 3.33s\n",
            "311:\tlearn: 41310.0254200\ttotal: 1.51s\tremaining: 3.32s\n",
            "312:\tlearn: 41276.8813593\ttotal: 1.51s\tremaining: 3.31s\n",
            "313:\tlearn: 41235.7451345\ttotal: 1.51s\tremaining: 3.31s\n",
            "314:\tlearn: 41207.7361564\ttotal: 1.52s\tremaining: 3.31s\n",
            "315:\tlearn: 41185.5299397\ttotal: 1.52s\tremaining: 3.3s\n",
            "316:\tlearn: 41157.3028595\ttotal: 1.53s\tremaining: 3.29s\n",
            "317:\tlearn: 41130.8234956\ttotal: 1.53s\tremaining: 3.29s\n",
            "318:\tlearn: 41106.2048902\ttotal: 1.54s\tremaining: 3.28s\n",
            "319:\tlearn: 41089.4689907\ttotal: 1.54s\tremaining: 3.27s\n",
            "320:\tlearn: 41060.8236563\ttotal: 1.54s\tremaining: 3.27s\n",
            "321:\tlearn: 41042.9398682\ttotal: 1.55s\tremaining: 3.26s\n",
            "322:\tlearn: 41016.3763900\ttotal: 1.56s\tremaining: 3.27s\n",
            "323:\tlearn: 40986.3770153\ttotal: 1.56s\tremaining: 3.26s\n",
            "324:\tlearn: 40967.7536441\ttotal: 1.57s\tremaining: 3.26s\n",
            "325:\tlearn: 40951.2582338\ttotal: 1.57s\tremaining: 3.25s\n",
            "326:\tlearn: 40922.9352791\ttotal: 1.58s\tremaining: 3.25s\n",
            "327:\tlearn: 40892.9024181\ttotal: 1.58s\tremaining: 3.24s\n",
            "328:\tlearn: 40871.7333332\ttotal: 1.58s\tremaining: 3.23s\n",
            "329:\tlearn: 40852.1409703\ttotal: 1.59s\tremaining: 3.23s\n",
            "330:\tlearn: 40833.4673865\ttotal: 1.59s\tremaining: 3.22s\n",
            "331:\tlearn: 40805.2019260\ttotal: 1.6s\tremaining: 3.21s\n",
            "332:\tlearn: 40775.4699402\ttotal: 1.6s\tremaining: 3.21s\n",
            "333:\tlearn: 40752.3630699\ttotal: 1.6s\tremaining: 3.2s\n",
            "334:\tlearn: 40731.6153816\ttotal: 1.61s\tremaining: 3.19s\n",
            "335:\tlearn: 40711.4575097\ttotal: 1.61s\tremaining: 3.19s\n",
            "336:\tlearn: 40699.6943992\ttotal: 1.62s\tremaining: 3.18s\n",
            "337:\tlearn: 40686.5680323\ttotal: 1.62s\tremaining: 3.18s\n",
            "338:\tlearn: 40662.6080932\ttotal: 1.63s\tremaining: 3.17s\n",
            "339:\tlearn: 40645.0990161\ttotal: 1.63s\tremaining: 3.16s\n",
            "340:\tlearn: 40615.4522896\ttotal: 1.63s\tremaining: 3.16s\n",
            "341:\tlearn: 40582.4117581\ttotal: 1.64s\tremaining: 3.15s\n",
            "342:\tlearn: 40576.1826939\ttotal: 1.64s\tremaining: 3.15s\n",
            "343:\tlearn: 40546.5422071\ttotal: 1.65s\tremaining: 3.14s\n",
            "344:\tlearn: 40526.4983323\ttotal: 1.65s\tremaining: 3.13s\n",
            "345:\tlearn: 40511.1609120\ttotal: 1.66s\tremaining: 3.13s\n",
            "346:\tlearn: 40486.2131592\ttotal: 1.66s\tremaining: 3.12s\n",
            "347:\tlearn: 40469.5613813\ttotal: 1.66s\tremaining: 3.12s\n",
            "348:\tlearn: 40453.6909997\ttotal: 1.67s\tremaining: 3.11s\n",
            "349:\tlearn: 40432.2510989\ttotal: 1.67s\tremaining: 3.11s\n",
            "350:\tlearn: 40413.5371140\ttotal: 1.68s\tremaining: 3.1s\n",
            "351:\tlearn: 40397.4647922\ttotal: 1.68s\tremaining: 3.1s\n",
            "352:\tlearn: 40376.3700252\ttotal: 1.69s\tremaining: 3.09s\n",
            "353:\tlearn: 40345.7224082\ttotal: 1.69s\tremaining: 3.08s\n",
            "354:\tlearn: 40302.5030725\ttotal: 1.69s\tremaining: 3.08s\n",
            "355:\tlearn: 40282.5523230\ttotal: 1.7s\tremaining: 3.07s\n",
            "356:\tlearn: 40266.8093636\ttotal: 1.7s\tremaining: 3.07s\n",
            "357:\tlearn: 40249.3660859\ttotal: 1.71s\tremaining: 3.06s\n",
            "358:\tlearn: 40224.2366573\ttotal: 1.71s\tremaining: 3.06s\n",
            "359:\tlearn: 40205.0202277\ttotal: 1.72s\tremaining: 3.05s\n",
            "360:\tlearn: 40188.4151960\ttotal: 1.72s\tremaining: 3.04s\n",
            "361:\tlearn: 40162.7931619\ttotal: 1.72s\tremaining: 3.04s\n",
            "362:\tlearn: 40129.7201101\ttotal: 1.73s\tremaining: 3.04s\n",
            "363:\tlearn: 40105.2698422\ttotal: 1.74s\tremaining: 3.03s\n",
            "364:\tlearn: 40074.0164609\ttotal: 1.74s\tremaining: 3.03s\n",
            "365:\tlearn: 40053.8464160\ttotal: 1.75s\tremaining: 3.03s\n",
            "366:\tlearn: 40043.2861151\ttotal: 1.75s\tremaining: 3.03s\n",
            "367:\tlearn: 40023.9011848\ttotal: 1.76s\tremaining: 3.02s\n",
            "368:\tlearn: 40008.9123728\ttotal: 1.76s\tremaining: 3.01s\n",
            "369:\tlearn: 39985.4830283\ttotal: 1.77s\tremaining: 3.01s\n",
            "370:\tlearn: 39971.1444870\ttotal: 1.77s\tremaining: 3s\n",
            "371:\tlearn: 39949.8502572\ttotal: 1.77s\tremaining: 3s\n",
            "372:\tlearn: 39938.0484817\ttotal: 1.78s\tremaining: 2.99s\n",
            "373:\tlearn: 39925.3133580\ttotal: 1.78s\tremaining: 2.99s\n",
            "374:\tlearn: 39910.5549821\ttotal: 1.79s\tremaining: 2.98s\n",
            "375:\tlearn: 39886.8838390\ttotal: 1.79s\tremaining: 2.98s\n",
            "376:\tlearn: 39867.6785106\ttotal: 1.8s\tremaining: 2.97s\n",
            "377:\tlearn: 39844.9647868\ttotal: 1.8s\tremaining: 2.96s\n",
            "378:\tlearn: 39815.9153814\ttotal: 1.81s\tremaining: 2.96s\n",
            "379:\tlearn: 39804.6246854\ttotal: 1.81s\tremaining: 2.95s\n",
            "380:\tlearn: 39786.5194168\ttotal: 1.81s\tremaining: 2.95s\n",
            "381:\tlearn: 39777.0393301\ttotal: 1.82s\tremaining: 2.94s\n",
            "382:\tlearn: 39750.9710293\ttotal: 1.82s\tremaining: 2.94s\n",
            "383:\tlearn: 39719.2178343\ttotal: 1.83s\tremaining: 2.93s\n",
            "384:\tlearn: 39692.1627037\ttotal: 1.83s\tremaining: 2.93s\n",
            "385:\tlearn: 39681.4902066\ttotal: 1.83s\tremaining: 2.92s\n",
            "386:\tlearn: 39664.9500775\ttotal: 1.84s\tremaining: 2.92s\n",
            "387:\tlearn: 39644.4826475\ttotal: 1.84s\tremaining: 2.91s\n",
            "388:\tlearn: 39618.8772089\ttotal: 1.85s\tremaining: 2.9s\n",
            "389:\tlearn: 39593.0981481\ttotal: 1.85s\tremaining: 2.9s\n",
            "390:\tlearn: 39576.0343324\ttotal: 1.86s\tremaining: 2.89s\n",
            "391:\tlearn: 39553.9639245\ttotal: 1.86s\tremaining: 2.89s\n",
            "392:\tlearn: 39532.3869788\ttotal: 1.86s\tremaining: 2.88s\n",
            "393:\tlearn: 39517.4205728\ttotal: 1.87s\tremaining: 2.88s\n",
            "394:\tlearn: 39505.1867258\ttotal: 1.87s\tremaining: 2.87s\n",
            "395:\tlearn: 39487.9968608\ttotal: 1.88s\tremaining: 2.86s\n",
            "396:\tlearn: 39476.5289464\ttotal: 1.88s\tremaining: 2.86s\n",
            "397:\tlearn: 39448.7385944\ttotal: 1.89s\tremaining: 2.85s\n",
            "398:\tlearn: 39436.8674993\ttotal: 1.89s\tremaining: 2.85s\n",
            "399:\tlearn: 39418.4287147\ttotal: 1.9s\tremaining: 2.84s\n",
            "400:\tlearn: 39399.9228957\ttotal: 1.9s\tremaining: 2.84s\n",
            "401:\tlearn: 39383.3540328\ttotal: 1.91s\tremaining: 2.83s\n",
            "402:\tlearn: 39364.1978185\ttotal: 1.91s\tremaining: 2.83s\n",
            "403:\tlearn: 39348.5144911\ttotal: 1.91s\tremaining: 2.82s\n",
            "404:\tlearn: 39324.9146331\ttotal: 1.92s\tremaining: 2.82s\n",
            "405:\tlearn: 39312.6781228\ttotal: 1.92s\tremaining: 2.81s\n",
            "406:\tlearn: 39292.2843067\ttotal: 1.93s\tremaining: 2.81s\n",
            "407:\tlearn: 39279.6138565\ttotal: 1.93s\tremaining: 2.8s\n",
            "408:\tlearn: 39248.6579409\ttotal: 1.94s\tremaining: 2.8s\n",
            "409:\tlearn: 39231.9087134\ttotal: 1.95s\tremaining: 2.81s\n",
            "410:\tlearn: 39217.8063998\ttotal: 1.95s\tremaining: 2.8s\n",
            "411:\tlearn: 39202.4749543\ttotal: 1.96s\tremaining: 2.8s\n",
            "412:\tlearn: 39183.0654581\ttotal: 1.96s\tremaining: 2.79s\n",
            "413:\tlearn: 39152.3139651\ttotal: 1.97s\tremaining: 2.79s\n",
            "414:\tlearn: 39144.5656188\ttotal: 1.97s\tremaining: 2.78s\n",
            "415:\tlearn: 39122.2153280\ttotal: 1.98s\tremaining: 2.78s\n",
            "416:\tlearn: 39101.0732970\ttotal: 1.98s\tremaining: 2.77s\n",
            "417:\tlearn: 39069.3991221\ttotal: 1.99s\tremaining: 2.77s\n",
            "418:\tlearn: 39056.3281250\ttotal: 1.99s\tremaining: 2.76s\n",
            "419:\tlearn: 39039.4395875\ttotal: 2s\tremaining: 2.76s\n",
            "420:\tlearn: 39018.5028348\ttotal: 2s\tremaining: 2.75s\n",
            "421:\tlearn: 38997.7887525\ttotal: 2s\tremaining: 2.75s\n",
            "422:\tlearn: 38984.8989281\ttotal: 2.01s\tremaining: 2.74s\n",
            "423:\tlearn: 38952.9165999\ttotal: 2.01s\tremaining: 2.73s\n",
            "424:\tlearn: 38927.2522413\ttotal: 2.02s\tremaining: 2.73s\n",
            "425:\tlearn: 38914.1840331\ttotal: 2.02s\tremaining: 2.72s\n",
            "426:\tlearn: 38900.7840322\ttotal: 2.03s\tremaining: 2.72s\n",
            "427:\tlearn: 38887.9573016\ttotal: 2.03s\tremaining: 2.71s\n",
            "428:\tlearn: 38871.3165920\ttotal: 2.04s\tremaining: 2.71s\n",
            "429:\tlearn: 38858.9239767\ttotal: 2.04s\tremaining: 2.71s\n",
            "430:\tlearn: 38846.9243533\ttotal: 2.04s\tremaining: 2.7s\n",
            "431:\tlearn: 38832.5400699\ttotal: 2.05s\tremaining: 2.69s\n",
            "432:\tlearn: 38819.4004136\ttotal: 2.05s\tremaining: 2.69s\n",
            "433:\tlearn: 38779.1675949\ttotal: 2.06s\tremaining: 2.68s\n",
            "434:\tlearn: 38762.4617197\ttotal: 2.06s\tremaining: 2.68s\n",
            "435:\tlearn: 38743.2816374\ttotal: 2.07s\tremaining: 2.67s\n",
            "436:\tlearn: 38725.6778645\ttotal: 2.07s\tremaining: 2.67s\n",
            "437:\tlearn: 38715.8309256\ttotal: 2.08s\tremaining: 2.66s\n",
            "438:\tlearn: 38704.4130126\ttotal: 2.08s\tremaining: 2.66s\n",
            "439:\tlearn: 38689.2864414\ttotal: 2.08s\tremaining: 2.65s\n",
            "440:\tlearn: 38678.4975991\ttotal: 2.09s\tremaining: 2.65s\n",
            "441:\tlearn: 38652.1852307\ttotal: 2.09s\tremaining: 2.64s\n",
            "442:\tlearn: 38636.0277916\ttotal: 2.1s\tremaining: 2.64s\n",
            "443:\tlearn: 38621.7625138\ttotal: 2.1s\tremaining: 2.63s\n",
            "444:\tlearn: 38613.4743938\ttotal: 2.11s\tremaining: 2.63s\n",
            "445:\tlearn: 38597.0373058\ttotal: 2.11s\tremaining: 2.62s\n",
            "446:\tlearn: 38571.0924833\ttotal: 2.11s\tremaining: 2.62s\n",
            "447:\tlearn: 38556.7508119\ttotal: 2.12s\tremaining: 2.61s\n",
            "448:\tlearn: 38528.7695458\ttotal: 2.12s\tremaining: 2.61s\n",
            "449:\tlearn: 38509.6525979\ttotal: 2.13s\tremaining: 2.6s\n",
            "450:\tlearn: 38494.3958871\ttotal: 2.13s\tremaining: 2.6s\n",
            "451:\tlearn: 38472.2209031\ttotal: 2.14s\tremaining: 2.59s\n",
            "452:\tlearn: 38455.2103733\ttotal: 2.14s\tremaining: 2.58s\n",
            "453:\tlearn: 38446.2918781\ttotal: 2.15s\tremaining: 2.58s\n",
            "454:\tlearn: 38432.9517037\ttotal: 2.15s\tremaining: 2.58s\n",
            "455:\tlearn: 38415.5235872\ttotal: 2.16s\tremaining: 2.57s\n",
            "456:\tlearn: 38399.3425848\ttotal: 2.16s\tremaining: 2.57s\n",
            "457:\tlearn: 38374.2937062\ttotal: 2.16s\tremaining: 2.56s\n",
            "458:\tlearn: 38362.7463898\ttotal: 2.17s\tremaining: 2.56s\n",
            "459:\tlearn: 38341.8631279\ttotal: 2.17s\tremaining: 2.55s\n",
            "460:\tlearn: 38318.6926330\ttotal: 2.18s\tremaining: 2.55s\n",
            "461:\tlearn: 38301.0549165\ttotal: 2.18s\tremaining: 2.54s\n",
            "462:\tlearn: 38289.2364579\ttotal: 2.19s\tremaining: 2.54s\n",
            "463:\tlearn: 38275.5199824\ttotal: 2.2s\tremaining: 2.54s\n",
            "464:\tlearn: 38259.4542260\ttotal: 2.2s\tremaining: 2.53s\n",
            "465:\tlearn: 38240.9304458\ttotal: 2.21s\tremaining: 2.53s\n",
            "466:\tlearn: 38219.8413296\ttotal: 2.21s\tremaining: 2.52s\n",
            "467:\tlearn: 38193.5178317\ttotal: 2.22s\tremaining: 2.52s\n",
            "468:\tlearn: 38176.2271654\ttotal: 2.22s\tremaining: 2.51s\n",
            "469:\tlearn: 38161.8077491\ttotal: 2.22s\tremaining: 2.51s\n",
            "470:\tlearn: 38149.9059663\ttotal: 2.23s\tremaining: 2.5s\n",
            "471:\tlearn: 38131.0109424\ttotal: 2.23s\tremaining: 2.5s\n",
            "472:\tlearn: 38106.9205309\ttotal: 2.24s\tremaining: 2.49s\n",
            "473:\tlearn: 38080.0338779\ttotal: 2.24s\tremaining: 2.49s\n",
            "474:\tlearn: 38065.1756780\ttotal: 2.25s\tremaining: 2.48s\n",
            "475:\tlearn: 38048.6923197\ttotal: 2.25s\tremaining: 2.48s\n",
            "476:\tlearn: 38034.7513434\ttotal: 2.25s\tremaining: 2.47s\n",
            "477:\tlearn: 38019.6097285\ttotal: 2.26s\tremaining: 2.47s\n",
            "478:\tlearn: 37993.8190873\ttotal: 2.26s\tremaining: 2.46s\n",
            "479:\tlearn: 37982.6750407\ttotal: 2.27s\tremaining: 2.46s\n",
            "480:\tlearn: 37968.9794911\ttotal: 2.27s\tremaining: 2.45s\n",
            "481:\tlearn: 37958.9377215\ttotal: 2.28s\tremaining: 2.45s\n",
            "482:\tlearn: 37946.2827410\ttotal: 2.28s\tremaining: 2.44s\n",
            "483:\tlearn: 37931.6894413\ttotal: 2.29s\tremaining: 2.44s\n",
            "484:\tlearn: 37921.3224304\ttotal: 2.29s\tremaining: 2.43s\n",
            "485:\tlearn: 37890.0022238\ttotal: 2.29s\tremaining: 2.43s\n",
            "486:\tlearn: 37874.8942644\ttotal: 2.3s\tremaining: 2.42s\n",
            "487:\tlearn: 37851.6690997\ttotal: 2.31s\tremaining: 2.42s\n",
            "488:\tlearn: 37846.5154822\ttotal: 2.31s\tremaining: 2.42s\n",
            "489:\tlearn: 37833.0532355\ttotal: 2.31s\tremaining: 2.41s\n",
            "490:\tlearn: 37816.7140252\ttotal: 2.32s\tremaining: 2.4s\n",
            "491:\tlearn: 37804.8422514\ttotal: 2.32s\tremaining: 2.4s\n",
            "492:\tlearn: 37793.7442442\ttotal: 2.33s\tremaining: 2.39s\n",
            "493:\tlearn: 37777.8316424\ttotal: 2.33s\tremaining: 2.39s\n",
            "494:\tlearn: 37756.9483921\ttotal: 2.34s\tremaining: 2.38s\n",
            "495:\tlearn: 37746.0608610\ttotal: 2.35s\tremaining: 2.38s\n",
            "496:\tlearn: 37728.9371494\ttotal: 2.35s\tremaining: 2.38s\n",
            "497:\tlearn: 37718.2446766\ttotal: 2.35s\tremaining: 2.37s\n",
            "498:\tlearn: 37702.0947788\ttotal: 2.36s\tremaining: 2.37s\n",
            "499:\tlearn: 37685.8970678\ttotal: 2.36s\tremaining: 2.36s\n",
            "500:\tlearn: 37675.4814334\ttotal: 2.37s\tremaining: 2.36s\n",
            "501:\tlearn: 37663.4907095\ttotal: 2.37s\tremaining: 2.35s\n",
            "502:\tlearn: 37636.9106111\ttotal: 2.37s\tremaining: 2.35s\n",
            "503:\tlearn: 37622.8559292\ttotal: 2.38s\tremaining: 2.34s\n",
            "504:\tlearn: 37608.8033252\ttotal: 2.38s\tremaining: 2.33s\n",
            "505:\tlearn: 37599.3828115\ttotal: 2.39s\tremaining: 2.33s\n",
            "506:\tlearn: 37576.7325590\ttotal: 2.39s\tremaining: 2.33s\n",
            "507:\tlearn: 37560.9836345\ttotal: 2.4s\tremaining: 2.32s\n",
            "508:\tlearn: 37551.1957576\ttotal: 2.4s\tremaining: 2.31s\n",
            "509:\tlearn: 37529.5758480\ttotal: 2.4s\tremaining: 2.31s\n",
            "510:\tlearn: 37518.5868938\ttotal: 2.41s\tremaining: 2.3s\n",
            "511:\tlearn: 37499.1089937\ttotal: 2.41s\tremaining: 2.3s\n",
            "512:\tlearn: 37486.5121643\ttotal: 2.42s\tremaining: 2.29s\n",
            "513:\tlearn: 37475.0234644\ttotal: 2.42s\tremaining: 2.29s\n",
            "514:\tlearn: 37457.8492255\ttotal: 2.42s\tremaining: 2.28s\n",
            "515:\tlearn: 37444.9156154\ttotal: 2.43s\tremaining: 2.28s\n",
            "516:\tlearn: 37428.6410035\ttotal: 2.43s\tremaining: 2.27s\n",
            "517:\tlearn: 37405.4418541\ttotal: 2.44s\tremaining: 2.27s\n",
            "518:\tlearn: 37391.2801965\ttotal: 2.44s\tremaining: 2.26s\n",
            "519:\tlearn: 37380.7275412\ttotal: 2.45s\tremaining: 2.26s\n",
            "520:\tlearn: 37369.4377269\ttotal: 2.45s\tremaining: 2.25s\n",
            "521:\tlearn: 37356.4126477\ttotal: 2.46s\tremaining: 2.25s\n",
            "522:\tlearn: 37347.0053430\ttotal: 2.46s\tremaining: 2.24s\n",
            "523:\tlearn: 37335.9293881\ttotal: 2.46s\tremaining: 2.24s\n",
            "524:\tlearn: 37328.5167152\ttotal: 2.47s\tremaining: 2.23s\n",
            "525:\tlearn: 37315.2933295\ttotal: 2.47s\tremaining: 2.23s\n",
            "526:\tlearn: 37305.7607723\ttotal: 2.48s\tremaining: 2.22s\n",
            "527:\tlearn: 37293.8506633\ttotal: 2.48s\tremaining: 2.22s\n",
            "528:\tlearn: 37281.2403992\ttotal: 2.49s\tremaining: 2.21s\n",
            "529:\tlearn: 37268.2712315\ttotal: 2.49s\tremaining: 2.21s\n",
            "530:\tlearn: 37257.0922658\ttotal: 2.49s\tremaining: 2.2s\n",
            "531:\tlearn: 37246.7792170\ttotal: 2.5s\tremaining: 2.2s\n",
            "532:\tlearn: 37233.7747774\ttotal: 2.51s\tremaining: 2.2s\n",
            "533:\tlearn: 37221.4619171\ttotal: 2.51s\tremaining: 2.19s\n",
            "534:\tlearn: 37210.4565027\ttotal: 2.52s\tremaining: 2.19s\n",
            "535:\tlearn: 37190.1264942\ttotal: 2.52s\tremaining: 2.19s\n",
            "536:\tlearn: 37181.1378500\ttotal: 2.53s\tremaining: 2.18s\n",
            "537:\tlearn: 37161.1086857\ttotal: 2.53s\tremaining: 2.17s\n",
            "538:\tlearn: 37145.2580724\ttotal: 2.54s\tremaining: 2.17s\n",
            "539:\tlearn: 37133.0490325\ttotal: 2.55s\tremaining: 2.17s\n",
            "540:\tlearn: 37124.3451822\ttotal: 2.55s\tremaining: 2.16s\n",
            "541:\tlearn: 37111.4804824\ttotal: 2.56s\tremaining: 2.16s\n",
            "542:\tlearn: 37086.5778279\ttotal: 2.56s\tremaining: 2.15s\n",
            "543:\tlearn: 37072.4966548\ttotal: 2.56s\tremaining: 2.15s\n",
            "544:\tlearn: 37054.6011488\ttotal: 2.57s\tremaining: 2.14s\n",
            "545:\tlearn: 37039.6032121\ttotal: 2.57s\tremaining: 2.14s\n",
            "546:\tlearn: 37017.0226557\ttotal: 2.58s\tremaining: 2.13s\n",
            "547:\tlearn: 36999.3383098\ttotal: 2.58s\tremaining: 2.13s\n",
            "548:\tlearn: 36992.4988073\ttotal: 2.58s\tremaining: 2.12s\n",
            "549:\tlearn: 36976.9320130\ttotal: 2.59s\tremaining: 2.12s\n",
            "550:\tlearn: 36969.9500039\ttotal: 2.59s\tremaining: 2.11s\n",
            "551:\tlearn: 36959.1500207\ttotal: 2.6s\tremaining: 2.11s\n",
            "552:\tlearn: 36945.7163391\ttotal: 2.6s\tremaining: 2.1s\n",
            "553:\tlearn: 36935.0322695\ttotal: 2.6s\tremaining: 2.1s\n",
            "554:\tlearn: 36920.2701369\ttotal: 2.61s\tremaining: 2.09s\n",
            "555:\tlearn: 36908.8533718\ttotal: 2.61s\tremaining: 2.09s\n",
            "556:\tlearn: 36879.6274210\ttotal: 2.62s\tremaining: 2.08s\n",
            "557:\tlearn: 36871.3877911\ttotal: 2.62s\tremaining: 2.08s\n",
            "558:\tlearn: 36856.2382454\ttotal: 2.63s\tremaining: 2.07s\n",
            "559:\tlearn: 36848.5255592\ttotal: 2.63s\tremaining: 2.07s\n",
            "560:\tlearn: 36837.9279916\ttotal: 2.63s\tremaining: 2.06s\n",
            "561:\tlearn: 36832.3988165\ttotal: 2.64s\tremaining: 2.06s\n",
            "562:\tlearn: 36822.9072640\ttotal: 2.64s\tremaining: 2.05s\n",
            "563:\tlearn: 36810.2559102\ttotal: 2.65s\tremaining: 2.05s\n",
            "564:\tlearn: 36799.5071219\ttotal: 2.65s\tremaining: 2.04s\n",
            "565:\tlearn: 36789.9332691\ttotal: 2.66s\tremaining: 2.04s\n",
            "566:\tlearn: 36774.1666091\ttotal: 2.66s\tremaining: 2.03s\n",
            "567:\tlearn: 36757.4924332\ttotal: 2.67s\tremaining: 2.03s\n",
            "568:\tlearn: 36737.9602340\ttotal: 2.67s\tremaining: 2.02s\n",
            "569:\tlearn: 36722.5250479\ttotal: 2.68s\tremaining: 2.02s\n",
            "570:\tlearn: 36716.6793465\ttotal: 2.68s\tremaining: 2.01s\n",
            "571:\tlearn: 36702.8822180\ttotal: 2.69s\tremaining: 2.01s\n",
            "572:\tlearn: 36682.9743765\ttotal: 2.69s\tremaining: 2s\n",
            "573:\tlearn: 36670.7623780\ttotal: 2.69s\tremaining: 2s\n",
            "574:\tlearn: 36659.3469925\ttotal: 2.7s\tremaining: 1.99s\n",
            "575:\tlearn: 36648.2506684\ttotal: 2.7s\tremaining: 1.99s\n",
            "576:\tlearn: 36639.7001553\ttotal: 2.71s\tremaining: 1.98s\n",
            "577:\tlearn: 36627.1426009\ttotal: 2.71s\tremaining: 1.98s\n",
            "578:\tlearn: 36616.8021071\ttotal: 2.71s\tremaining: 1.97s\n",
            "579:\tlearn: 36598.0779177\ttotal: 2.72s\tremaining: 1.97s\n",
            "580:\tlearn: 36581.2199556\ttotal: 2.72s\tremaining: 1.96s\n",
            "581:\tlearn: 36565.4528996\ttotal: 2.73s\tremaining: 1.96s\n",
            "582:\tlearn: 36549.7881414\ttotal: 2.73s\tremaining: 1.95s\n",
            "583:\tlearn: 36531.4905855\ttotal: 2.74s\tremaining: 1.95s\n",
            "584:\tlearn: 36521.7574567\ttotal: 2.75s\tremaining: 1.95s\n",
            "585:\tlearn: 36516.1587446\ttotal: 2.75s\tremaining: 1.94s\n",
            "586:\tlearn: 36495.8084588\ttotal: 2.75s\tremaining: 1.94s\n",
            "587:\tlearn: 36477.4371062\ttotal: 2.76s\tremaining: 1.93s\n",
            "588:\tlearn: 36463.2441504\ttotal: 2.76s\tremaining: 1.93s\n",
            "589:\tlearn: 36451.1106414\ttotal: 2.77s\tremaining: 1.92s\n",
            "590:\tlearn: 36437.4682609\ttotal: 2.77s\tremaining: 1.92s\n",
            "591:\tlearn: 36421.7481998\ttotal: 2.77s\tremaining: 1.91s\n",
            "592:\tlearn: 36412.6490921\ttotal: 2.78s\tremaining: 1.91s\n",
            "593:\tlearn: 36394.0883132\ttotal: 2.78s\tremaining: 1.9s\n",
            "594:\tlearn: 36384.8481118\ttotal: 2.79s\tremaining: 1.9s\n",
            "595:\tlearn: 36367.0642046\ttotal: 2.79s\tremaining: 1.89s\n",
            "596:\tlearn: 36354.2509053\ttotal: 2.79s\tremaining: 1.89s\n",
            "597:\tlearn: 36339.6536730\ttotal: 2.8s\tremaining: 1.88s\n",
            "598:\tlearn: 36321.9990318\ttotal: 2.8s\tremaining: 1.88s\n",
            "599:\tlearn: 36306.4088014\ttotal: 2.81s\tremaining: 1.87s\n",
            "600:\tlearn: 36288.1404662\ttotal: 2.81s\tremaining: 1.87s\n",
            "601:\tlearn: 36279.5380763\ttotal: 2.81s\tremaining: 1.86s\n",
            "602:\tlearn: 36267.3228931\ttotal: 2.82s\tremaining: 1.86s\n",
            "603:\tlearn: 36251.7587852\ttotal: 2.82s\tremaining: 1.85s\n",
            "604:\tlearn: 36240.5543102\ttotal: 2.83s\tremaining: 1.85s\n",
            "605:\tlearn: 36222.6424023\ttotal: 2.83s\tremaining: 1.84s\n",
            "606:\tlearn: 36207.5391742\ttotal: 2.84s\tremaining: 1.84s\n",
            "607:\tlearn: 36200.6837948\ttotal: 2.84s\tremaining: 1.83s\n",
            "608:\tlearn: 36182.7746627\ttotal: 2.85s\tremaining: 1.83s\n",
            "609:\tlearn: 36176.6768049\ttotal: 2.85s\tremaining: 1.82s\n",
            "610:\tlearn: 36166.2141274\ttotal: 2.85s\tremaining: 1.82s\n",
            "611:\tlearn: 36151.1498113\ttotal: 2.86s\tremaining: 1.81s\n",
            "612:\tlearn: 36137.2029350\ttotal: 2.86s\tremaining: 1.81s\n",
            "613:\tlearn: 36116.7127646\ttotal: 2.87s\tremaining: 1.8s\n",
            "614:\tlearn: 36096.3895664\ttotal: 2.87s\tremaining: 1.8s\n",
            "615:\tlearn: 36090.7890918\ttotal: 2.87s\tremaining: 1.79s\n",
            "616:\tlearn: 36075.0911416\ttotal: 2.88s\tremaining: 1.79s\n",
            "617:\tlearn: 36060.2746742\ttotal: 2.88s\tremaining: 1.78s\n",
            "618:\tlearn: 36053.8258887\ttotal: 2.89s\tremaining: 1.78s\n",
            "619:\tlearn: 36044.5756578\ttotal: 2.89s\tremaining: 1.77s\n",
            "620:\tlearn: 36022.7293221\ttotal: 2.9s\tremaining: 1.77s\n",
            "621:\tlearn: 36004.2613608\ttotal: 2.9s\tremaining: 1.76s\n",
            "622:\tlearn: 35993.2535123\ttotal: 2.91s\tremaining: 1.76s\n",
            "623:\tlearn: 35977.3432260\ttotal: 2.91s\tremaining: 1.75s\n",
            "624:\tlearn: 35962.5176497\ttotal: 2.92s\tremaining: 1.75s\n",
            "625:\tlearn: 35947.3816762\ttotal: 2.92s\tremaining: 1.74s\n",
            "626:\tlearn: 35937.8142543\ttotal: 2.93s\tremaining: 1.74s\n",
            "627:\tlearn: 35931.1435462\ttotal: 2.93s\tremaining: 1.74s\n",
            "628:\tlearn: 35920.7176378\ttotal: 2.94s\tremaining: 1.73s\n",
            "629:\tlearn: 35909.9328278\ttotal: 2.94s\tremaining: 1.73s\n",
            "630:\tlearn: 35903.0025133\ttotal: 2.95s\tremaining: 1.72s\n",
            "631:\tlearn: 35895.3228804\ttotal: 2.95s\tremaining: 1.72s\n",
            "632:\tlearn: 35890.5999947\ttotal: 2.96s\tremaining: 1.71s\n",
            "633:\tlearn: 35877.1097625\ttotal: 2.96s\tremaining: 1.71s\n",
            "634:\tlearn: 35860.5602207\ttotal: 2.96s\tremaining: 1.7s\n",
            "635:\tlearn: 35849.5883857\ttotal: 2.97s\tremaining: 1.7s\n",
            "636:\tlearn: 35834.9430935\ttotal: 2.97s\tremaining: 1.69s\n",
            "637:\tlearn: 35818.2314244\ttotal: 2.98s\tremaining: 1.69s\n",
            "638:\tlearn: 35801.2233230\ttotal: 2.98s\tremaining: 1.68s\n",
            "639:\tlearn: 35795.5459857\ttotal: 2.98s\tremaining: 1.68s\n",
            "640:\tlearn: 35783.8181421\ttotal: 2.99s\tremaining: 1.67s\n",
            "641:\tlearn: 35775.5975541\ttotal: 2.99s\tremaining: 1.67s\n",
            "642:\tlearn: 35763.7217030\ttotal: 3s\tremaining: 1.66s\n",
            "643:\tlearn: 35750.5467824\ttotal: 3s\tremaining: 1.66s\n",
            "644:\tlearn: 35740.7499776\ttotal: 3.01s\tremaining: 1.65s\n",
            "645:\tlearn: 35733.1859455\ttotal: 3.01s\tremaining: 1.65s\n",
            "646:\tlearn: 35720.6325515\ttotal: 3.02s\tremaining: 1.65s\n",
            "647:\tlearn: 35708.2321775\ttotal: 3.02s\tremaining: 1.64s\n",
            "648:\tlearn: 35701.0995683\ttotal: 3.02s\tremaining: 1.64s\n",
            "649:\tlearn: 35689.5687191\ttotal: 3.03s\tremaining: 1.63s\n",
            "650:\tlearn: 35662.6844516\ttotal: 3.04s\tremaining: 1.63s\n",
            "651:\tlearn: 35637.8957912\ttotal: 3.04s\tremaining: 1.62s\n",
            "652:\tlearn: 35623.9235443\ttotal: 3.05s\tremaining: 1.62s\n",
            "653:\tlearn: 35609.4339019\ttotal: 3.06s\tremaining: 1.62s\n",
            "654:\tlearn: 35597.1876390\ttotal: 3.06s\tremaining: 1.61s\n",
            "655:\tlearn: 35587.3805571\ttotal: 3.06s\tremaining: 1.61s\n",
            "656:\tlearn: 35563.7242066\ttotal: 3.07s\tremaining: 1.6s\n",
            "657:\tlearn: 35556.4064850\ttotal: 3.07s\tremaining: 1.6s\n",
            "658:\tlearn: 35551.9460810\ttotal: 3.08s\tremaining: 1.59s\n",
            "659:\tlearn: 35536.3364258\ttotal: 3.08s\tremaining: 1.59s\n",
            "660:\tlearn: 35530.8923976\ttotal: 3.09s\tremaining: 1.58s\n",
            "661:\tlearn: 35512.6108961\ttotal: 3.09s\tremaining: 1.58s\n",
            "662:\tlearn: 35498.2686423\ttotal: 3.09s\tremaining: 1.57s\n",
            "663:\tlearn: 35494.0885919\ttotal: 3.1s\tremaining: 1.57s\n",
            "664:\tlearn: 35479.2062818\ttotal: 3.1s\tremaining: 1.56s\n",
            "665:\tlearn: 35466.9684803\ttotal: 3.11s\tremaining: 1.56s\n",
            "666:\tlearn: 35453.8939825\ttotal: 3.12s\tremaining: 1.56s\n",
            "667:\tlearn: 35441.5497787\ttotal: 3.12s\tremaining: 1.55s\n",
            "668:\tlearn: 35424.1296075\ttotal: 3.13s\tremaining: 1.55s\n",
            "669:\tlearn: 35412.9858566\ttotal: 3.13s\tremaining: 1.54s\n",
            "670:\tlearn: 35403.6645215\ttotal: 3.14s\tremaining: 1.54s\n",
            "671:\tlearn: 35391.8647837\ttotal: 3.15s\tremaining: 1.53s\n",
            "672:\tlearn: 35376.7654610\ttotal: 3.15s\tremaining: 1.53s\n",
            "673:\tlearn: 35358.3554231\ttotal: 3.16s\tremaining: 1.53s\n",
            "674:\tlearn: 35336.5088466\ttotal: 3.16s\tremaining: 1.52s\n",
            "675:\tlearn: 35325.9307370\ttotal: 3.17s\tremaining: 1.52s\n",
            "676:\tlearn: 35315.0389938\ttotal: 3.17s\tremaining: 1.51s\n",
            "677:\tlearn: 35297.0927791\ttotal: 3.17s\tremaining: 1.51s\n",
            "678:\tlearn: 35286.1409662\ttotal: 3.18s\tremaining: 1.5s\n",
            "679:\tlearn: 35271.3036054\ttotal: 3.18s\tremaining: 1.5s\n",
            "680:\tlearn: 35260.4142546\ttotal: 3.19s\tremaining: 1.49s\n",
            "681:\tlearn: 35242.6788271\ttotal: 3.19s\tremaining: 1.49s\n",
            "682:\tlearn: 35227.6904697\ttotal: 3.19s\tremaining: 1.48s\n",
            "683:\tlearn: 35214.4210460\ttotal: 3.2s\tremaining: 1.48s\n",
            "684:\tlearn: 35197.1108010\ttotal: 3.2s\tremaining: 1.47s\n",
            "685:\tlearn: 35183.7883271\ttotal: 3.21s\tremaining: 1.47s\n",
            "686:\tlearn: 35171.8177999\ttotal: 3.21s\tremaining: 1.46s\n",
            "687:\tlearn: 35166.5755745\ttotal: 3.22s\tremaining: 1.46s\n",
            "688:\tlearn: 35154.0471567\ttotal: 3.22s\tremaining: 1.45s\n",
            "689:\tlearn: 35142.8818928\ttotal: 3.23s\tremaining: 1.45s\n",
            "690:\tlearn: 35129.5819689\ttotal: 3.23s\tremaining: 1.44s\n",
            "691:\tlearn: 35115.3640760\ttotal: 3.23s\tremaining: 1.44s\n",
            "692:\tlearn: 35099.2432348\ttotal: 3.24s\tremaining: 1.44s\n",
            "693:\tlearn: 35086.2345557\ttotal: 3.24s\tremaining: 1.43s\n",
            "694:\tlearn: 35078.7742907\ttotal: 3.25s\tremaining: 1.43s\n",
            "695:\tlearn: 35061.6311881\ttotal: 3.25s\tremaining: 1.42s\n",
            "696:\tlearn: 35046.8577896\ttotal: 3.26s\tremaining: 1.42s\n",
            "697:\tlearn: 35036.8879806\ttotal: 3.27s\tremaining: 1.41s\n",
            "698:\tlearn: 35024.6690433\ttotal: 3.27s\tremaining: 1.41s\n",
            "699:\tlearn: 35011.8559093\ttotal: 3.27s\tremaining: 1.4s\n",
            "700:\tlearn: 35001.4203299\ttotal: 3.28s\tremaining: 1.4s\n",
            "701:\tlearn: 34989.0663365\ttotal: 3.28s\tremaining: 1.39s\n",
            "702:\tlearn: 34981.3145054\ttotal: 3.29s\tremaining: 1.39s\n",
            "703:\tlearn: 34958.8921704\ttotal: 3.29s\tremaining: 1.38s\n",
            "704:\tlearn: 34953.1882983\ttotal: 3.29s\tremaining: 1.38s\n",
            "705:\tlearn: 34941.8474761\ttotal: 3.3s\tremaining: 1.37s\n",
            "706:\tlearn: 34931.2877630\ttotal: 3.3s\tremaining: 1.37s\n",
            "707:\tlearn: 34923.2353535\ttotal: 3.31s\tremaining: 1.36s\n",
            "708:\tlearn: 34910.0385629\ttotal: 3.32s\tremaining: 1.36s\n",
            "709:\tlearn: 34899.4889473\ttotal: 3.32s\tremaining: 1.36s\n",
            "710:\tlearn: 34884.0750065\ttotal: 3.32s\tremaining: 1.35s\n",
            "711:\tlearn: 34871.3745156\ttotal: 3.33s\tremaining: 1.35s\n",
            "712:\tlearn: 34866.2114910\ttotal: 3.33s\tremaining: 1.34s\n",
            "713:\tlearn: 34860.6893837\ttotal: 3.34s\tremaining: 1.34s\n",
            "714:\tlearn: 34854.6549883\ttotal: 3.34s\tremaining: 1.33s\n",
            "715:\tlearn: 34846.7128796\ttotal: 3.35s\tremaining: 1.33s\n",
            "716:\tlearn: 34823.3927335\ttotal: 3.35s\tremaining: 1.32s\n",
            "717:\tlearn: 34815.5810824\ttotal: 3.35s\tremaining: 1.32s\n",
            "718:\tlearn: 34807.0970008\ttotal: 3.36s\tremaining: 1.31s\n",
            "719:\tlearn: 34801.0573795\ttotal: 3.36s\tremaining: 1.31s\n",
            "720:\tlearn: 34792.9547466\ttotal: 3.37s\tremaining: 1.3s\n",
            "721:\tlearn: 34787.2736265\ttotal: 3.37s\tremaining: 1.3s\n",
            "722:\tlearn: 34780.5141696\ttotal: 3.38s\tremaining: 1.29s\n",
            "723:\tlearn: 34769.9137918\ttotal: 3.38s\tremaining: 1.29s\n",
            "724:\tlearn: 34756.9115389\ttotal: 3.39s\tremaining: 1.28s\n",
            "725:\tlearn: 34748.7835553\ttotal: 3.39s\tremaining: 1.28s\n",
            "726:\tlearn: 34733.5209558\ttotal: 3.4s\tremaining: 1.27s\n",
            "727:\tlearn: 34722.9557490\ttotal: 3.4s\tremaining: 1.27s\n",
            "728:\tlearn: 34717.6664522\ttotal: 3.4s\tremaining: 1.26s\n",
            "729:\tlearn: 34706.8178757\ttotal: 3.41s\tremaining: 1.26s\n",
            "730:\tlearn: 34694.6042324\ttotal: 3.41s\tremaining: 1.25s\n",
            "731:\tlearn: 34686.9885664\ttotal: 3.42s\tremaining: 1.25s\n",
            "732:\tlearn: 34673.3381724\ttotal: 3.42s\tremaining: 1.25s\n",
            "733:\tlearn: 34667.1309236\ttotal: 3.42s\tremaining: 1.24s\n",
            "734:\tlearn: 34655.5599977\ttotal: 3.43s\tremaining: 1.24s\n",
            "735:\tlearn: 34648.8053009\ttotal: 3.43s\tremaining: 1.23s\n",
            "736:\tlearn: 34643.2019829\ttotal: 3.44s\tremaining: 1.23s\n",
            "737:\tlearn: 34630.6210037\ttotal: 3.44s\tremaining: 1.22s\n",
            "738:\tlearn: 34613.3343934\ttotal: 3.45s\tremaining: 1.22s\n",
            "739:\tlearn: 34601.4121429\ttotal: 3.45s\tremaining: 1.21s\n",
            "740:\tlearn: 34592.9782175\ttotal: 3.45s\tremaining: 1.21s\n",
            "741:\tlearn: 34572.2335575\ttotal: 3.46s\tremaining: 1.2s\n",
            "742:\tlearn: 34564.6112105\ttotal: 3.46s\tremaining: 1.2s\n",
            "743:\tlearn: 34547.3221252\ttotal: 3.47s\tremaining: 1.19s\n",
            "744:\tlearn: 34536.4685562\ttotal: 3.47s\tremaining: 1.19s\n",
            "745:\tlearn: 34523.9572483\ttotal: 3.48s\tremaining: 1.18s\n",
            "746:\tlearn: 34511.7615357\ttotal: 3.48s\tremaining: 1.18s\n",
            "747:\tlearn: 34496.3403116\ttotal: 3.48s\tremaining: 1.17s\n",
            "748:\tlearn: 34488.1017978\ttotal: 3.49s\tremaining: 1.17s\n",
            "749:\tlearn: 34473.8428105\ttotal: 3.49s\tremaining: 1.16s\n",
            "750:\tlearn: 34464.0760709\ttotal: 3.5s\tremaining: 1.16s\n",
            "751:\tlearn: 34452.5127179\ttotal: 3.51s\tremaining: 1.16s\n",
            "752:\tlearn: 34439.9558599\ttotal: 3.51s\tremaining: 1.15s\n",
            "753:\tlearn: 34423.8171784\ttotal: 3.52s\tremaining: 1.15s\n",
            "754:\tlearn: 34405.9534800\ttotal: 3.52s\tremaining: 1.14s\n",
            "755:\tlearn: 34394.3649787\ttotal: 3.52s\tremaining: 1.14s\n",
            "756:\tlearn: 34384.9330952\ttotal: 3.53s\tremaining: 1.13s\n",
            "757:\tlearn: 34374.4688863\ttotal: 3.53s\tremaining: 1.13s\n",
            "758:\tlearn: 34365.6562403\ttotal: 3.54s\tremaining: 1.12s\n",
            "759:\tlearn: 34354.0959303\ttotal: 3.54s\tremaining: 1.12s\n",
            "760:\tlearn: 34342.8190738\ttotal: 3.55s\tremaining: 1.11s\n",
            "761:\tlearn: 34337.7930021\ttotal: 3.55s\tremaining: 1.11s\n",
            "762:\tlearn: 34321.7562246\ttotal: 3.55s\tremaining: 1.1s\n",
            "763:\tlearn: 34313.1983794\ttotal: 3.56s\tremaining: 1.1s\n",
            "764:\tlearn: 34306.1489291\ttotal: 3.56s\tremaining: 1.09s\n",
            "765:\tlearn: 34295.0152146\ttotal: 3.57s\tremaining: 1.09s\n",
            "766:\tlearn: 34283.4362898\ttotal: 3.57s\tremaining: 1.08s\n",
            "767:\tlearn: 34274.5846502\ttotal: 3.58s\tremaining: 1.08s\n",
            "768:\tlearn: 34266.8917298\ttotal: 3.58s\tremaining: 1.08s\n",
            "769:\tlearn: 34254.3918920\ttotal: 3.59s\tremaining: 1.07s\n",
            "770:\tlearn: 34243.7418971\ttotal: 3.6s\tremaining: 1.07s\n",
            "771:\tlearn: 34229.3382029\ttotal: 3.6s\tremaining: 1.06s\n",
            "772:\tlearn: 34215.6568644\ttotal: 3.6s\tremaining: 1.06s\n",
            "773:\tlearn: 34210.6929667\ttotal: 3.61s\tremaining: 1.05s\n",
            "774:\tlearn: 34195.2128470\ttotal: 3.61s\tremaining: 1.05s\n",
            "775:\tlearn: 34183.8989948\ttotal: 3.62s\tremaining: 1.04s\n",
            "776:\tlearn: 34170.7613925\ttotal: 3.62s\tremaining: 1.04s\n",
            "777:\tlearn: 34156.9128144\ttotal: 3.63s\tremaining: 1.03s\n",
            "778:\tlearn: 34148.9716391\ttotal: 3.63s\tremaining: 1.03s\n",
            "779:\tlearn: 34134.5654635\ttotal: 3.63s\tremaining: 1.02s\n",
            "780:\tlearn: 34121.3672969\ttotal: 3.64s\tremaining: 1.02s\n",
            "781:\tlearn: 34109.7838689\ttotal: 3.64s\tremaining: 1.01s\n",
            "782:\tlearn: 34098.9280070\ttotal: 3.65s\tremaining: 1.01s\n",
            "783:\tlearn: 34089.4961018\ttotal: 3.65s\tremaining: 1.01s\n",
            "784:\tlearn: 34082.6793812\ttotal: 3.66s\tremaining: 1s\n",
            "785:\tlearn: 34068.5718867\ttotal: 3.66s\tremaining: 997ms\n",
            "786:\tlearn: 34060.4887112\ttotal: 3.67s\tremaining: 993ms\n",
            "787:\tlearn: 34046.7304300\ttotal: 3.67s\tremaining: 988ms\n",
            "788:\tlearn: 34043.3117041\ttotal: 3.67s\tremaining: 983ms\n",
            "789:\tlearn: 34029.3755766\ttotal: 3.68s\tremaining: 978ms\n",
            "790:\tlearn: 34020.4382165\ttotal: 3.68s\tremaining: 973ms\n",
            "791:\tlearn: 34012.0233831\ttotal: 3.69s\tremaining: 969ms\n",
            "792:\tlearn: 33991.6061787\ttotal: 3.7s\tremaining: 966ms\n",
            "793:\tlearn: 33979.8377007\ttotal: 3.7s\tremaining: 961ms\n",
            "794:\tlearn: 33971.5638846\ttotal: 3.71s\tremaining: 956ms\n",
            "795:\tlearn: 33957.3061254\ttotal: 3.71s\tremaining: 951ms\n",
            "796:\tlearn: 33936.3903914\ttotal: 3.71s\tremaining: 946ms\n",
            "797:\tlearn: 33928.0043829\ttotal: 3.72s\tremaining: 942ms\n",
            "798:\tlearn: 33912.8128110\ttotal: 3.72s\tremaining: 937ms\n",
            "799:\tlearn: 33906.1622513\ttotal: 3.73s\tremaining: 932ms\n",
            "800:\tlearn: 33889.4787502\ttotal: 3.73s\tremaining: 927ms\n",
            "801:\tlearn: 33880.0043409\ttotal: 3.74s\tremaining: 922ms\n",
            "802:\tlearn: 33872.7751428\ttotal: 3.74s\tremaining: 918ms\n",
            "803:\tlearn: 33862.1905113\ttotal: 3.74s\tremaining: 913ms\n",
            "804:\tlearn: 33854.5110262\ttotal: 3.75s\tremaining: 908ms\n",
            "805:\tlearn: 33845.0876578\ttotal: 3.75s\tremaining: 903ms\n",
            "806:\tlearn: 33837.1085568\ttotal: 3.76s\tremaining: 899ms\n",
            "807:\tlearn: 33827.3131789\ttotal: 3.76s\tremaining: 894ms\n",
            "808:\tlearn: 33813.4689911\ttotal: 3.77s\tremaining: 889ms\n",
            "809:\tlearn: 33805.9321641\ttotal: 3.77s\tremaining: 884ms\n",
            "810:\tlearn: 33791.8946146\ttotal: 3.77s\tremaining: 879ms\n",
            "811:\tlearn: 33782.5189457\ttotal: 3.78s\tremaining: 875ms\n",
            "812:\tlearn: 33767.9536153\ttotal: 3.78s\tremaining: 870ms\n",
            "813:\tlearn: 33748.5505390\ttotal: 3.79s\tremaining: 865ms\n",
            "814:\tlearn: 33738.4047662\ttotal: 3.79s\tremaining: 860ms\n",
            "815:\tlearn: 33733.8284387\ttotal: 3.79s\tremaining: 856ms\n",
            "816:\tlearn: 33720.8323722\ttotal: 3.8s\tremaining: 851ms\n",
            "817:\tlearn: 33714.0529483\ttotal: 3.8s\tremaining: 846ms\n",
            "818:\tlearn: 33701.2867384\ttotal: 3.81s\tremaining: 841ms\n",
            "819:\tlearn: 33690.3318048\ttotal: 3.81s\tremaining: 837ms\n",
            "820:\tlearn: 33682.3862729\ttotal: 3.81s\tremaining: 832ms\n",
            "821:\tlearn: 33674.3068438\ttotal: 3.82s\tremaining: 827ms\n",
            "822:\tlearn: 33667.1139881\ttotal: 3.82s\tremaining: 822ms\n",
            "823:\tlearn: 33661.4378003\ttotal: 3.83s\tremaining: 818ms\n",
            "824:\tlearn: 33650.6263130\ttotal: 3.83s\tremaining: 813ms\n",
            "825:\tlearn: 33643.9836531\ttotal: 3.83s\tremaining: 808ms\n",
            "826:\tlearn: 33624.6197870\ttotal: 3.84s\tremaining: 803ms\n",
            "827:\tlearn: 33611.1516012\ttotal: 3.84s\tremaining: 799ms\n",
            "828:\tlearn: 33603.9213733\ttotal: 3.85s\tremaining: 794ms\n",
            "829:\tlearn: 33590.2323622\ttotal: 3.85s\tremaining: 789ms\n",
            "830:\tlearn: 33579.4159617\ttotal: 3.86s\tremaining: 785ms\n",
            "831:\tlearn: 33568.7291523\ttotal: 3.86s\tremaining: 780ms\n",
            "832:\tlearn: 33556.3753475\ttotal: 3.87s\tremaining: 775ms\n",
            "833:\tlearn: 33544.6496970\ttotal: 3.87s\tremaining: 771ms\n",
            "834:\tlearn: 33538.1028380\ttotal: 3.88s\tremaining: 766ms\n",
            "835:\tlearn: 33529.6360766\ttotal: 3.88s\tremaining: 761ms\n",
            "836:\tlearn: 33522.7769802\ttotal: 3.88s\tremaining: 756ms\n",
            "837:\tlearn: 33510.4145057\ttotal: 3.89s\tremaining: 752ms\n",
            "838:\tlearn: 33492.5622324\ttotal: 3.9s\tremaining: 748ms\n",
            "839:\tlearn: 33484.4667042\ttotal: 3.9s\tremaining: 743ms\n",
            "840:\tlearn: 33476.3908064\ttotal: 3.9s\tremaining: 738ms\n",
            "841:\tlearn: 33467.1356547\ttotal: 3.91s\tremaining: 733ms\n",
            "842:\tlearn: 33454.4945106\ttotal: 3.91s\tremaining: 729ms\n",
            "843:\tlearn: 33448.1441154\ttotal: 3.92s\tremaining: 724ms\n",
            "844:\tlearn: 33435.3295155\ttotal: 3.92s\tremaining: 720ms\n",
            "845:\tlearn: 33418.6029731\ttotal: 3.93s\tremaining: 715ms\n",
            "846:\tlearn: 33409.1412487\ttotal: 3.93s\tremaining: 711ms\n",
            "847:\tlearn: 33402.0257375\ttotal: 3.94s\tremaining: 706ms\n",
            "848:\tlearn: 33391.8606753\ttotal: 3.94s\tremaining: 701ms\n",
            "849:\tlearn: 33379.7861229\ttotal: 3.94s\tremaining: 696ms\n",
            "850:\tlearn: 33373.1829410\ttotal: 3.95s\tremaining: 692ms\n",
            "851:\tlearn: 33365.3617876\ttotal: 3.95s\tremaining: 687ms\n",
            "852:\tlearn: 33356.1012066\ttotal: 3.96s\tremaining: 682ms\n",
            "853:\tlearn: 33348.2651984\ttotal: 3.96s\tremaining: 677ms\n",
            "854:\tlearn: 33342.1796713\ttotal: 3.96s\tremaining: 673ms\n",
            "855:\tlearn: 33329.3568837\ttotal: 3.97s\tremaining: 668ms\n",
            "856:\tlearn: 33323.7153246\ttotal: 3.97s\tremaining: 663ms\n",
            "857:\tlearn: 33308.9067507\ttotal: 3.98s\tremaining: 658ms\n",
            "858:\tlearn: 33296.2697511\ttotal: 3.98s\tremaining: 654ms\n",
            "859:\tlearn: 33288.7881962\ttotal: 3.99s\tremaining: 649ms\n",
            "860:\tlearn: 33283.6158957\ttotal: 3.99s\tremaining: 644ms\n",
            "861:\tlearn: 33272.3442756\ttotal: 3.99s\tremaining: 640ms\n",
            "862:\tlearn: 33262.4380137\ttotal: 4s\tremaining: 635ms\n",
            "863:\tlearn: 33252.1840618\ttotal: 4s\tremaining: 630ms\n",
            "864:\tlearn: 33242.9124153\ttotal: 4.01s\tremaining: 625ms\n",
            "865:\tlearn: 33233.1906831\ttotal: 4.01s\tremaining: 621ms\n",
            "866:\tlearn: 33225.8221920\ttotal: 4.01s\tremaining: 616ms\n",
            "867:\tlearn: 33215.3567465\ttotal: 4.02s\tremaining: 611ms\n",
            "868:\tlearn: 33202.1965440\ttotal: 4.02s\tremaining: 607ms\n",
            "869:\tlearn: 33190.1155661\ttotal: 4.03s\tremaining: 602ms\n",
            "870:\tlearn: 33172.0028304\ttotal: 4.03s\tremaining: 597ms\n",
            "871:\tlearn: 33162.8572173\ttotal: 4.04s\tremaining: 593ms\n",
            "872:\tlearn: 33144.8989422\ttotal: 4.04s\tremaining: 588ms\n",
            "873:\tlearn: 33131.8365789\ttotal: 4.04s\tremaining: 583ms\n",
            "874:\tlearn: 33119.2939854\ttotal: 4.05s\tremaining: 579ms\n",
            "875:\tlearn: 33110.6571439\ttotal: 4.05s\tremaining: 574ms\n",
            "876:\tlearn: 33098.8716916\ttotal: 4.06s\tremaining: 569ms\n",
            "877:\tlearn: 33085.0985203\ttotal: 4.06s\tremaining: 565ms\n",
            "878:\tlearn: 33071.5958944\ttotal: 4.07s\tremaining: 560ms\n",
            "879:\tlearn: 33061.6101494\ttotal: 4.07s\tremaining: 555ms\n",
            "880:\tlearn: 33049.8718664\ttotal: 4.08s\tremaining: 551ms\n",
            "881:\tlearn: 33040.6002731\ttotal: 4.08s\tremaining: 546ms\n",
            "882:\tlearn: 33029.7583116\ttotal: 4.09s\tremaining: 543ms\n",
            "883:\tlearn: 33021.3943657\ttotal: 4.1s\tremaining: 539ms\n",
            "884:\tlearn: 33010.8849608\ttotal: 4.11s\tremaining: 534ms\n",
            "885:\tlearn: 32999.2768770\ttotal: 4.11s\tremaining: 529ms\n",
            "886:\tlearn: 32990.5710018\ttotal: 4.12s\tremaining: 525ms\n",
            "887:\tlearn: 32981.4171232\ttotal: 4.12s\tremaining: 520ms\n",
            "888:\tlearn: 32969.4215900\ttotal: 4.13s\tremaining: 515ms\n",
            "889:\tlearn: 32958.1999727\ttotal: 4.13s\tremaining: 511ms\n",
            "890:\tlearn: 32946.3387782\ttotal: 4.13s\tremaining: 506ms\n",
            "891:\tlearn: 32935.3726292\ttotal: 4.14s\tremaining: 502ms\n",
            "892:\tlearn: 32928.3745590\ttotal: 4.15s\tremaining: 497ms\n",
            "893:\tlearn: 32917.9253175\ttotal: 4.16s\tremaining: 493ms\n",
            "894:\tlearn: 32908.2887526\ttotal: 4.16s\tremaining: 488ms\n",
            "895:\tlearn: 32898.0594046\ttotal: 4.17s\tremaining: 484ms\n",
            "896:\tlearn: 32887.5035948\ttotal: 4.17s\tremaining: 479ms\n",
            "897:\tlearn: 32875.2482060\ttotal: 4.17s\tremaining: 474ms\n",
            "898:\tlearn: 32864.1419007\ttotal: 4.18s\tremaining: 469ms\n",
            "899:\tlearn: 32853.2327669\ttotal: 4.18s\tremaining: 465ms\n",
            "900:\tlearn: 32847.2724552\ttotal: 4.19s\tremaining: 460ms\n",
            "901:\tlearn: 32843.8192213\ttotal: 4.19s\tremaining: 456ms\n",
            "902:\tlearn: 32834.5082485\ttotal: 4.2s\tremaining: 451ms\n",
            "903:\tlearn: 32827.2572023\ttotal: 4.2s\tremaining: 446ms\n",
            "904:\tlearn: 32816.2780085\ttotal: 4.21s\tremaining: 442ms\n",
            "905:\tlearn: 32809.1764928\ttotal: 4.21s\tremaining: 437ms\n",
            "906:\tlearn: 32799.9511882\ttotal: 4.21s\tremaining: 432ms\n",
            "907:\tlearn: 32787.4791809\ttotal: 4.22s\tremaining: 428ms\n",
            "908:\tlearn: 32779.5476762\ttotal: 4.22s\tremaining: 423ms\n",
            "909:\tlearn: 32767.7437418\ttotal: 4.23s\tremaining: 418ms\n",
            "910:\tlearn: 32759.3951690\ttotal: 4.23s\tremaining: 414ms\n",
            "911:\tlearn: 32751.0654187\ttotal: 4.24s\tremaining: 409ms\n",
            "912:\tlearn: 32743.8398180\ttotal: 4.24s\tremaining: 404ms\n",
            "913:\tlearn: 32732.4980043\ttotal: 4.25s\tremaining: 400ms\n",
            "914:\tlearn: 32722.7456158\ttotal: 4.25s\tremaining: 395ms\n",
            "915:\tlearn: 32714.1209570\ttotal: 4.25s\tremaining: 390ms\n",
            "916:\tlearn: 32707.2821328\ttotal: 4.26s\tremaining: 385ms\n",
            "917:\tlearn: 32698.4542374\ttotal: 4.26s\tremaining: 381ms\n",
            "918:\tlearn: 32689.7165681\ttotal: 4.27s\tremaining: 376ms\n",
            "919:\tlearn: 32684.6730884\ttotal: 4.27s\tremaining: 371ms\n",
            "920:\tlearn: 32678.1327337\ttotal: 4.28s\tremaining: 367ms\n",
            "921:\tlearn: 32670.9015570\ttotal: 4.28s\tremaining: 362ms\n",
            "922:\tlearn: 32655.6394164\ttotal: 4.29s\tremaining: 358ms\n",
            "923:\tlearn: 32648.3877386\ttotal: 4.29s\tremaining: 353ms\n",
            "924:\tlearn: 32633.8457340\ttotal: 4.3s\tremaining: 348ms\n",
            "925:\tlearn: 32630.2845812\ttotal: 4.3s\tremaining: 344ms\n",
            "926:\tlearn: 32620.3551703\ttotal: 4.3s\tremaining: 339ms\n",
            "927:\tlearn: 32608.7484769\ttotal: 4.31s\tremaining: 334ms\n",
            "928:\tlearn: 32596.0898258\ttotal: 4.31s\tremaining: 330ms\n",
            "929:\tlearn: 32585.3958578\ttotal: 4.32s\tremaining: 325ms\n",
            "930:\tlearn: 32572.3085276\ttotal: 4.32s\tremaining: 320ms\n",
            "931:\tlearn: 32567.4884438\ttotal: 4.33s\tremaining: 316ms\n",
            "932:\tlearn: 32551.9056256\ttotal: 4.33s\tremaining: 311ms\n",
            "933:\tlearn: 32538.3485933\ttotal: 4.33s\tremaining: 306ms\n",
            "934:\tlearn: 32528.3766915\ttotal: 4.34s\tremaining: 302ms\n",
            "935:\tlearn: 32521.8991230\ttotal: 4.34s\tremaining: 297ms\n",
            "936:\tlearn: 32514.0853341\ttotal: 4.35s\tremaining: 292ms\n",
            "937:\tlearn: 32506.7656696\ttotal: 4.35s\tremaining: 288ms\n",
            "938:\tlearn: 32499.6462939\ttotal: 4.36s\tremaining: 283ms\n",
            "939:\tlearn: 32482.8047954\ttotal: 4.37s\tremaining: 279ms\n",
            "940:\tlearn: 32472.1809231\ttotal: 4.38s\tremaining: 274ms\n",
            "941:\tlearn: 32462.0004145\ttotal: 4.38s\tremaining: 270ms\n",
            "942:\tlearn: 32457.0345555\ttotal: 4.38s\tremaining: 265ms\n",
            "943:\tlearn: 32449.0450354\ttotal: 4.39s\tremaining: 260ms\n",
            "944:\tlearn: 32441.4389800\ttotal: 4.39s\tremaining: 256ms\n",
            "945:\tlearn: 32427.5950835\ttotal: 4.4s\tremaining: 251ms\n",
            "946:\tlearn: 32418.6751474\ttotal: 4.4s\tremaining: 246ms\n",
            "947:\tlearn: 32407.5076868\ttotal: 4.41s\tremaining: 242ms\n",
            "948:\tlearn: 32401.6532285\ttotal: 4.41s\tremaining: 237ms\n",
            "949:\tlearn: 32393.3511369\ttotal: 4.42s\tremaining: 232ms\n",
            "950:\tlearn: 32382.4684675\ttotal: 4.42s\tremaining: 228ms\n",
            "951:\tlearn: 32374.0639119\ttotal: 4.42s\tremaining: 223ms\n",
            "952:\tlearn: 32366.7382373\ttotal: 4.43s\tremaining: 218ms\n",
            "953:\tlearn: 32359.2197547\ttotal: 4.44s\tremaining: 214ms\n",
            "954:\tlearn: 32352.8127057\ttotal: 4.44s\tremaining: 209ms\n",
            "955:\tlearn: 32349.3012754\ttotal: 4.45s\tremaining: 205ms\n",
            "956:\tlearn: 32344.2620389\ttotal: 4.45s\tremaining: 200ms\n",
            "957:\tlearn: 32338.5324695\ttotal: 4.45s\tremaining: 195ms\n",
            "958:\tlearn: 32330.1340804\ttotal: 4.46s\tremaining: 191ms\n",
            "959:\tlearn: 32312.7809835\ttotal: 4.46s\tremaining: 186ms\n",
            "960:\tlearn: 32303.0758490\ttotal: 4.47s\tremaining: 181ms\n",
            "961:\tlearn: 32287.2022048\ttotal: 4.47s\tremaining: 177ms\n",
            "962:\tlearn: 32278.3068006\ttotal: 4.48s\tremaining: 172ms\n",
            "963:\tlearn: 32272.8035834\ttotal: 4.49s\tremaining: 168ms\n",
            "964:\tlearn: 32266.6345978\ttotal: 4.49s\tremaining: 163ms\n",
            "965:\tlearn: 32257.5539812\ttotal: 4.5s\tremaining: 158ms\n",
            "966:\tlearn: 32247.4751198\ttotal: 4.5s\tremaining: 154ms\n",
            "967:\tlearn: 32237.5011280\ttotal: 4.5s\tremaining: 149ms\n",
            "968:\tlearn: 32228.8363747\ttotal: 4.51s\tremaining: 144ms\n",
            "969:\tlearn: 32217.9514528\ttotal: 4.51s\tremaining: 140ms\n",
            "970:\tlearn: 32202.1273995\ttotal: 4.52s\tremaining: 135ms\n",
            "971:\tlearn: 32193.6975173\ttotal: 4.52s\tremaining: 130ms\n",
            "972:\tlearn: 32185.5139884\ttotal: 4.52s\tremaining: 126ms\n",
            "973:\tlearn: 32176.5472332\ttotal: 4.53s\tremaining: 121ms\n",
            "974:\tlearn: 32166.5321311\ttotal: 4.53s\tremaining: 116ms\n",
            "975:\tlearn: 32159.6052196\ttotal: 4.54s\tremaining: 112ms\n",
            "976:\tlearn: 32147.4644054\ttotal: 4.54s\tremaining: 107ms\n",
            "977:\tlearn: 32138.6022188\ttotal: 4.54s\tremaining: 102ms\n",
            "978:\tlearn: 32132.9177630\ttotal: 4.55s\tremaining: 97.6ms\n",
            "979:\tlearn: 32126.4672189\ttotal: 4.55s\tremaining: 92.9ms\n",
            "980:\tlearn: 32114.6051525\ttotal: 4.56s\tremaining: 88.3ms\n",
            "981:\tlearn: 32107.0960210\ttotal: 4.56s\tremaining: 83.6ms\n",
            "982:\tlearn: 32091.1264675\ttotal: 4.57s\tremaining: 79ms\n",
            "983:\tlearn: 32087.1390736\ttotal: 4.57s\tremaining: 74.3ms\n",
            "984:\tlearn: 32079.7446505\ttotal: 4.58s\tremaining: 69.7ms\n",
            "985:\tlearn: 32063.3057651\ttotal: 4.58s\tremaining: 65ms\n",
            "986:\tlearn: 32054.2916458\ttotal: 4.58s\tremaining: 60.4ms\n",
            "987:\tlearn: 32047.0122873\ttotal: 4.59s\tremaining: 55.7ms\n",
            "988:\tlearn: 32034.3972118\ttotal: 4.59s\tremaining: 51.1ms\n",
            "989:\tlearn: 32022.8805364\ttotal: 4.6s\tremaining: 46.4ms\n",
            "990:\tlearn: 32011.5491304\ttotal: 4.6s\tremaining: 41.8ms\n",
            "991:\tlearn: 32002.8808936\ttotal: 4.61s\tremaining: 37.1ms\n",
            "992:\tlearn: 31995.3306717\ttotal: 4.61s\tremaining: 32.5ms\n",
            "993:\tlearn: 31982.2526001\ttotal: 4.61s\tremaining: 27.9ms\n",
            "994:\tlearn: 31974.5837423\ttotal: 4.62s\tremaining: 23.2ms\n",
            "995:\tlearn: 31968.6985032\ttotal: 4.62s\tremaining: 18.6ms\n",
            "996:\tlearn: 31953.8325006\ttotal: 4.63s\tremaining: 13.9ms\n",
            "997:\tlearn: 31938.6032212\ttotal: 4.63s\tremaining: 9.28ms\n",
            "998:\tlearn: 31929.0956205\ttotal: 4.64s\tremaining: 4.64ms\n",
            "999:\tlearn: 31922.2122180\ttotal: 4.64s\tremaining: 0us\n",
            "\u001b[1m\n",
            "R2 score is  0.8136268647998726\n",
            "\u001b[1m\n",
            "Adjusted R2 score is  0.7870021311998543\n",
            "\u001b[1m\n",
            "Mean Absolute Error is 28581.86\n",
            "\u001b[1m\n",
            "Mean Squared Error is 1799285799.35\n",
            "\u001b[1m\n",
            "Root Mean Squared Error is 42417.99\n",
            "\u001b[1m\n",
            "Accuracy of CatBoost is  81.36 %\n"
          ],
          "name": "stdout"
        }
      ]
    },
    {
      "cell_type": "markdown",
      "metadata": {
        "id": "mMKJqBBEExO3"
      },
      "source": [
        "### 10. Light GBM"
      ]
    },
    {
      "cell_type": "code",
      "metadata": {
        "colab": {
          "base_uri": "https://localhost:8080/"
        },
        "id": "_A94tylsMVuv",
        "outputId": "b4c16c56-288a-4187-bc02-1c6b25106902"
      },
      "source": [
        "!pip install lightgbm"
      ],
      "execution_count": 51,
      "outputs": [
        {
          "output_type": "stream",
          "text": [
            "Requirement already satisfied: lightgbm in /usr/local/lib/python3.7/dist-packages (2.2.3)\n",
            "Requirement already satisfied: scipy in /usr/local/lib/python3.7/dist-packages (from lightgbm) (1.4.1)\n",
            "Requirement already satisfied: scikit-learn in /usr/local/lib/python3.7/dist-packages (from lightgbm) (0.22.2.post1)\n",
            "Requirement already satisfied: numpy in /usr/local/lib/python3.7/dist-packages (from lightgbm) (1.19.5)\n",
            "Requirement already satisfied: joblib>=0.11 in /usr/local/lib/python3.7/dist-packages (from scikit-learn->lightgbm) (1.0.1)\n"
          ],
          "name": "stdout"
        }
      ]
    },
    {
      "cell_type": "code",
      "metadata": {
        "id": "pnVsmZAQExO3",
        "colab": {
          "base_uri": "https://localhost:8080/"
        },
        "outputId": "fa1ca885-63fc-4df9-f267-1d30e88cbaed"
      },
      "source": [
        "import lightgbm as lgb\n",
        "\n",
        "lg = lgb.LGBMRegressor()\n",
        "\n",
        "lg.fit(X_train,y_train)\n",
        "\n",
        "y_pred = lg.predict(X_test)\n",
        "\n",
        "accuracy = lg.score(X_test, y_test)\n",
        "accuracy_rounded = round(accuracy*100,2)\n",
        "accuracies['Light GBM'] = accuracy_rounded\n",
        "\n",
        "r2 = metrics.r2_score(y_test, y_pred)\n",
        "Adj_r2 = 1-(1-r2)*(9-1)/(9-1-1)\n",
        "\n",
        "print(color.BOLD + '\\nR2 score is ',r2)\n",
        "\n",
        "print(color.BOLD + '\\nAdjusted R2 score is ',Adj_r2)\n",
        "\n",
        "print(color.BOLD + '\\nMean Absolute Error is',round(metrics.mean_absolute_error(y_test,lg.predict(X_test)),2))\n",
        "\n",
        "print(color.BOLD + '\\nMean Squared Error is',round(metrics.mean_squared_error(y_test,lg.predict(X_test)),2))\n",
        "\n",
        "print(color.BOLD + '\\nRoot Mean Squared Error is',round(np.sqrt(mean_squared_error(y_test,lg.predict(X_test))),2))\n",
        "\n",
        "print(color.BOLD + \"\\nAccuracy of Light GBM is \", accuracy_rounded,'%')"
      ],
      "execution_count": 52,
      "outputs": [
        {
          "output_type": "stream",
          "text": [
            "\u001b[1m\n",
            "R2 score is  0.7957184078382149\n",
            "\u001b[1m\n",
            "Adjusted R2 score is  0.7665353232436742\n",
            "\u001b[1m\n",
            "Mean Absolute Error is 30362.45\n",
            "\u001b[1m\n",
            "Mean Squared Error is 1972177843.39\n",
            "\u001b[1m\n",
            "Root Mean Squared Error is 44409.21\n",
            "\u001b[1m\n",
            "Accuracy of Light GBM is  79.57 %\n"
          ],
          "name": "stdout"
        }
      ]
    },
    {
      "cell_type": "code",
      "metadata": {
        "id": "M-J3YdiTExO4",
        "colab": {
          "base_uri": "https://localhost:8080/"
        },
        "outputId": "5149aed0-8473-43d7-bef6-800142137433"
      },
      "source": [
        "#Verifying how untuned models predict house value\n",
        "print('\\nPrediction of Random Forest is ',rf.predict([[-122.22,37.86,21,7099,1106,2401,1138,8.3014,0]]))      \n",
        "print('\\nPrediction of Ada Boost is ',ada.predict([[-122.22,37.86,21,7099,1106,2401,1138,8.3014,0]])) \n",
        "print('\\nPrediction of Gradient Boost is ',gboost.predict([[-122.22,37.86,21,7099,1106,2401,1138,8.3014,0]]))\n",
        "print('\\nPrediction of Ridge Regression is ',rid.predict([[-122.22,37.86,21,7099,1106,2401,1138,8.3014,0]]))\n",
        "print('\\nPrediction of Lasso Regression is ',lasso.predict([[-122.22,37.86,21,7099,1106,2401,1138,8.3014,0]]))\n",
        "print('\\nPrediction of Elasticnet Regression is ',ela.predict([[-122.22,37.86,21,7099,1106,2401,1138,8.3014,0]]))\n",
        "print('\\nPrediction of Decision Tree is ',dt.predict([[-122.22,37.86,21,7099,1106,2401,1138,8.3014,0]]))\n",
        "print('\\nPrediction of CatBoost is ',cat.predict([[-122.22,37.86,21,7099,1106,2401,1138,8.3014,0]]))\n",
        "print('\\nPrediction of Light GBM is ',lg.predict([[-122.22,37.86,21,7099,1106,2401,1138,8.3014,0]]))"
      ],
      "execution_count": 53,
      "outputs": [
        {
          "output_type": "stream",
          "text": [
            "\n",
            "Prediction of Random Forest is  [415482.]\n",
            "\n",
            "Prediction of Ada Boost is  [335364.57564576]\n",
            "\n",
            "Prediction of Gradient Boost is  [408704.15479083]\n",
            "\n",
            "Prediction of Ridge Regression is  [401869.56241675]\n",
            "\n",
            "Prediction of Lasso Regression is  [401870.22914012]\n",
            "\n",
            "Prediction of Elasticnet Regression is  [376429.54743047]\n",
            "\n",
            "Prediction of Decision Tree is  [361600.]\n",
            "\n",
            "Prediction of CatBoost is  [451460.49067526]\n",
            "\n",
            "Prediction of Light GBM is  [432786.20765921]\n"
          ],
          "name": "stdout"
        }
      ]
    },
    {
      "cell_type": "markdown",
      "metadata": {
        "id": "e5bLdMPdExO5"
      },
      "source": [
        "### All accuracies together"
      ]
    },
    {
      "cell_type": "code",
      "metadata": {
        "id": "kjoT8Ht4ExO5",
        "colab": {
          "base_uri": "https://localhost:8080/"
        },
        "outputId": "f42fba0d-b7b6-4352-be5c-83a940460340"
      },
      "source": [
        "accuracies"
      ],
      "execution_count": 54,
      "outputs": [
        {
          "output_type": "execute_result",
          "data": {
            "text/plain": [
              "{'AdaBoost': 36.26,\n",
              " 'CatBoost': 81.36,\n",
              " 'Decision Tree': 55.67,\n",
              " 'Elastic Net Regression': 55.65,\n",
              " 'Gradient Boost': 73.33,\n",
              " 'Lasso Regression': 60.09,\n",
              " 'Light GBM': 79.57,\n",
              " 'Random Forest': 78.32,\n",
              " 'Ridge Regression': 60.09,\n",
              " 'XGBoost': 73.95}"
            ]
          },
          "metadata": {
            "tags": []
          },
          "execution_count": 54
        }
      ]
    },
    {
      "cell_type": "code",
      "metadata": {
        "id": "N9oc_NMvExO6",
        "colab": {
          "base_uri": "https://localhost:8080/",
          "height": 0
        },
        "outputId": "09ee228a-fcd4-4d1b-df93-87dc3494b7e7"
      },
      "source": [
        "#Plotting accuracies of all the models\n",
        "colors = [\"green\", \"yellow\", \"black\", \"magenta\", \"#0e76a8\", \"red\", \"#34558b\",\"#f0daa4\",\"#3b3d4b\",\"#fd823e\"]\n",
        "\n",
        "sns.set_style(\"whitegrid\")\n",
        "plt.figure(figsize=(18,10))\n",
        "plt.yticks(np.arange(0,100,10))\n",
        "plt.ylabel(\"\\nAccuracy %\",fontsize=20)\n",
        "plt.xlabel(\"\\nAlgorithms\",fontsize=20)\n",
        "sns.barplot(x=list(accuracies.keys()), y=list(accuracies.values()), palette=colors)\n",
        "plt.show()"
      ],
      "execution_count": 55,
      "outputs": [
        {
          "output_type": "display_data",
          "data": {
            "image/png": "[encoded data removed]",
            "text/plain": [
              "<Figure size 1296x720 with 1 Axes>"
            ]
          },
          "metadata": {
            "tags": []
          }
        }
      ]
    },
    {
      "cell_type": "code",
      "metadata": {
        "id": "86enmCvj75s1"
      },
      "source": [
        "#CatBoost performs the best without tuning."
      ],
      "execution_count": 56,
      "outputs": []
    },
    {
      "cell_type": "markdown",
      "metadata": {
        "id": "zhtXxCfZ2q9d"
      },
      "source": [
        "### Hyperparameter Tuning"
      ]
    },
    {
      "cell_type": "markdown",
      "metadata": {
        "id": "XBlspCKB2Nso"
      },
      "source": [
        "\n",
        "> Let's try to increase the accuracy of the top performing models on this dataset - \n",
        "\n",
        "> 1.   RandomForest\n",
        "2.   CatBoost\n",
        "1.   LightGBM\n",
        "\n",
        "---\n",
        "\n"
      ]
    },
    {
      "cell_type": "code",
      "metadata": {
        "id": "pquKfsls2zrb"
      },
      "source": [
        "from sklearn.model_selection import RepeatedKFold\n",
        "from sklearn.model_selection import GridSearchCV\n",
        "from sklearn.model_selection import RandomizedSearchCV\n",
        "import numpy as np"
      ],
      "execution_count": 57,
      "outputs": []
    },
    {
      "cell_type": "markdown",
      "metadata": {
        "id": "7vclEaCSCMB8"
      },
      "source": [
        "### Random Forest Tuning"
      ]
    },
    {
      "cell_type": "code",
      "metadata": {
        "colab": {
          "base_uri": "https://localhost:8080/"
        },
        "id": "iw6XU5vgGTn8",
        "outputId": "3c638893-d398-4cfc-cdab-c0078d00f301"
      },
      "source": [
        "#Randomized Search CV\n",
        "\n",
        "# Number of trees in the random forest\n",
        "n_estimators = [int(x) for x in np.linspace(start = 5, stop = 300, num = 6)]\n",
        "\n",
        "# Number of features to consider at every split\n",
        "max_features = ['auto', 'sqrt', 'log2']\n",
        "\n",
        "# Maximum number of levels in tree\n",
        "max_depth = [int(x) for x in np.linspace(10, 120, num = 12)]\n",
        "max_depth.append(None)\n",
        "\n",
        "# Minimum number of samples required to split a node\n",
        "min_samples_split = [2, 5, 10, 13, 16]\n",
        "\n",
        "# Minimum number of samples required at each leaf node\n",
        "min_samples_leaf = [1, 2, 4, 8]\n",
        "\n",
        "# Method of selecting samples for training each tree\n",
        "bootstrap = [True, False]\n",
        "\n",
        "# Create the random grid\n",
        "random_grid = {'n_estimators': n_estimators,\n",
        "               'max_features': max_features,\n",
        "               'max_depth': max_depth,\n",
        "               'min_samples_split': min_samples_split,\n",
        "               'min_samples_leaf': min_samples_leaf,\n",
        "               'bootstrap': bootstrap}\n",
        "\n",
        "\n",
        "print(random_grid)"
      ],
      "execution_count": 58,
      "outputs": [
        {
          "output_type": "stream",
          "text": [
            "{'n_estimators': [5, 64, 123, 182, 241, 300], 'max_features': ['auto', 'sqrt', 'log2'], 'max_depth': [10, 20, 30, 40, 50, 60, 70, 80, 90, 100, 110, 120, None], 'min_samples_split': [2, 5, 10, 13, 16], 'min_samples_leaf': [1, 2, 4, 8], 'bootstrap': [True, False]}\n"
          ],
          "name": "stdout"
        }
      ]
    },
    {
      "cell_type": "code",
      "metadata": {
        "id": "_e0MRVsgHA-S"
      },
      "source": [
        "rf_random = RandomizedSearchCV(estimator = rf, \n",
        "                               param_distributions = random_grid, \n",
        "                               n_iter = 9, \n",
        "                               cv = 4, \n",
        "                               verbose=0,\n",
        "                               random_state=42, \n",
        "                               n_jobs = -1)"
      ],
      "execution_count": 59,
      "outputs": []
    },
    {
      "cell_type": "code",
      "metadata": {
        "colab": {
          "base_uri": "https://localhost:8080/"
        },
        "id": "oxzmUYqrHINW",
        "outputId": "3f73acb5-d8ab-499b-df9d-a00e8d4cb999"
      },
      "source": [
        "rf_random.fit(X_train, y_train)"
      ],
      "execution_count": 60,
      "outputs": [
        {
          "output_type": "execute_result",
          "data": {
            "text/plain": [
              "RandomizedSearchCV(cv=4, error_score=nan,\n",
              "                   estimator=RandomForestRegressor(bootstrap=True,\n",
              "                                                   ccp_alpha=0.0,\n",
              "                                                   criterion='mse',\n",
              "                                                   max_depth=None,\n",
              "                                                   max_features='auto',\n",
              "                                                   max_leaf_nodes=None,\n",
              "                                                   max_samples=None,\n",
              "                                                   min_impurity_decrease=0.0,\n",
              "                                                   min_impurity_split=None,\n",
              "                                                   min_samples_leaf=1,\n",
              "                                                   min_samples_split=2,\n",
              "                                                   min_weight_fraction_leaf=0.0,\n",
              "                                                   n_estimators=100,\n",
              "                                                   n_jobs=None, oob_score=Fals...\n",
              "                   iid='deprecated', n_iter=9, n_jobs=-1,\n",
              "                   param_distributions={'bootstrap': [True, False],\n",
              "                                        'max_depth': [10, 20, 30, 40, 50, 60,\n",
              "                                                      70, 80, 90, 100, 110, 120,\n",
              "                                                      None],\n",
              "                                        'max_features': ['auto', 'sqrt',\n",
              "                                                         'log2'],\n",
              "                                        'min_samples_leaf': [1, 2, 4, 8],\n",
              "                                        'min_samples_split': [2, 5, 10, 13, 16],\n",
              "                                        'n_estimators': [5, 64, 123, 182, 241,\n",
              "                                                         300]},\n",
              "                   pre_dispatch='2*n_jobs', random_state=42, refit=True,\n",
              "                   return_train_score=False, scoring=None, verbose=0)"
            ]
          },
          "metadata": {
            "tags": []
          },
          "execution_count": 60
        }
      ]
    },
    {
      "cell_type": "code",
      "metadata": {
        "colab": {
          "base_uri": "https://localhost:8080/"
        },
        "id": "HkSRAxKaHbcL",
        "outputId": "867c9c7b-a127-4fa0-d13e-32940bce1407"
      },
      "source": [
        "rf_random.best_params_"
      ],
      "execution_count": 61,
      "outputs": [
        {
          "output_type": "execute_result",
          "data": {
            "text/plain": [
              "{'bootstrap': False,\n",
              " 'max_depth': 20,\n",
              " 'max_features': 'sqrt',\n",
              " 'min_samples_leaf': 2,\n",
              " 'min_samples_split': 2,\n",
              " 'n_estimators': 64}"
            ]
          },
          "metadata": {
            "tags": []
          },
          "execution_count": 61
        }
      ]
    },
    {
      "cell_type": "code",
      "metadata": {
        "colab": {
          "base_uri": "https://localhost:8080/"
        },
        "id": "U3flN-hgJos3",
        "outputId": "220425d8-3254-4f97-e953-847de59d8104"
      },
      "source": [
        "#Predict on test data\n",
        "y_pred = rf_random.predict(X_test)\n",
        "\n",
        "#Metrics Calculation\n",
        "r2 = round(metrics.r2_score(y_test, y_pred),2)\n",
        "Adj_r2 = round(1-(1-r2)*(9-1)/(9-1-1),2)\n",
        "\n",
        "#Display results\n",
        "print(color.BOLD + '\\nR2 score is ',r2)\n",
        "\n",
        "print(color.BOLD + '\\nAdjusted R2 score is ',Adj_r2)\n",
        "\n",
        "print(color.BOLD + '\\nMean Absolute Error is',round(metrics.mean_absolute_error(y_test,rf_random.predict(X_test)),2))\n",
        "\n",
        "print(color.BOLD + '\\nMean Squared Error is',round(metrics.mean_squared_error(y_test,rf_random.predict(X_test)),2))\n",
        "\n",
        "print(color.BOLD + '\\nRoot Mean Squared Error is',round(np.sqrt(mean_squared_error(y_test,rf_random.predict(X_test))),2))"
      ],
      "execution_count": 62,
      "outputs": [
        {
          "output_type": "stream",
          "text": [
            "\u001b[1m\n",
            "R2 score is  0.79\n",
            "\u001b[1m\n",
            "Adjusted R2 score is  0.76\n",
            "\u001b[1m\n",
            "Mean Absolute Error is 30619.87\n",
            "\u001b[1m\n",
            "Mean Squared Error is 2066902252.04\n",
            "\u001b[1m\n",
            "Root Mean Squared Error is 45463.2\n"
          ],
          "name": "stdout"
        }
      ]
    },
    {
      "cell_type": "code",
      "metadata": {
        "colab": {
          "base_uri": "https://localhost:8080/"
        },
        "id": "trr0kN_8H6Rl",
        "outputId": "07488036-1fda-4076-f813-59c912fcad84"
      },
      "source": [
        "#Grid Search CV\n",
        "\n",
        "param_grid = {\n",
        "    'bootstrap': [True],\n",
        "    'max_depth': [80, 90, 100],\n",
        "    'max_features': [2, 3],\n",
        "    'min_samples_leaf': [3, 4, 5],\n",
        "    'min_samples_split': [4, 8, 10],\n",
        "    'n_estimators': [100, 200, 300]\n",
        "}\n",
        "\n",
        "# Instantiate the grid search model\n",
        "grid_search = GridSearchCV(estimator = rf, param_grid = param_grid, cv = 2, n_jobs = -1, verbose = 0)\n",
        "\n",
        "grid_search.fit(X_train,y_train)\n",
        "\n",
        "grid_search.best_params_"
      ],
      "execution_count": 63,
      "outputs": [
        {
          "output_type": "execute_result",
          "data": {
            "text/plain": [
              "{'bootstrap': True,\n",
              " 'max_depth': 80,\n",
              " 'max_features': 3,\n",
              " 'min_samples_leaf': 3,\n",
              " 'min_samples_split': 4,\n",
              " 'n_estimators': 300}"
            ]
          },
          "metadata": {
            "tags": []
          },
          "execution_count": 63
        }
      ]
    },
    {
      "cell_type": "code",
      "metadata": {
        "colab": {
          "base_uri": "https://localhost:8080/"
        },
        "id": "UzvSrsRxINaA",
        "outputId": "58677f8e-4099-432e-a731-5182d8a716db"
      },
      "source": [
        "best_grid = grid_search.best_estimator_\n",
        "best_grid"
      ],
      "execution_count": 64,
      "outputs": [
        {
          "output_type": "execute_result",
          "data": {
            "text/plain": [
              "RandomForestRegressor(bootstrap=True, ccp_alpha=0.0, criterion='mse',\n",
              "                      max_depth=80, max_features=3, max_leaf_nodes=None,\n",
              "                      max_samples=None, min_impurity_decrease=0.0,\n",
              "                      min_impurity_split=None, min_samples_leaf=3,\n",
              "                      min_samples_split=4, min_weight_fraction_leaf=0.0,\n",
              "                      n_estimators=300, n_jobs=None, oob_score=False,\n",
              "                      random_state=0, verbose=0, warm_start=False)"
            ]
          },
          "metadata": {
            "tags": []
          },
          "execution_count": 64
        }
      ]
    },
    {
      "cell_type": "code",
      "metadata": {
        "colab": {
          "base_uri": "https://localhost:8080/"
        },
        "id": "0LD-s9XFODaO",
        "outputId": "f19fea51-812d-4d1a-be03-28c8116ba71b"
      },
      "source": [
        "#Predict on test data\n",
        "y_pred = best_grid.predict(X_test)\n",
        "\n",
        "#Metrics Calculation\n",
        "r2 = round(metrics.r2_score(y_test, y_pred),2)\n",
        "Adj_r2 = round(1-(1-r2)*(9-1)/(9-1-1),2)\n",
        "\n",
        "#Display results\n",
        "print(color.BOLD + '\\nR2 score is ',r2)\n",
        "\n",
        "print(color.BOLD + '\\nAdjusted R2 score is ',Adj_r2)\n",
        "\n",
        "print(color.BOLD + '\\nMean Absolute Error is',round(metrics.mean_absolute_error(y_test,rf_random.predict(X_test)),2))\n",
        "\n",
        "print(color.BOLD + '\\nMean Squared Error is',round(metrics.mean_squared_error(y_test,rf_random.predict(X_test)),2))\n",
        "\n",
        "print(color.BOLD + '\\nRoot Mean Squared Error is',round(np.sqrt(mean_squared_error(y_test,rf_random.predict(X_test))),2))"
      ],
      "execution_count": 65,
      "outputs": [
        {
          "output_type": "stream",
          "text": [
            "\u001b[1m\n",
            "R2 score is  0.78\n",
            "\u001b[1m\n",
            "Adjusted R2 score is  0.75\n",
            "\u001b[1m\n",
            "Mean Absolute Error is 30619.87\n",
            "\u001b[1m\n",
            "Mean Squared Error is 2066902252.04\n",
            "\u001b[1m\n",
            "Root Mean Squared Error is 45463.2\n"
          ],
          "name": "stdout"
        }
      ]
    },
    {
      "cell_type": "markdown",
      "metadata": {
        "id": "BlhhyCA6EJYw"
      },
      "source": [
        "### CatBoost Tuning"
      ]
    },
    {
      "cell_type": "code",
      "metadata": {
        "colab": {
          "base_uri": "https://localhost:8080/"
        },
        "id": "mvo9-WUNENLZ",
        "outputId": "d7ba8706-7d45-4f75-8dc4-ab8afdafce14"
      },
      "source": [
        "#Randomized Search CV\n",
        "n_estimators = [int(x) for x in np.linspace(start = 5 , stop = 150, num = 2)]\n",
        "\n",
        "max_depth = [int(x) for x in np.linspace(2, 120, num = 2)] \n",
        "\n",
        "max_depth.append(None)\n",
        "\n",
        "grid = {'n_estimators': n_estimators, 'learning_rate' : np.linspace(0,0.3,5)}\n",
        "\n",
        "print(grid)"
      ],
      "execution_count": 66,
      "outputs": [
        {
          "output_type": "stream",
          "text": [
            "{'n_estimators': [5, 150], 'learning_rate': array([0.   , 0.075, 0.15 , 0.225, 0.3  ])}\n"
          ],
          "name": "stdout"
        }
      ]
    },
    {
      "cell_type": "code",
      "metadata": {
        "colab": {
          "base_uri": "https://localhost:8080/"
        },
        "id": "F3SD5g8FEXBN",
        "outputId": "3f81b6c1-4f0a-47e4-90e0-2f744bc2e9e7"
      },
      "source": [
        "rscv = RandomizedSearchCV(      estimator=cat, \n",
        "                                param_distributions=grid, \n",
        "                                n_iter = 10, \n",
        "                                scoring='r2',\n",
        "                                cv = 5, \n",
        "                                verbose=0, \n",
        "                                random_state=42,\n",
        "                                n_jobs=-1,\n",
        "                                return_train_score=True)\n",
        "\n",
        "rscv.fit(X_train, y_train)"
      ],
      "execution_count": 67,
      "outputs": [
        {
          "output_type": "stream",
          "text": [
            "0:\tlearn: 83283.5528463\ttotal: 5.46ms\tremaining: 814ms\n",
            "1:\tlearn: 74815.2702128\ttotal: 9.71ms\tremaining: 719ms\n",
            "2:\tlearn: 68786.9245066\ttotal: 13.9ms\tremaining: 683ms\n",
            "3:\tlearn: 64809.0868478\ttotal: 18.2ms\tremaining: 663ms\n",
            "4:\tlearn: 62047.3669251\ttotal: 22.3ms\tremaining: 647ms\n",
            "5:\tlearn: 60227.0572188\ttotal: 26.3ms\tremaining: 631ms\n",
            "6:\tlearn: 58903.8437870\ttotal: 31.3ms\tremaining: 640ms\n",
            "7:\tlearn: 57937.7155324\ttotal: 35.5ms\tremaining: 631ms\n",
            "8:\tlearn: 56655.2076679\ttotal: 40ms\tremaining: 626ms\n",
            "9:\tlearn: 55807.8175606\ttotal: 44.6ms\tremaining: 625ms\n",
            "10:\tlearn: 55255.1167639\ttotal: 48.9ms\tremaining: 617ms\n",
            "11:\tlearn: 54120.7773063\ttotal: 53.1ms\tremaining: 611ms\n",
            "12:\tlearn: 53778.2217370\ttotal: 57.4ms\tremaining: 605ms\n",
            "13:\tlearn: 53332.3107373\ttotal: 61.5ms\tremaining: 597ms\n",
            "14:\tlearn: 52412.3358508\ttotal: 65.5ms\tremaining: 590ms\n",
            "15:\tlearn: 51989.3916508\ttotal: 69.7ms\tremaining: 584ms\n",
            "16:\tlearn: 51685.0071333\ttotal: 74.2ms\tremaining: 581ms\n",
            "17:\tlearn: 51350.5457254\ttotal: 78.4ms\tremaining: 575ms\n",
            "18:\tlearn: 51047.8921539\ttotal: 82.7ms\tremaining: 570ms\n",
            "19:\tlearn: 50743.2930397\ttotal: 87ms\tremaining: 565ms\n",
            "20:\tlearn: 50528.9518245\ttotal: 91.1ms\tremaining: 560ms\n",
            "21:\tlearn: 50097.4034737\ttotal: 95.6ms\tremaining: 556ms\n",
            "22:\tlearn: 49759.5775204\ttotal: 99.7ms\tremaining: 550ms\n",
            "23:\tlearn: 49547.9608850\ttotal: 104ms\tremaining: 545ms\n",
            "24:\tlearn: 49282.8872715\ttotal: 108ms\tremaining: 540ms\n",
            "25:\tlearn: 48745.6921414\ttotal: 112ms\tremaining: 535ms\n",
            "26:\tlearn: 48537.0853164\ttotal: 116ms\tremaining: 530ms\n",
            "27:\tlearn: 48364.1025853\ttotal: 121ms\tremaining: 525ms\n",
            "28:\tlearn: 48089.9550701\ttotal: 125ms\tremaining: 521ms\n",
            "29:\tlearn: 47857.5950665\ttotal: 129ms\tremaining: 517ms\n",
            "30:\tlearn: 47596.4071487\ttotal: 133ms\tremaining: 512ms\n",
            "31:\tlearn: 47389.5158722\ttotal: 138ms\tremaining: 508ms\n",
            "32:\tlearn: 47190.6220406\ttotal: 142ms\tremaining: 504ms\n",
            "33:\tlearn: 46923.1318177\ttotal: 146ms\tremaining: 499ms\n",
            "34:\tlearn: 46593.6680131\ttotal: 151ms\tremaining: 495ms\n",
            "35:\tlearn: 46269.5383033\ttotal: 155ms\tremaining: 491ms\n",
            "36:\tlearn: 46067.6173918\ttotal: 159ms\tremaining: 486ms\n",
            "37:\tlearn: 45913.1906245\ttotal: 163ms\tremaining: 481ms\n",
            "38:\tlearn: 45750.7740700\ttotal: 167ms\tremaining: 476ms\n",
            "39:\tlearn: 45587.4679922\ttotal: 172ms\tremaining: 472ms\n",
            "40:\tlearn: 45419.0280085\ttotal: 176ms\tremaining: 467ms\n",
            "41:\tlearn: 45230.0614912\ttotal: 180ms\tremaining: 463ms\n",
            "42:\tlearn: 45102.1422620\ttotal: 184ms\tremaining: 458ms\n",
            "43:\tlearn: 44962.5433313\ttotal: 188ms\tremaining: 453ms\n",
            "44:\tlearn: 44808.7608740\ttotal: 192ms\tremaining: 449ms\n",
            "45:\tlearn: 44628.1282308\ttotal: 202ms\tremaining: 457ms\n",
            "46:\tlearn: 44457.5552930\ttotal: 207ms\tremaining: 453ms\n",
            "47:\tlearn: 44325.3500269\ttotal: 211ms\tremaining: 449ms\n",
            "48:\tlearn: 44094.9215277\ttotal: 216ms\tremaining: 444ms\n",
            "49:\tlearn: 43952.1786504\ttotal: 220ms\tremaining: 440ms\n",
            "50:\tlearn: 43623.9819042\ttotal: 224ms\tremaining: 435ms\n",
            "51:\tlearn: 43512.3228684\ttotal: 229ms\tremaining: 432ms\n",
            "52:\tlearn: 43393.6218658\ttotal: 234ms\tremaining: 428ms\n",
            "53:\tlearn: 43212.3017911\ttotal: 242ms\tremaining: 430ms\n",
            "54:\tlearn: 43083.0096396\ttotal: 247ms\tremaining: 427ms\n",
            "55:\tlearn: 42959.2438486\ttotal: 252ms\tremaining: 423ms\n",
            "56:\tlearn: 42881.5374465\ttotal: 259ms\tremaining: 422ms\n",
            "57:\tlearn: 42735.9894254\ttotal: 263ms\tremaining: 418ms\n",
            "58:\tlearn: 42581.7764818\ttotal: 269ms\tremaining: 414ms\n",
            "59:\tlearn: 42455.6917906\ttotal: 273ms\tremaining: 409ms\n",
            "60:\tlearn: 42356.7798651\ttotal: 277ms\tremaining: 404ms\n",
            "61:\tlearn: 42297.5123465\ttotal: 281ms\tremaining: 399ms\n",
            "62:\tlearn: 42089.4976518\ttotal: 285ms\tremaining: 394ms\n",
            "63:\tlearn: 41953.7234003\ttotal: 290ms\tremaining: 389ms\n",
            "64:\tlearn: 41891.7146208\ttotal: 294ms\tremaining: 384ms\n",
            "65:\tlearn: 41807.4421699\ttotal: 298ms\tremaining: 379ms\n",
            "66:\tlearn: 41652.8238869\ttotal: 302ms\tremaining: 375ms\n",
            "67:\tlearn: 41552.4329773\ttotal: 307ms\tremaining: 370ms\n",
            "68:\tlearn: 41395.4361649\ttotal: 314ms\tremaining: 369ms\n",
            "69:\tlearn: 41231.4080635\ttotal: 319ms\tremaining: 364ms\n",
            "70:\tlearn: 41158.8901845\ttotal: 323ms\tremaining: 359ms\n",
            "71:\tlearn: 41067.8198502\ttotal: 327ms\tremaining: 354ms\n",
            "72:\tlearn: 40933.7439506\ttotal: 331ms\tremaining: 349ms\n",
            "73:\tlearn: 40842.9463103\ttotal: 335ms\tremaining: 344ms\n",
            "74:\tlearn: 40765.3236005\ttotal: 339ms\tremaining: 339ms\n",
            "75:\tlearn: 40670.8581769\ttotal: 344ms\tremaining: 335ms\n",
            "76:\tlearn: 40528.4902260\ttotal: 348ms\tremaining: 330ms\n",
            "77:\tlearn: 40401.5565310\ttotal: 353ms\tremaining: 325ms\n",
            "78:\tlearn: 40290.2821825\ttotal: 357ms\tremaining: 321ms\n",
            "79:\tlearn: 40188.2819574\ttotal: 361ms\tremaining: 316ms\n",
            "80:\tlearn: 40093.2346106\ttotal: 365ms\tremaining: 311ms\n",
            "81:\tlearn: 40021.2661099\ttotal: 370ms\tremaining: 307ms\n",
            "82:\tlearn: 39979.3736999\ttotal: 374ms\tremaining: 302ms\n",
            "83:\tlearn: 39842.4813420\ttotal: 378ms\tremaining: 297ms\n",
            "84:\tlearn: 39791.4335205\ttotal: 383ms\tremaining: 293ms\n",
            "85:\tlearn: 39725.7692352\ttotal: 387ms\tremaining: 288ms\n",
            "86:\tlearn: 39578.0414880\ttotal: 396ms\tremaining: 286ms\n",
            "87:\tlearn: 39541.7890536\ttotal: 400ms\tremaining: 282ms\n",
            "88:\tlearn: 39427.6534513\ttotal: 405ms\tremaining: 277ms\n",
            "89:\tlearn: 39328.0740802\ttotal: 409ms\tremaining: 273ms\n",
            "90:\tlearn: 39206.7800420\ttotal: 413ms\tremaining: 268ms\n",
            "91:\tlearn: 39141.8267612\ttotal: 418ms\tremaining: 263ms\n",
            "92:\tlearn: 39045.3197908\ttotal: 422ms\tremaining: 258ms\n",
            "93:\tlearn: 38973.7290310\ttotal: 426ms\tremaining: 254ms\n",
            "94:\tlearn: 38858.2172772\ttotal: 431ms\tremaining: 249ms\n",
            "95:\tlearn: 38786.5738594\ttotal: 435ms\tremaining: 245ms\n",
            "96:\tlearn: 38726.6212610\ttotal: 439ms\tremaining: 240ms\n",
            "97:\tlearn: 38656.5137727\ttotal: 443ms\tremaining: 235ms\n",
            "98:\tlearn: 38581.9676882\ttotal: 448ms\tremaining: 231ms\n",
            "99:\tlearn: 38480.0427544\ttotal: 452ms\tremaining: 226ms\n",
            "100:\tlearn: 38404.2890936\ttotal: 457ms\tremaining: 222ms\n",
            "101:\tlearn: 38315.5505545\ttotal: 462ms\tremaining: 217ms\n",
            "102:\tlearn: 38220.0075114\ttotal: 466ms\tremaining: 213ms\n",
            "103:\tlearn: 38167.7121838\ttotal: 471ms\tremaining: 208ms\n",
            "104:\tlearn: 38073.4886389\ttotal: 475ms\tremaining: 204ms\n",
            "105:\tlearn: 37983.0501461\ttotal: 479ms\tremaining: 199ms\n",
            "106:\tlearn: 37915.0884265\ttotal: 484ms\tremaining: 194ms\n",
            "107:\tlearn: 37821.4551809\ttotal: 488ms\tremaining: 190ms\n",
            "108:\tlearn: 37743.9451965\ttotal: 493ms\tremaining: 185ms\n",
            "109:\tlearn: 37704.7348471\ttotal: 497ms\tremaining: 181ms\n",
            "110:\tlearn: 37647.2355167\ttotal: 502ms\tremaining: 176ms\n",
            "111:\tlearn: 37596.4720499\ttotal: 506ms\tremaining: 172ms\n",
            "112:\tlearn: 37515.6670453\ttotal: 511ms\tremaining: 167ms\n",
            "113:\tlearn: 37439.2189458\ttotal: 515ms\tremaining: 163ms\n",
            "114:\tlearn: 37387.1674908\ttotal: 521ms\tremaining: 158ms\n",
            "115:\tlearn: 37346.5161796\ttotal: 525ms\tremaining: 154ms\n",
            "116:\tlearn: 37308.6137608\ttotal: 530ms\tremaining: 149ms\n",
            "117:\tlearn: 37236.1139424\ttotal: 535ms\tremaining: 145ms\n",
            "118:\tlearn: 37160.1867857\ttotal: 539ms\tremaining: 141ms\n",
            "119:\tlearn: 37091.7247104\ttotal: 544ms\tremaining: 136ms\n",
            "120:\tlearn: 37035.3291580\ttotal: 548ms\tremaining: 131ms\n",
            "121:\tlearn: 36962.4145516\ttotal: 552ms\tremaining: 127ms\n",
            "122:\tlearn: 36899.5450122\ttotal: 557ms\tremaining: 122ms\n",
            "123:\tlearn: 36834.3293989\ttotal: 562ms\tremaining: 118ms\n",
            "124:\tlearn: 36750.8725403\ttotal: 566ms\tremaining: 113ms\n",
            "125:\tlearn: 36701.0915678\ttotal: 570ms\tremaining: 109ms\n",
            "126:\tlearn: 36669.5311264\ttotal: 574ms\tremaining: 104ms\n",
            "127:\tlearn: 36623.7213540\ttotal: 579ms\tremaining: 99.5ms\n",
            "128:\tlearn: 36476.3109058\ttotal: 583ms\tremaining: 94.9ms\n",
            "129:\tlearn: 36419.8724677\ttotal: 591ms\tremaining: 91ms\n",
            "130:\tlearn: 36337.6646314\ttotal: 597ms\tremaining: 86.6ms\n",
            "131:\tlearn: 36255.3564157\ttotal: 601ms\tremaining: 82ms\n",
            "132:\tlearn: 36169.4055678\ttotal: 608ms\tremaining: 77.8ms\n",
            "133:\tlearn: 36121.7949153\ttotal: 615ms\tremaining: 73.4ms\n",
            "134:\tlearn: 36094.4320909\ttotal: 619ms\tremaining: 68.8ms\n",
            "135:\tlearn: 36042.2243400\ttotal: 624ms\tremaining: 64.2ms\n",
            "136:\tlearn: 35978.5384775\ttotal: 628ms\tremaining: 59.6ms\n",
            "137:\tlearn: 35930.6924761\ttotal: 633ms\tremaining: 55ms\n",
            "138:\tlearn: 35891.1494942\ttotal: 637ms\tremaining: 50.4ms\n",
            "139:\tlearn: 35840.3825997\ttotal: 642ms\tremaining: 45.9ms\n",
            "140:\tlearn: 35787.5972439\ttotal: 646ms\tremaining: 41.3ms\n",
            "141:\tlearn: 35728.0643703\ttotal: 651ms\tremaining: 36.7ms\n",
            "142:\tlearn: 35580.3476340\ttotal: 655ms\tremaining: 32.1ms\n",
            "143:\tlearn: 35501.3188150\ttotal: 660ms\tremaining: 27.5ms\n",
            "144:\tlearn: 35421.8453094\ttotal: 664ms\tremaining: 22.9ms\n",
            "145:\tlearn: 35337.2690496\ttotal: 669ms\tremaining: 18.3ms\n",
            "146:\tlearn: 35275.0210921\ttotal: 673ms\tremaining: 13.7ms\n",
            "147:\tlearn: 35216.3109620\ttotal: 679ms\tremaining: 9.18ms\n",
            "148:\tlearn: 35146.1316924\ttotal: 684ms\tremaining: 4.59ms\n",
            "149:\tlearn: 35082.2072446\ttotal: 689ms\tremaining: 0us\n"
          ],
          "name": "stdout"
        },
        {
          "output_type": "execute_result",
          "data": {
            "text/plain": [
              "RandomizedSearchCV(cv=5, error_score=nan,\n",
              "                   estimator=<catboost.core.CatBoostRegressor object at 0x7fcc9e668950>,\n",
              "                   iid='deprecated', n_iter=10, n_jobs=-1,\n",
              "                   param_distributions={'learning_rate': array([0.   , 0.075, 0.15 , 0.225, 0.3  ]),\n",
              "                                        'n_estimators': [5, 150]},\n",
              "                   pre_dispatch='2*n_jobs', random_state=42, refit=True,\n",
              "                   return_train_score=True, scoring='r2', verbose=0)"
            ]
          },
          "metadata": {
            "tags": []
          },
          "execution_count": 67
        }
      ]
    },
    {
      "cell_type": "code",
      "metadata": {
        "colab": {
          "base_uri": "https://localhost:8080/"
        },
        "id": "hKxz1qm5EaZj",
        "outputId": "7500d759-d91b-49d6-bb8f-7979f8e0bfc1"
      },
      "source": [
        "# summarize result\n",
        "print(rscv.best_params_)\n",
        "print(rscv.score(X_test , y_test))"
      ],
      "execution_count": 68,
      "outputs": [
        {
          "output_type": "stream",
          "text": [
            "{'n_estimators': 150, 'learning_rate': 0.3}\n",
            "0.7998492587728515\n"
          ],
          "name": "stdout"
        }
      ]
    },
    {
      "cell_type": "code",
      "metadata": {
        "colab": {
          "base_uri": "https://localhost:8080/"
        },
        "id": "ixsqP3IIEeAp",
        "outputId": "5ec8c227-89a8-4e9c-d9af-1a69e8a12307"
      },
      "source": [
        "#Predict on test data\n",
        "y_pred = rscv.predict(X_test)\n",
        "\n",
        "#Metrics Calculation\n",
        "r2 = round(metrics.r2_score(y_test, y_pred),2)\n",
        "Adj_r2 = round(1-(1-r2)*(9-1)/(9-1-1),2)\n",
        "\n",
        "#Display results\n",
        "print(color.BOLD + '\\nR2 score is ',r2)\n",
        "\n",
        "print(color.BOLD + '\\nAdjusted R2 score is ',Adj_r2)\n",
        "\n",
        "print(color.BOLD + '\\nMean Absolute Error is',round(metrics.mean_absolute_error(y_test,rscv.predict(X_test)),2))\n",
        "\n",
        "print(color.BOLD + '\\nMean Squared Error is',round(metrics.mean_squared_error(y_test,rscv.predict(X_test)),2))\n",
        "\n",
        "print(color.BOLD + '\\nRoot Mean Squared Error is',round(np.sqrt(mean_squared_error(y_test,rscv.predict(X_test))),2))"
      ],
      "execution_count": 69,
      "outputs": [
        {
          "output_type": "stream",
          "text": [
            "\u001b[1m\n",
            "R2 score is  0.8\n",
            "\u001b[1m\n",
            "Adjusted R2 score is  0.77\n",
            "\u001b[1m\n",
            "Mean Absolute Error is 30108.2\n",
            "\u001b[1m\n",
            "Mean Squared Error is 1932297731.82\n",
            "\u001b[1m\n",
            "Root Mean Squared Error is 43957.91\n"
          ],
          "name": "stdout"
        }
      ]
    },
    {
      "cell_type": "markdown",
      "metadata": {
        "id": "iwS1FfCANahe"
      },
      "source": [
        "### Light GBM Tuning"
      ]
    },
    {
      "cell_type": "code",
      "metadata": {
        "colab": {
          "base_uri": "https://localhost:8080/"
        },
        "id": "XXehILI_L8Zq",
        "outputId": "36210654-e41f-4c82-86a9-22a916a0b02b"
      },
      "source": [
        "#Randomized Search CV\n",
        "n_estimators = [int(x) for x in np.linspace(start = 5 , stop = 350, num = 2)]\n",
        "\n",
        "max_depth = [int(x) for x in np.linspace(3, 450, num = 3)] \n",
        "\n",
        "max_depth.append(None)\n",
        "\n",
        "grid = {'n_estimators': n_estimators,'learning_rate' : np.linspace(0,0.5,5)}\n",
        "\n",
        "print(grid)"
      ],
      "execution_count": 70,
      "outputs": [
        {
          "output_type": "stream",
          "text": [
            "{'n_estimators': [5, 350], 'learning_rate': array([0.   , 0.125, 0.25 , 0.375, 0.5  ])}\n"
          ],
          "name": "stdout"
        }
      ]
    },
    {
      "cell_type": "code",
      "metadata": {
        "colab": {
          "base_uri": "https://localhost:8080/"
        },
        "id": "FcTBU4HKMQy2",
        "outputId": "29f5bae7-1282-42e1-fa3a-28172d6d85e4"
      },
      "source": [
        "rscv = RandomizedSearchCV(      estimator=lg, \n",
        "                                param_distributions=grid, \n",
        "                                n_iter = 15, \n",
        "                                scoring='r2',\n",
        "                                cv = 10, \n",
        "                                verbose=0, \n",
        "                                random_state=42,\n",
        "                                n_jobs=-1,\n",
        "                                return_train_score=True)\n",
        "\n",
        "rscv.fit(X_train, y_train)"
      ],
      "execution_count": 71,
      "outputs": [
        {
          "output_type": "stream",
          "text": [
            "/usr/local/lib/python3.7/dist-packages/sklearn/model_selection/_search.py:281: UserWarning: The total space of parameters 10 is smaller than n_iter=15. Running 10 iterations. For exhaustive searches, use GridSearchCV.\n",
            "  % (grid_size, self.n_iter, grid_size), UserWarning)\n"
          ],
          "name": "stderr"
        },
        {
          "output_type": "execute_result",
          "data": {
            "text/plain": [
              "RandomizedSearchCV(cv=10, error_score=nan,\n",
              "                   estimator=LGBMRegressor(boosting_type='gbdt',\n",
              "                                           class_weight=None,\n",
              "                                           colsample_bytree=1.0,\n",
              "                                           importance_type='split',\n",
              "                                           learning_rate=0.1, max_depth=-1,\n",
              "                                           min_child_samples=20,\n",
              "                                           min_child_weight=0.001,\n",
              "                                           min_split_gain=0.0, n_estimators=100,\n",
              "                                           n_jobs=-1, num_leaves=31,\n",
              "                                           objective=None, random_state=None,\n",
              "                                           reg_alpha=0.0, reg_lambda=0.0,\n",
              "                                           silent=True, subsample=1.0,\n",
              "                                           subsample_for_bin=200000,\n",
              "                                           subsample_freq=0),\n",
              "                   iid='deprecated', n_iter=15, n_jobs=-1,\n",
              "                   param_distributions={'learning_rate': array([0.   , 0.125, 0.25 , 0.375, 0.5  ]),\n",
              "                                        'n_estimators': [5, 350]},\n",
              "                   pre_dispatch='2*n_jobs', random_state=42, refit=True,\n",
              "                   return_train_score=True, scoring='r2', verbose=0)"
            ]
          },
          "metadata": {
            "tags": []
          },
          "execution_count": 71
        }
      ]
    },
    {
      "cell_type": "code",
      "metadata": {
        "colab": {
          "base_uri": "https://localhost:8080/"
        },
        "id": "6oUoP6ESMFMC",
        "outputId": "694a2a91-dc36-4165-f8ee-fb5a01cc2bcb"
      },
      "source": [
        "# summarize result\n",
        "print(rscv.best_params_)\n",
        "print(rscv.score(X_test , y_test))"
      ],
      "execution_count": 72,
      "outputs": [
        {
          "output_type": "stream",
          "text": [
            "{'n_estimators': 350, 'learning_rate': 0.125}\n",
            "0.8066438082211866\n"
          ],
          "name": "stdout"
        }
      ]
    },
    {
      "cell_type": "code",
      "metadata": {
        "colab": {
          "base_uri": "https://localhost:8080/"
        },
        "id": "c_l6LsUYMHRX",
        "outputId": "22696190-2e1c-4439-9a49-77ef1823f9eb"
      },
      "source": [
        "#Predict on test data\n",
        "y_pred = rscv.predict(X_test)\n",
        "\n",
        "#Metrics Calculation\n",
        "r2 = round(metrics.r2_score(y_test, y_pred),2)\n",
        "Adj_r2 = round(1-(1-r2)*(9-1)/(9-1-1),2)\n",
        "\n",
        "#Display results\n",
        "print(color.BOLD + '\\nR2 score is ',r2)\n",
        "\n",
        "print(color.BOLD + '\\nAdjusted R2 score is ',Adj_r2)\n",
        "\n",
        "print(color.BOLD + '\\nMean Absolute Error is',round(metrics.mean_absolute_error(y_test,rscv.predict(X_test)),2))\n",
        "\n",
        "print(color.BOLD + '\\nMean Squared Error is',round(metrics.mean_squared_error(y_test,rscv.predict(X_test)),2))\n",
        "\n",
        "print(color.BOLD + '\\nRoot Mean Squared Error is',round(np.sqrt(mean_squared_error(y_test,rscv.predict(X_test))),2))"
      ],
      "execution_count": 73,
      "outputs": [
        {
          "output_type": "stream",
          "text": [
            "\u001b[1m\n",
            "R2 score is  0.81\n",
            "\u001b[1m\n",
            "Adjusted R2 score is  0.78\n",
            "\u001b[1m\n",
            "Mean Absolute Error is 28981.8\n",
            "\u001b[1m\n",
            "Mean Squared Error is 1866701709.51\n",
            "\u001b[1m\n",
            "Root Mean Squared Error is 43205.34\n"
          ],
          "name": "stdout"
        }
      ]
    },
    {
      "cell_type": "markdown",
      "metadata": {
        "id": "64BPpQR-27-b"
      },
      "source": [
        "### Exporting the Model"
      ]
    },
    {
      "cell_type": "markdown",
      "metadata": {
        "id": "zPvnVPK9NwSx"
      },
      "source": [
        "\n",
        "\n",
        "> Based on hyperparameter tuning, we can either choose Catboost or LightGBM(top-performer)\n",
        "\n"
      ]
    },
    {
      "cell_type": "code",
      "metadata": {
        "id": "Kk6fLKUpExO6",
        "colab": {
          "base_uri": "https://localhost:8080/"
        },
        "outputId": "d1836503-1822-4145-85da-1d9b9f979059"
      },
      "source": [
        "#Exporting the model using joblib library\n",
        "import joblib\n",
        "joblib.dump(lg,\"California_Model.pkl\")"
      ],
      "execution_count": 74,
      "outputs": [
        {
          "output_type": "execute_result",
          "data": {
            "text/plain": [
              "['California_Model.pkl']"
            ]
          },
          "metadata": {
            "tags": []
          },
          "execution_count": 74
        }
      ]
    }
  ]
}